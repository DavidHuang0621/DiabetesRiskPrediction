{
 "cells": [
  {
   "cell_type": "code",
   "execution_count": 2,
   "metadata": {},
   "outputs": [],
   "source": [
    "import pandas as pd\n",
    "import numpy as np"
   ]
  },
  {
   "cell_type": "code",
   "execution_count": 3,
   "metadata": {},
   "outputs": [],
   "source": [
    "filename = './positiveSamples/AP.csv'\n",
    "#savename = './test/AP'"
   ]
  },
  {
   "cell_type": "code",
   "execution_count": 4,
   "metadata": {},
   "outputs": [],
   "source": [
    "# TODO: \n",
    "# 1. Choose better negative sample (ppl with no complications)\n",
    "# 2. Try different complications and subset broader\n",
    "# 3. Subset patients with less than 4 visits\n",
    "# 4. Preprocess Lab results earlier"
   ]
  },
  {
   "cell_type": "code",
   "execution_count": 5,
   "metadata": {},
   "outputs": [],
   "source": [
    "# Filtering and processing\n",
    "# 1. Combine lab and exam sheets\n",
    "# 2. Lab by 18 desired tests\n",
    "# 3. Coerce lab & exam values to float\n",
    "# 4. Remove null for date performed \n",
    "# 5. Interquartile ranges\n",
    "# 6. Datetime\n",
    "\n",
    "# 7. Disease period range\n",
    "# 8. Remove redundent visits\n",
    "# 9. 3 < n < 51\n"
   ]
  },
  {
   "cell_type": "markdown",
   "metadata": {},
   "source": [
    "## Modified Start using clean Lab/Exam sheet"
   ]
  },
  {
   "cell_type": "code",
   "execution_count": 6,
   "metadata": {},
   "outputs": [
    {
     "data": {
      "text/plain": [
       "Hemoglobin (Hb)                                        1276642\n",
       "Hemoglobin A1c (HbA1c)                                 1269975\n",
       "Platelets in Blood (PLT)                               1000336\n",
       "Leukocytes in Blood (WBC)                               997770\n",
       "Erythrocytes in Blood (RBC)                             951110\n",
       "Plasma Creatinine Clearance (eGFR)                      936623\n",
       "Total Cholesterol (TCh)                                 826151\n",
       "BMI (kg/m^2)                                            793064\n",
       "Alanine Aminotransferase in Serum or Plasma (ALT)       743651\n",
       "Fasting Blood Glucose (FBG)                             659506\n",
       "Aspartate Aminotransferase in Serum or Plasma (AST)     258311\n",
       "Total Bilirubin (TBIL)                                  243388\n",
       "Gamma Glutamyl Transferase in Serum or Plasma (GGT)     144289\n",
       "Sodium (mM)                                             122764\n",
       "Potassium (mM)                                          116961\n",
       "Urea (mM)                                                60893\n",
       "Albumin (g/L)                                            20464\n",
       "Name: Name_calc, dtype: int64"
      ]
     },
     "execution_count": 6,
     "metadata": {},
     "output_type": "execute_result"
    }
   ],
   "source": [
    "#experimental new code\n",
    "lab = pd.read_csv('FullData/LabExamCleanO10K.csv')\n",
    "DiseaseCase = pd.read_csv(\"FullData/DiseaseCase.csv\")\n",
    "# uses different lab tests based on biggest diff. between pos and neg pat sets\n",
    "tests = ['Alanine Aminotransferase in Serum or Plasma (ALT)',\n",
    "              'Aspartate Aminotransferase in Serum or Plasma (AST)',\n",
    "              'Urea (mM)',\n",
    "              'Plasma Creatinine Clearance (eGFR)',\n",
    "              'Potassium (mM)',\n",
    "              'Sodium (mM)',\n",
    "              'Gamma Glutamyl Transferase in Serum or Plasma (GGT)',\n",
    "              'Leukocytes in Blood (WBC)',\n",
    "              'Protein, total (g/L)',\n",
    "              'Total Cholesterol (TCh)',\n",
    "              'Total Bilirubin (TBIL)',\n",
    "              'Platelets in Blood (PLT)',\n",
    "              'Fasting Blood Glucose (FBG)',\n",
    "              'Hemoglobin (Hb)',\n",
    "              'Erythrocytes in Blood (RBC)',\n",
    "              'Albumin (g/L)',\n",
    "              'Hemoglobin A1c (HbA1c)',\n",
    "              'BMI (kg/m^2)']\n",
    "lab = lab.loc[lab.Name_calc.isin(tests)]\n",
    "lab['Name_calc'].value_counts()"
   ]
  },
  {
   "cell_type": "code",
   "execution_count": 7,
   "metadata": {},
   "outputs": [],
   "source": [
    "# 6. Datetime\n",
    "lab['PerformedDate'] = pd.to_datetime(lab.PerformedDate,format='%Y-%m-%d')"
   ]
  },
  {
   "cell_type": "code",
   "execution_count": 8,
   "metadata": {},
   "outputs": [
    {
     "name": "stdout",
     "output_type": "stream",
     "text": [
      "315405 Index(['Unnamed: 0', 'Patient_ID', 'PerformedDate', 'Name_calc',\n",
      "       'TestResult_calc', 'UnitOfMeasure_calc', 'CompOnset', 'DateOfOnset'],\n",
      "      dtype='object')\n"
     ]
    },
    {
     "data": {
      "text/html": [
       "<div>\n",
       "<style scoped>\n",
       "    .dataframe tbody tr th:only-of-type {\n",
       "        vertical-align: middle;\n",
       "    }\n",
       "\n",
       "    .dataframe tbody tr th {\n",
       "        vertical-align: top;\n",
       "    }\n",
       "\n",
       "    .dataframe thead th {\n",
       "        text-align: right;\n",
       "    }\n",
       "</style>\n",
       "<table border=\"1\" class=\"dataframe\">\n",
       "  <thead>\n",
       "    <tr style=\"text-align: right;\">\n",
       "      <th></th>\n",
       "      <th>Unnamed: 0</th>\n",
       "      <th>Patient_ID</th>\n",
       "      <th>PerformedDate</th>\n",
       "      <th>Name_calc</th>\n",
       "      <th>TestResult_calc</th>\n",
       "      <th>UnitOfMeasure_calc</th>\n",
       "      <th>CompOnset</th>\n",
       "      <th>DateOfOnset</th>\n",
       "    </tr>\n",
       "  </thead>\n",
       "  <tbody>\n",
       "    <tr>\n",
       "      <th>0</th>\n",
       "      <td>8</td>\n",
       "      <td>1000100164719</td>\n",
       "      <td>2013-10-11</td>\n",
       "      <td>Platelets in Blood (PLT)</td>\n",
       "      <td>225.0</td>\n",
       "      <td>10^9/L</td>\n",
       "      <td>2019-07-25</td>\n",
       "      <td>2013-03-26</td>\n",
       "    </tr>\n",
       "    <tr>\n",
       "      <th>1</th>\n",
       "      <td>9</td>\n",
       "      <td>1000100164719</td>\n",
       "      <td>2013-09-22</td>\n",
       "      <td>Platelets in Blood (PLT)</td>\n",
       "      <td>243.0</td>\n",
       "      <td>10^9/L</td>\n",
       "      <td>2019-07-25</td>\n",
       "      <td>2013-03-26</td>\n",
       "    </tr>\n",
       "    <tr>\n",
       "      <th>2</th>\n",
       "      <td>17</td>\n",
       "      <td>1000100164719</td>\n",
       "      <td>2016-02-22</td>\n",
       "      <td>Leukocytes in Blood (WBC)</td>\n",
       "      <td>6.2</td>\n",
       "      <td>10^9/L</td>\n",
       "      <td>2019-07-25</td>\n",
       "      <td>2013-03-26</td>\n",
       "    </tr>\n",
       "    <tr>\n",
       "      <th>3</th>\n",
       "      <td>22</td>\n",
       "      <td>1000100164719</td>\n",
       "      <td>2016-09-12</td>\n",
       "      <td>Hemoglobin A1c (HbA1c)</td>\n",
       "      <td>7.1</td>\n",
       "      <td>%</td>\n",
       "      <td>2019-07-25</td>\n",
       "      <td>2013-03-26</td>\n",
       "    </tr>\n",
       "    <tr>\n",
       "      <th>4</th>\n",
       "      <td>24</td>\n",
       "      <td>1000100164719</td>\n",
       "      <td>2013-10-11</td>\n",
       "      <td>Erythrocytes in Blood (RBC)</td>\n",
       "      <td>5.0</td>\n",
       "      <td>10^12/L</td>\n",
       "      <td>2019-07-25</td>\n",
       "      <td>2013-03-26</td>\n",
       "    </tr>\n",
       "  </tbody>\n",
       "</table>\n",
       "</div>"
      ],
      "text/plain": [
       "   Unnamed: 0     Patient_ID PerformedDate                    Name_calc  \\\n",
       "0           8  1000100164719    2013-10-11     Platelets in Blood (PLT)   \n",
       "1           9  1000100164719    2013-09-22     Platelets in Blood (PLT)   \n",
       "2          17  1000100164719    2016-02-22    Leukocytes in Blood (WBC)   \n",
       "3          22  1000100164719    2016-09-12       Hemoglobin A1c (HbA1c)   \n",
       "4          24  1000100164719    2013-10-11  Erythrocytes in Blood (RBC)   \n",
       "\n",
       "   TestResult_calc UnitOfMeasure_calc   CompOnset DateOfOnset  \n",
       "0            225.0             10^9/L  2019-07-25  2013-03-26  \n",
       "1            243.0             10^9/L  2019-07-25  2013-03-26  \n",
       "2              6.2             10^9/L  2019-07-25  2013-03-26  \n",
       "3              7.1                  %  2019-07-25  2013-03-26  \n",
       "4              5.0            10^12/L  2019-07-25  2013-03-26  "
      ]
     },
     "execution_count": 8,
     "metadata": {},
     "output_type": "execute_result"
    }
   ],
   "source": [
    "disease_periods = pd.read_csv(filename, index_col=None)\n",
    "disease_periods = disease_periods.drop(disease_periods.columns[0], axis=1)\n",
    "#if len(disease_periods) > 2000:\n",
    " #   disease_periods = disease_periods.iloc[0:2000]\n",
    "patient_records = lab.loc[lab['Patient_ID'].isin(disease_periods['Patient_ID'])]\n",
    "patient_records = pd.merge(patient_records, disease_periods, on='Patient_ID')\n",
    "print(len(patient_records.index),patient_records.columns)\n",
    "patient_records.head()"
   ]
  },
  {
   "cell_type": "code",
   "execution_count": 9,
   "metadata": {},
   "outputs": [],
   "source": [
    "relVisits = patient_records"
   ]
  },
  {
   "cell_type": "code",
   "execution_count": 10,
   "metadata": {},
   "outputs": [],
   "source": [
    "relVisits.CompOnset = pd.to_datetime(relVisits.CompOnset,format='%Y-%m-%d')\n",
    "relVisits.DateOfOnset = pd.to_datetime(relVisits.DateOfOnset,format='%Y-%m-%d')"
   ]
  },
  {
   "cell_type": "code",
   "execution_count": 11,
   "metadata": {},
   "outputs": [
    {
     "data": {
      "text/plain": [
       "111683"
      ]
     },
     "execution_count": 11,
     "metadata": {},
     "output_type": "execute_result"
    }
   ],
   "source": [
    "relVisits = patient_records[(patient_records['PerformedDate'] < patient_records['CompOnset']) & (patient_records['PerformedDate'] >= patient_records['DateOfOnset'])]\n",
    "len(relVisits.index)"
   ]
  },
  {
   "cell_type": "code",
   "execution_count": 12,
   "metadata": {},
   "outputs": [],
   "source": [
    "pos_Results = relVisits"
   ]
  },
  {
   "cell_type": "code",
   "execution_count": 13,
   "metadata": {},
   "outputs": [
    {
     "name": "stdout",
     "output_type": "stream",
     "text": [
      "685\n"
     ]
    }
   ],
   "source": [
    "# ## 7. Remove Redundent Visits later\n",
    "pos_Results = pos_Results.groupby('Patient_ID').apply(lambda g: g.sort_values(by = 'PerformedDate', ascending =True))\n",
    "pos_Results = pos_Results.reset_index(drop = True)\n",
    "\n",
    "rem = []\n",
    "for index, row in pos_Results.iterrows():\n",
    "    temp = row[['Patient_ID', 'Name_calc','TestResult_calc']]\n",
    "    if index == 0 :\n",
    "        prev = temp\n",
    "        continue\n",
    "    if temp.equals(prev):\n",
    "        rem.append(index)\n",
    "    prev = temp\n",
    "    #print(prev)\n",
    "\n",
    "print(len(rem))\n",
    "\n"
   ]
  },
  {
   "cell_type": "code",
   "execution_count": 14,
   "metadata": {},
   "outputs": [
    {
     "name": "stdout",
     "output_type": "stream",
     "text": [
      "111683\n",
      "110998\n",
      "2308\n"
     ]
    }
   ],
   "source": [
    "## NEW\n",
    "pos_Results_u = pos_Results\n",
    "print(len(pos_Results_u.index))\n",
    "pos_Results_u = pos_Results_u.drop(rem)\n",
    "print(len(pos_Results_u.index))\n",
    "print(len(pos_Results_u['Patient_ID'].unique()))"
   ]
  },
  {
   "cell_type": "code",
   "execution_count": 15,
   "metadata": {},
   "outputs": [
    {
     "data": {
      "text/html": [
       "<div>\n",
       "<style scoped>\n",
       "    .dataframe tbody tr th:only-of-type {\n",
       "        vertical-align: middle;\n",
       "    }\n",
       "\n",
       "    .dataframe tbody tr th {\n",
       "        vertical-align: top;\n",
       "    }\n",
       "\n",
       "    .dataframe thead th {\n",
       "        text-align: right;\n",
       "    }\n",
       "</style>\n",
       "<table border=\"1\" class=\"dataframe\">\n",
       "  <thead>\n",
       "    <tr style=\"text-align: right;\">\n",
       "      <th></th>\n",
       "      <th>PerformedDate</th>\n",
       "    </tr>\n",
       "    <tr>\n",
       "      <th>Patient_ID</th>\n",
       "      <th></th>\n",
       "    </tr>\n",
       "  </thead>\n",
       "  <tbody>\n",
       "    <tr>\n",
       "      <th>1000100001914</th>\n",
       "      <td>38</td>\n",
       "    </tr>\n",
       "    <tr>\n",
       "      <th>1000100001950</th>\n",
       "      <td>32</td>\n",
       "    </tr>\n",
       "    <tr>\n",
       "      <th>1000100003164</th>\n",
       "      <td>27</td>\n",
       "    </tr>\n",
       "    <tr>\n",
       "      <th>1000100003603</th>\n",
       "      <td>8</td>\n",
       "    </tr>\n",
       "    <tr>\n",
       "      <th>1000100003646</th>\n",
       "      <td>5</td>\n",
       "    </tr>\n",
       "    <tr>\n",
       "      <th>...</th>\n",
       "      <td>...</td>\n",
       "    </tr>\n",
       "    <tr>\n",
       "      <th>12120070011568</th>\n",
       "      <td>9</td>\n",
       "    </tr>\n",
       "    <tr>\n",
       "      <th>12120070011754</th>\n",
       "      <td>5</td>\n",
       "    </tr>\n",
       "    <tr>\n",
       "      <th>12120120003869</th>\n",
       "      <td>8</td>\n",
       "    </tr>\n",
       "    <tr>\n",
       "      <th>12120120004283</th>\n",
       "      <td>25</td>\n",
       "    </tr>\n",
       "    <tr>\n",
       "      <th>12120120066987</th>\n",
       "      <td>14</td>\n",
       "    </tr>\n",
       "  </tbody>\n",
       "</table>\n",
       "<p>1650 rows × 1 columns</p>\n",
       "</div>"
      ],
      "text/plain": [
       "                PerformedDate\n",
       "Patient_ID                   \n",
       "1000100001914              38\n",
       "1000100001950              32\n",
       "1000100003164              27\n",
       "1000100003603               8\n",
       "1000100003646               5\n",
       "...                       ...\n",
       "12120070011568              9\n",
       "12120070011754              5\n",
       "12120120003869              8\n",
       "12120120004283             25\n",
       "12120120066987             14\n",
       "\n",
       "[1650 rows x 1 columns]"
      ]
     },
     "execution_count": 15,
     "metadata": {},
     "output_type": "execute_result"
    }
   ],
   "source": [
    "pos_r_final = pos_Results_u[['Patient_ID','PerformedDate']].groupby('Patient_ID').nunique() \n",
    "pos_r_final = pos_r_final[(pos_r_final['PerformedDate'] < 51) & (pos_r_final['PerformedDate'] > 3)]\n",
    "pos_r_final"
   ]
  },
  {
   "cell_type": "code",
   "execution_count": 16,
   "metadata": {
    "scrolled": true
   },
   "outputs": [
    {
     "name": "stdout",
     "output_type": "stream",
     "text": [
      "1650\n",
      "67.68666666666667\n"
     ]
    },
    {
     "data": {
      "text/html": [
       "<div>\n",
       "<style scoped>\n",
       "    .dataframe tbody tr th:only-of-type {\n",
       "        vertical-align: middle;\n",
       "    }\n",
       "\n",
       "    .dataframe tbody tr th {\n",
       "        vertical-align: top;\n",
       "    }\n",
       "\n",
       "    .dataframe thead th {\n",
       "        text-align: right;\n",
       "    }\n",
       "</style>\n",
       "<table border=\"1\" class=\"dataframe\">\n",
       "  <thead>\n",
       "    <tr style=\"text-align: right;\">\n",
       "      <th></th>\n",
       "      <th>Unnamed: 0</th>\n",
       "      <th>Patient_ID</th>\n",
       "      <th>PerformedDate</th>\n",
       "      <th>Name_calc</th>\n",
       "      <th>TestResult_calc</th>\n",
       "      <th>UnitOfMeasure_calc</th>\n",
       "      <th>CompOnset</th>\n",
       "      <th>DateOfOnset</th>\n",
       "    </tr>\n",
       "  </thead>\n",
       "  <tbody>\n",
       "    <tr>\n",
       "      <th>19</th>\n",
       "      <td>21338004</td>\n",
       "      <td>1000100001914</td>\n",
       "      <td>2006-10-03</td>\n",
       "      <td>BMI (kg/m^2)</td>\n",
       "      <td>25.6</td>\n",
       "      <td>kg/m^2</td>\n",
       "      <td>2013-07-16</td>\n",
       "      <td>2006-08-28</td>\n",
       "    </tr>\n",
       "    <tr>\n",
       "      <th>20</th>\n",
       "      <td>2154482</td>\n",
       "      <td>1000100001914</td>\n",
       "      <td>2007-01-08</td>\n",
       "      <td>Leukocytes in Blood (WBC)</td>\n",
       "      <td>5.7</td>\n",
       "      <td>10^9/L</td>\n",
       "      <td>2013-07-16</td>\n",
       "      <td>2006-08-28</td>\n",
       "    </tr>\n",
       "    <tr>\n",
       "      <th>21</th>\n",
       "      <td>2154484</td>\n",
       "      <td>1000100001914</td>\n",
       "      <td>2007-01-08</td>\n",
       "      <td>Hemoglobin (Hb)</td>\n",
       "      <td>143.0</td>\n",
       "      <td>g/L</td>\n",
       "      <td>2013-07-16</td>\n",
       "      <td>2006-08-28</td>\n",
       "    </tr>\n",
       "    <tr>\n",
       "      <th>22</th>\n",
       "      <td>2154486</td>\n",
       "      <td>1000100001914</td>\n",
       "      <td>2007-01-08</td>\n",
       "      <td>Platelets in Blood (PLT)</td>\n",
       "      <td>213.0</td>\n",
       "      <td>10^9/L</td>\n",
       "      <td>2013-07-16</td>\n",
       "      <td>2006-08-28</td>\n",
       "    </tr>\n",
       "    <tr>\n",
       "      <th>23</th>\n",
       "      <td>2154530</td>\n",
       "      <td>1000100001914</td>\n",
       "      <td>2007-01-08</td>\n",
       "      <td>Fasting Blood Glucose (FBG)</td>\n",
       "      <td>9.5</td>\n",
       "      <td>mmol/L</td>\n",
       "      <td>2013-07-16</td>\n",
       "      <td>2006-08-28</td>\n",
       "    </tr>\n",
       "  </tbody>\n",
       "</table>\n",
       "</div>"
      ],
      "text/plain": [
       "    Unnamed: 0     Patient_ID PerformedDate                    Name_calc  \\\n",
       "19    21338004  1000100001914    2006-10-03                 BMI (kg/m^2)   \n",
       "20     2154482  1000100001914    2007-01-08    Leukocytes in Blood (WBC)   \n",
       "21     2154484  1000100001914    2007-01-08              Hemoglobin (Hb)   \n",
       "22     2154486  1000100001914    2007-01-08     Platelets in Blood (PLT)   \n",
       "23     2154530  1000100001914    2007-01-08  Fasting Blood Glucose (FBG)   \n",
       "\n",
       "    TestResult_calc UnitOfMeasure_calc  CompOnset DateOfOnset  \n",
       "19             25.6             kg/m^2 2013-07-16  2006-08-28  \n",
       "20              5.7             10^9/L 2013-07-16  2006-08-28  \n",
       "21            143.0                g/L 2013-07-16  2006-08-28  \n",
       "22            213.0             10^9/L 2013-07-16  2006-08-28  \n",
       "23              9.5             mmol/L 2013-07-16  2006-08-28  "
      ]
     },
     "execution_count": 16,
     "metadata": {},
     "output_type": "execute_result"
    }
   ],
   "source": [
    "n = len(pos_r_final.index)\n",
    "print(n)\n",
    "posFinal = pos_Results_u[pos_Results_u['Patient_ID'].isin(pos_r_final.index)]\n",
    "print(len(relVisits.index) / n) # Average results per person\n",
    "posFinal.head()"
   ]
  },
  {
   "cell_type": "code",
   "execution_count": 17,
   "metadata": {},
   "outputs": [
    {
     "name": "stdout",
     "output_type": "stream",
     "text": [
      "<class 'pandas._libs.tslibs.timedeltas.Timedelta'>\n",
      "2243 days 23:14:38.631385344\n"
     ]
    }
   ],
   "source": [
    "# Disease Period\n",
    "dp = (posFinal['CompOnset'] - posFinal['DateOfOnset']).mean()\n",
    "print(type(dp))\n",
    "print(dp)"
   ]
  },
  {
   "cell_type": "markdown",
   "metadata": {},
   "source": [
    "## Negative Sampling\n",
    "1. Negative Complement\n",
    "2. Age and Gender Match\n",
    "3. Visit Subsetting"
   ]
  },
  {
   "cell_type": "code",
   "execution_count": 18,
   "metadata": {},
   "outputs": [
    {
     "data": {
      "text/plain": [
       "0    1000100053877\n",
       "1    6000600009289\n",
       "2    4000000254832\n",
       "3    4000000563007\n",
       "4    4000000000423\n",
       "dtype: int64"
      ]
     },
     "execution_count": 18,
     "metadata": {},
     "output_type": "execute_result"
    }
   ],
   "source": [
    "# Negative sample part 1\n",
    "# Import patients with complications\n",
    "compIDs = pd.read_csv('FullData/compIDs.csv')\n",
    "compIDs = compIDs['0']\n",
    "\n",
    "# Negative Complement and demographic matching\n",
    "from random import sample\n",
    "\n",
    "PatientInfo = pd.read_csv('FullData/Patient.csv')\n",
    "\n",
    "all_neg_patients = lab.loc[~lab.Patient_ID.isin(compIDs)].Patient_ID.unique()\n",
    "\n",
    "pos_patients = posFinal['Patient_ID'].unique()\n",
    "neg_patients = pd.Series([], dtype = 'int64')\n",
    "size = len(pos_patients)\n",
    "#takes 45 sec ish to run\n",
    "for i in range(size):\n",
    "    refPatient_ID = pos_patients[i]\n",
    "    refYOB = PatientInfo.loc[PatientInfo.Patient_ID == refPatient_ID].BirthYear.iloc[0]\n",
    "    refSex = PatientInfo.loc[PatientInfo.Patient_ID == refPatient_ID].Sex.iloc[0]\n",
    "    PossiblePatients = PatientInfo.loc[PatientInfo.Patient_ID.isin(all_neg_patients) \n",
    "                                       & (PatientInfo.Sex == refSex)]\n",
    "    selectedPat = False\n",
    "    yearGap = 0\n",
    "    while not selectedPat:\n",
    "        #print(len(PossiblePatients))\n",
    "        possible = PossiblePatients.loc[(PossiblePatients.BirthYear >= refYOB - yearGap) \n",
    "                                        & (PossiblePatients.BirthYear <= refYOB + yearGap)].Patient_ID\n",
    "        if len(possible > 1):\n",
    "            samp = possible.sample(2)\n",
    "            selectedPat = samp.iloc[0]\n",
    "            selectedPat2 = samp.iloc[1]\n",
    "            neg_patients = neg_patients.append(pd.Series([selectedPat], dtype = 'int64'), ignore_index = True)\n",
    "            all_neg_patients = all_neg_patients[all_neg_patients != selectedPat]\n",
    "            neg_patients = neg_patients.append(pd.Series([selectedPat2], dtype = 'int64'), ignore_index = True)\n",
    "            all_neg_patients = all_neg_patients[all_neg_patients != selectedPat2]\n",
    "\n",
    "            yearGap += 1\n",
    "        #else :\n",
    "         #   print('inf loop')\n",
    "\n",
    "neg_patients.head()"
   ]
  },
  {
   "cell_type": "code",
   "execution_count": 19,
   "metadata": {},
   "outputs": [
    {
     "data": {
      "text/plain": [
       "3300"
      ]
     },
     "execution_count": 19,
     "metadata": {},
     "output_type": "execute_result"
    }
   ],
   "source": [
    "len(neg_patients.index)"
   ]
  },
  {
   "cell_type": "code",
   "execution_count": 20,
   "metadata": {},
   "outputs": [],
   "source": [
    "# TO DO\n",
    "# 1. diseaseperiod\n",
    "# 2. Redundant Visits\n",
    "# 3. 3 < n < 51"
   ]
  },
  {
   "cell_type": "code",
   "execution_count": 21,
   "metadata": {},
   "outputs": [],
   "source": [
    "# DiseaseCase\n",
    "DiseaseCase['Disease'] = DiseaseCase['Disease'].replace(\"Diabetes Mellitus (ml)\",\"Diabetes Mellitus\") # Make all DM2 diagnosis' the same\n",
    "DiseaseCase['DateOfOnset'] = pd.to_datetime(DiseaseCase.DateOfOnset,format='%Y-%m-%d')\n",
    "DiseaseCase = DiseaseCase.sort_values(by='DateOfOnset', ascending = True)\n",
    "DiseaseCase = DiseaseCase.drop_duplicates(subset = ['Patient_ID'])"
   ]
  },
  {
   "cell_type": "code",
   "execution_count": 22,
   "metadata": {},
   "outputs": [
    {
     "name": "stdout",
     "output_type": "stream",
     "text": [
      "77.95636363636363\n",
      "60.60030303030303\n",
      "Unnamed: 0                     int64\n",
      "Patient_ID                     int64\n",
      "PerformedDate         datetime64[ns]\n",
      "Name_calc                     object\n",
      "TestResult_calc              float64\n",
      "UnitOfMeasure_calc            object\n",
      "DateOfOnset           datetime64[ns]\n",
      "dtype: object\n",
      "43.67787878787879\n"
     ]
    }
   ],
   "source": [
    "neg_rec = lab.loc[lab['Patient_ID'].isin(neg_patients)]\n",
    "neg_rec = pd.merge(neg_rec, DiseaseCase[['Patient_ID','DateOfOnset']], on='Patient_ID')\n",
    "\n",
    "neg_rec.DateOfOnset = pd.to_datetime(neg_rec.DateOfOnset,format='%Y-%m-%d')\n",
    "\n",
    "print(len(neg_rec.index)/ len(neg_patients))\n",
    "neg_rec = neg_rec[neg_rec['PerformedDate'] > neg_rec['DateOfOnset']]\n",
    "print(len(neg_rec.index)/ len(neg_patients))\n",
    "print(neg_rec.dtypes)\n",
    "neg_rec = neg_rec[(neg_rec['PerformedDate'] > neg_rec['DateOfOnset']) & (neg_rec['PerformedDate'] < neg_rec['DateOfOnset']+dp) ]\n",
    "print(len(neg_rec.index)/ len(neg_patients))"
   ]
  },
  {
   "cell_type": "code",
   "execution_count": 23,
   "metadata": {},
   "outputs": [
    {
     "name": "stdout",
     "output_type": "stream",
     "text": [
      "749\n"
     ]
    }
   ],
   "source": [
    "# ## 7. Remove Redundent Visits later\n",
    "neg_rec = neg_rec.groupby('Patient_ID').apply(lambda g: g.sort_values(by = 'PerformedDate', ascending =True))\n",
    "neg_rec = neg_rec.reset_index(drop = True)\n",
    "\n",
    "rem = []\n",
    "for index, row in neg_rec.iterrows() :\n",
    "    temp = row[['Patient_ID', 'Name_calc','TestResult_calc']]\n",
    "    if index == 0 :\n",
    "        prev = temp\n",
    "        continue\n",
    "    if temp.equals(prev):\n",
    "        rem.append(index)\n",
    "    prev = temp\n",
    "    #print(prev)\n",
    "\n",
    "print(len(rem))\n",
    "\n"
   ]
  },
  {
   "cell_type": "code",
   "execution_count": 24,
   "metadata": {},
   "outputs": [
    {
     "name": "stdout",
     "output_type": "stream",
     "text": [
      "144137\n",
      "143388\n",
      "3048\n"
     ]
    }
   ],
   "source": [
    "## NEW\n",
    "neg_rec_u = neg_rec\n",
    "print(len(neg_rec_u.index))\n",
    "neg_rec_u = neg_rec_u.drop(rem)\n",
    "print(len(neg_rec_u.index))\n",
    "print(len(neg_rec_u['Patient_ID'].unique()))"
   ]
  },
  {
   "cell_type": "code",
   "execution_count": 25,
   "metadata": {},
   "outputs": [
    {
     "data": {
      "text/html": [
       "<div>\n",
       "<style scoped>\n",
       "    .dataframe tbody tr th:only-of-type {\n",
       "        vertical-align: middle;\n",
       "    }\n",
       "\n",
       "    .dataframe tbody tr th {\n",
       "        vertical-align: top;\n",
       "    }\n",
       "\n",
       "    .dataframe thead th {\n",
       "        text-align: right;\n",
       "    }\n",
       "</style>\n",
       "<table border=\"1\" class=\"dataframe\">\n",
       "  <thead>\n",
       "    <tr style=\"text-align: right;\">\n",
       "      <th></th>\n",
       "      <th>PerformedDate</th>\n",
       "    </tr>\n",
       "    <tr>\n",
       "      <th>Patient_ID</th>\n",
       "      <th></th>\n",
       "    </tr>\n",
       "  </thead>\n",
       "  <tbody>\n",
       "    <tr>\n",
       "      <th>1000100000078</th>\n",
       "      <td>9</td>\n",
       "    </tr>\n",
       "    <tr>\n",
       "      <th>1000100000657</th>\n",
       "      <td>13</td>\n",
       "    </tr>\n",
       "    <tr>\n",
       "      <th>1000100005604</th>\n",
       "      <td>18</td>\n",
       "    </tr>\n",
       "    <tr>\n",
       "      <th>1000100008088</th>\n",
       "      <td>18</td>\n",
       "    </tr>\n",
       "    <tr>\n",
       "      <th>1000100009066</th>\n",
       "      <td>7</td>\n",
       "    </tr>\n",
       "    <tr>\n",
       "      <th>...</th>\n",
       "      <td>...</td>\n",
       "    </tr>\n",
       "    <tr>\n",
       "      <th>12120090033602</th>\n",
       "      <td>7</td>\n",
       "    </tr>\n",
       "    <tr>\n",
       "      <th>12120090039149</th>\n",
       "      <td>5</td>\n",
       "    </tr>\n",
       "    <tr>\n",
       "      <th>12120090042953</th>\n",
       "      <td>4</td>\n",
       "    </tr>\n",
       "    <tr>\n",
       "      <th>12120120002695</th>\n",
       "      <td>13</td>\n",
       "    </tr>\n",
       "    <tr>\n",
       "      <th>12120120009540</th>\n",
       "      <td>16</td>\n",
       "    </tr>\n",
       "  </tbody>\n",
       "</table>\n",
       "<p>2489 rows × 1 columns</p>\n",
       "</div>"
      ],
      "text/plain": [
       "                PerformedDate\n",
       "Patient_ID                   \n",
       "1000100000078               9\n",
       "1000100000657              13\n",
       "1000100005604              18\n",
       "1000100008088              18\n",
       "1000100009066               7\n",
       "...                       ...\n",
       "12120090033602              7\n",
       "12120090039149              5\n",
       "12120090042953              4\n",
       "12120120002695             13\n",
       "12120120009540             16\n",
       "\n",
       "[2489 rows x 1 columns]"
      ]
     },
     "execution_count": 25,
     "metadata": {},
     "output_type": "execute_result"
    }
   ],
   "source": [
    "neg_r_final = neg_rec_u[['Patient_ID','PerformedDate']].groupby('Patient_ID').nunique() \n",
    "neg_r_final = neg_r_final[(neg_r_final['PerformedDate'] < 51) & (neg_r_final['PerformedDate'] > 3)]\n",
    "neg_r_final"
   ]
  },
  {
   "cell_type": "code",
   "execution_count": 26,
   "metadata": {},
   "outputs": [
    {
     "data": {
      "text/html": [
       "<div>\n",
       "<style scoped>\n",
       "    .dataframe tbody tr th:only-of-type {\n",
       "        vertical-align: middle;\n",
       "    }\n",
       "\n",
       "    .dataframe tbody tr th {\n",
       "        vertical-align: top;\n",
       "    }\n",
       "\n",
       "    .dataframe thead th {\n",
       "        text-align: right;\n",
       "    }\n",
       "</style>\n",
       "<table border=\"1\" class=\"dataframe\">\n",
       "  <thead>\n",
       "    <tr style=\"text-align: right;\">\n",
       "      <th></th>\n",
       "      <th>Unnamed: 0</th>\n",
       "      <th>Patient_ID</th>\n",
       "      <th>PerformedDate</th>\n",
       "      <th>Name_calc</th>\n",
       "      <th>TestResult_calc</th>\n",
       "      <th>UnitOfMeasure_calc</th>\n",
       "      <th>DateOfOnset</th>\n",
       "    </tr>\n",
       "  </thead>\n",
       "  <tbody>\n",
       "    <tr>\n",
       "      <th>0</th>\n",
       "      <td>2196754</td>\n",
       "      <td>1000100000078</td>\n",
       "      <td>2011-03-30</td>\n",
       "      <td>Alanine Aminotransferase in Serum or Plasma (ALT)</td>\n",
       "      <td>9.00</td>\n",
       "      <td>U/L</td>\n",
       "      <td>2010-10-04</td>\n",
       "    </tr>\n",
       "    <tr>\n",
       "      <th>1</th>\n",
       "      <td>2196770</td>\n",
       "      <td>1000100000078</td>\n",
       "      <td>2011-03-30</td>\n",
       "      <td>Leukocytes in Blood (WBC)</td>\n",
       "      <td>6.50</td>\n",
       "      <td>10^9/L</td>\n",
       "      <td>2010-10-04</td>\n",
       "    </tr>\n",
       "    <tr>\n",
       "      <th>2</th>\n",
       "      <td>2196771</td>\n",
       "      <td>1000100000078</td>\n",
       "      <td>2011-03-30</td>\n",
       "      <td>Erythrocytes in Blood (RBC)</td>\n",
       "      <td>3.43</td>\n",
       "      <td>10^12/L</td>\n",
       "      <td>2010-10-04</td>\n",
       "    </tr>\n",
       "    <tr>\n",
       "      <th>3</th>\n",
       "      <td>2196764</td>\n",
       "      <td>1000100000078</td>\n",
       "      <td>2011-03-30</td>\n",
       "      <td>Total Bilirubin (TBIL)</td>\n",
       "      <td>11.00</td>\n",
       "      <td>umol/L</td>\n",
       "      <td>2010-10-04</td>\n",
       "    </tr>\n",
       "    <tr>\n",
       "      <th>4</th>\n",
       "      <td>2196772</td>\n",
       "      <td>1000100000078</td>\n",
       "      <td>2011-03-30</td>\n",
       "      <td>Hemoglobin (Hb)</td>\n",
       "      <td>117.00</td>\n",
       "      <td>g/L</td>\n",
       "      <td>2010-10-04</td>\n",
       "    </tr>\n",
       "  </tbody>\n",
       "</table>\n",
       "</div>"
      ],
      "text/plain": [
       "   Unnamed: 0     Patient_ID PerformedDate  \\\n",
       "0     2196754  1000100000078    2011-03-30   \n",
       "1     2196770  1000100000078    2011-03-30   \n",
       "2     2196771  1000100000078    2011-03-30   \n",
       "3     2196764  1000100000078    2011-03-30   \n",
       "4     2196772  1000100000078    2011-03-30   \n",
       "\n",
       "                                           Name_calc  TestResult_calc  \\\n",
       "0  Alanine Aminotransferase in Serum or Plasma (ALT)             9.00   \n",
       "1                          Leukocytes in Blood (WBC)             6.50   \n",
       "2                        Erythrocytes in Blood (RBC)             3.43   \n",
       "3                             Total Bilirubin (TBIL)            11.00   \n",
       "4                                    Hemoglobin (Hb)           117.00   \n",
       "\n",
       "  UnitOfMeasure_calc DateOfOnset  \n",
       "0                U/L  2010-10-04  \n",
       "1             10^9/L  2010-10-04  \n",
       "2            10^12/L  2010-10-04  \n",
       "3             umol/L  2010-10-04  \n",
       "4                g/L  2010-10-04  "
      ]
     },
     "execution_count": 26,
     "metadata": {},
     "output_type": "execute_result"
    }
   ],
   "source": [
    "negFinal = neg_rec_u[neg_rec_u['Patient_ID'].isin(neg_r_final.index)]\n",
    "negIDs = negFinal['Patient_ID'].unique()\n",
    "negFinal.head()"
   ]
  },
  {
   "cell_type": "code",
   "execution_count": 27,
   "metadata": {},
   "outputs": [],
   "source": [
    "Results = pd.concat([posFinal, negFinal])"
   ]
  },
  {
   "cell_type": "code",
   "execution_count": null,
   "metadata": {},
   "outputs": [],
   "source": [
    "names = pd.Series(tests)\n",
    "turtile1 = []\n",
    "turtile2 = []\n",
    "for test in tests:\n",
    "    turtile1.append(lab.loc[lab.Name_calc == test].TestResult_calc.quantile(0.3333))\n",
    "    turtile2.append(lab.loc[lab.Name_calc == test].TestResult_calc.quantile(0.6667))\n",
    "t1 = pd.Series(turtile1)\n",
    "t2 = pd.Series(turtile2)\n",
    "turtiles = pd.DataFrame(data = {'TestName' : names, 't1' : t1, 't2' : t2})"
   ]
  },
  {
   "cell_type": "code",
   "execution_count": null,
   "metadata": {},
   "outputs": [],
   "source": [
    "for index, row in Results.iterrows() :\n",
    "    test = row['Name_calc']\n",
    "    value = row['TestResult_calc']\n",
    "    #feature = [0,0,0]\n",
    "    t1 = float(turtiles.loc[turtiles['TestName'] == test]['t1'])\n",
    "    t2 = float(turtiles.loc[turtiles['TestName'] == test]['t2'])\n",
    "    #print(t1,t2,value)\n",
    "    if value <= t1 :\n",
    "        feature = 1.0 #[1,0,0]\n",
    "    elif value >= t2 :\n",
    "        feature = 3.0 #[0,0,1]\n",
    "    else :\n",
    "        feature = 2.0 #[0,1,0]\n",
    "    Results.at[index, 'TestResult_calc'] = feature\n",
    "Results.head()      "
   ]
  },
  {
   "cell_type": "code",
   "execution_count": null,
   "metadata": {},
   "outputs": [],
   "source": [
    "Results.groupby('TestResult_calc').agg('count')"
   ]
  },
  {
   "cell_type": "code",
   "execution_count": null,
   "metadata": {},
   "outputs": [],
   "source": [
    "Results = Results.groupby('Patient_ID').apply(lambda g: g.sort_values(by = 'PerformedDate', ascending =True))\n",
    "Results = Results.reset_index(drop = True)\n",
    "rem = []\n",
    "for index, row in Results.iterrows() :\n",
    "    temp = row[['Patient_ID', 'Name_calc','TestResult_calc']]\n",
    "    if index == 0 :\n",
    "        prev = temp\n",
    "        continue\n",
    "    if temp.equals(prev):\n",
    "        rem.append(index)\n",
    "    prev = temp\n",
    "    #print(prev)\n",
    "\n",
    "print(len(rem))\n"
   ]
  },
  {
   "cell_type": "code",
   "execution_count": null,
   "metadata": {},
   "outputs": [],
   "source": [
    "Results_u = Results\n",
    "print(len(Results_u.index))\n",
    "Results_u = Results_u.drop(rem)\n",
    "print(len(Results_u.index))"
   ]
  },
  {
   "cell_type": "code",
   "execution_count": null,
   "metadata": {},
   "outputs": [],
   "source": [
    "AllVisits = {}\n",
    "VisitValues = {}\n",
    "for index, row in Results_u.iterrows() :\n",
    "    temp = (str(row['Patient_ID']),str(row['PerformedDate']))\n",
    "    diag = (row['Name_calc'],row['TestResult_calc'])\n",
    "    if temp not in AllVisits.keys():\n",
    "        AllVisits[temp] = []\n",
    "    AllVisits[temp] = AllVisits[temp] + [diag]\n",
    "\n",
    "PVDF = pd.DataFrame(dict([ (k,pd.Series(v)) for k,v in AllVisits.items() ]))\n",
    "PVDF = PVDF.transpose()\n",
    "PVDF = PVDF.dropna(axis=0,how='all') # Remove NA\n"
   ]
  },
  {
   "cell_type": "code",
   "execution_count": null,
   "metadata": {},
   "outputs": [],
   "source": [
    "eTests = []\n",
    "for t in tests :\n",
    "    for i in range(1,4) :\n",
    "        eTests.append(t+str(i))"
   ]
  },
  {
   "cell_type": "code",
   "execution_count": null,
   "metadata": {},
   "outputs": [],
   "source": [
    "RowFeatures = pd.DataFrame(data = 0,\n",
    "                       index = PVDF.index,\n",
    "                       columns=eTests)\n",
    "RowFeatures"
   ]
  },
  {
   "cell_type": "code",
   "execution_count": null,
   "metadata": {},
   "outputs": [],
   "source": [
    "for index, row in RowFeatures.iterrows() :\n",
    "    temp = PVDF.loc[index].dropna()\n",
    "    for t in temp :\n",
    "        test = t[0] + str(int(t[1]))\n",
    "        row[test] = 1\n",
    "RowFeatures"
   ]
  },
  {
   "cell_type": "code",
   "execution_count": null,
   "metadata": {},
   "outputs": [],
   "source": [
    "from sklearn.decomposition import TruncatedSVD\n",
    "svd = TruncatedSVD(n_components = 18)\n",
    "visits_emb = svd.fit_transform(RowFeatures)\n",
    "reducedDF = pd.DataFrame(data=visits_emb, index=RowFeatures.index)"
   ]
  },
  {
   "cell_type": "code",
   "execution_count": null,
   "metadata": {},
   "outputs": [],
   "source": [
    "IDs = negIDs"
   ]
  },
  {
   "cell_type": "code",
   "execution_count": null,
   "metadata": {},
   "outputs": [],
   "source": [
    "VisitHistorySVD = {}\n",
    "for index, row in reducedDF.iterrows() :\n",
    "    temp = int(index[0])\n",
    "    featureVector = list(row)\n",
    "    if temp not in VisitHistorySVD.keys():\n",
    "        if temp in IDs :\n",
    "            VisitHistorySVD[temp] = [0]\n",
    "        else :\n",
    "            VisitHistorySVD[temp] = [1]\n",
    "    VisitHistorySVD[temp] = VisitHistorySVD[temp] + featureVector\n",
    "\n",
    "\n"
   ]
  },
  {
   "cell_type": "code",
   "execution_count": null,
   "metadata": {},
   "outputs": [],
   "source": [
    "m = [0]\n",
    "for k,v in VisitHistorySVD.items() :\n",
    "    temp = len(v)\n",
    "    if temp > m[-1] :\n",
    "        m.append(k)\n",
    "        m.append(temp)\n",
    "        \n",
    "print(m)"
   ]
  },
  {
   "cell_type": "code",
   "execution_count": null,
   "metadata": {},
   "outputs": [],
   "source": [
    "# Fill in to 900\n",
    "for k,v in VisitHistorySVD.items() :\n",
    "    fillLen = 901 - len(v)\n",
    "    VisitHistorySVD[k] = v + [0]*fillLen"
   ]
  },
  {
   "cell_type": "code",
   "execution_count": null,
   "metadata": {},
   "outputs": [],
   "source": [
    "# MODELING\n",
    "# Convert data to x y\n",
    "x, y = [], []\n",
    "for k,v in VisitHistorySVD.items() :\n",
    "    if v[0] == 1 :\n",
    "        y.append([1,0])\n",
    "    if v[0] == 0 :\n",
    "        y.append([0,1])\n",
    "    x.append(v[1:])\n",
    "\n",
    "print(len(x), len(y))"
   ]
  },
  {
   "cell_type": "code",
   "execution_count": null,
   "metadata": {},
   "outputs": [],
   "source": [
    "from tensorflow.keras.models import Model\n",
    "from sklearn.model_selection import train_test_split\n",
    "from tensorflow.keras.utils import to_categorical\n",
    "from tensorflow.keras.models import Sequential\n",
    "from tensorflow.keras.layers import Dense, Dropout, Embedding,GRU, LSTM, GlobalMaxPooling1D, SpatialDropout1D, GRU, Bidirectional, Input, TimeDistributed, Reshape"
   ]
  },
  {
   "cell_type": "code",
   "execution_count": null,
   "metadata": {},
   "outputs": [],
   "source": [
    "# Split data\n",
    "x_train, x_test, y_train, y_test = train_test_split(x, y, test_size = 0.10, shuffle = True)\n",
    "print(len(x_train), 'training')\n",
    "print(len(x_test), 'testing')\n",
    "#print(x_test[:10], y_test[:10])"
   ]
  },
  {
   "cell_type": "code",
   "execution_count": null,
   "metadata": {},
   "outputs": [],
   "source": [
    "#x_test[0]"
   ]
  },
  {
   "cell_type": "code",
   "execution_count": null,
   "metadata": {
    "scrolled": true
   },
   "outputs": [],
   "source": [
    "# Bidirectional GRU\n",
    "\n",
    "# Random search drop out rate and number of units/neurons\n",
    "x_train = np.array(x_train)\n",
    "x_test = np.array(x_test)\n",
    "input_shape = (x_train.shape[1], 1) #900,1\n",
    "\n",
    "units = 100\n",
    "\n",
    "\n",
    "model = Sequential()\n",
    "model.add(Reshape((50, 18), input_shape=(900,)))\n",
    "# 1 sees the past \n",
    "# 2 sees the past and the future\n",
    "\n",
    "\n",
    "dropout = 0.2 # for regularization\n",
    "print('Number of hidden units: ', units, 'Dropout: ', dropout)\n",
    "model.add(Bidirectional(GRU(units, input_shape=input_shape))) # 64, $128$, 256, 512\n",
    "model.add(Dropout(dropout))\n",
    "model.add(Dense(2, activation='softmax'))\n",
    "\n",
    "model.compile(\n",
    "    optimizer='adam',\n",
    "    loss='binary_crossentropy',\n",
    "    metrics=['accuracy']\n",
    ")\n",
    "print('Training...')\n",
    "history = model.fit(\n",
    "    np.array(x_train),\n",
    "    np.array(y_train),\n",
    "    batch_size = 128, \n",
    "    epochs = 25,\n",
    "    validation_split = 0.10\n",
    ")\n",
    "\n",
    "\n"
   ]
  },
  {
   "cell_type": "code",
   "execution_count": null,
   "metadata": {},
   "outputs": [],
   "source": [
    "print(model.evaluate(x_test, np.array(y_test)))\n",
    "preds = model.predict(x_test)"
   ]
  },
  {
   "cell_type": "code",
   "execution_count": null,
   "metadata": {},
   "outputs": [],
   "source": [
    "#model.save(savename)"
   ]
  },
  {
   "cell_type": "code",
   "execution_count": null,
   "metadata": {},
   "outputs": [],
   "source": [
    "from matplotlib import pyplot as plt\n",
    "plt.clf()\n",
    "loss = history.history['loss']\n",
    "val_loss = history.history['val_loss']\n",
    "epochs = range(1, len(loss) + 1)\n",
    "plt.plot(epochs, loss, 'g', label='Training loss')\n",
    "plt.plot(epochs, val_loss, 'y', label='Validation loss')\n",
    "plt.title('Training and validation loss')\n",
    "plt.xlabel('Epochs')\n",
    "plt.ylabel('Loss')\n",
    "plt.legend()\n",
    "plt.show()"
   ]
  },
  {
   "cell_type": "code",
   "execution_count": null,
   "metadata": {},
   "outputs": [],
   "source": [
    "from sklearn.metrics import average_precision_score\n",
    "from sklearn.metrics import roc_auc_score\n",
    "roc_auc_score(y_test, preds)"
   ]
  },
  {
   "cell_type": "code",
   "execution_count": null,
   "metadata": {},
   "outputs": [],
   "source": [
    "# 70s val accuracy, 50-low60s test accuracy LSTM BOOHOO\n",
    "# 67 val accuracy, 73% accuracy, auc_roc 0.836 GRU\n",
    "# 0.7426 val accuracy, 0.7815 accuracy, roc 0.8745557924662403 GRU"
   ]
  },
  {
   "cell_type": "code",
   "execution_count": null,
   "metadata": {},
   "outputs": [],
   "source": [
    "# TODOS : \n",
    "# 1. Check features\n",
    "# 2. Try without SVD\n",
    "# 3. Try with different diseases\n",
    "# 4. "
   ]
  },
  {
   "cell_type": "code",
   "execution_count": null,
   "metadata": {},
   "outputs": [],
   "source": []
  },
  {
   "cell_type": "code",
   "execution_count": null,
   "metadata": {},
   "outputs": [],
   "source": []
  }
 ],
 "metadata": {
  "kernelspec": {
   "display_name": "Python 3",
   "language": "python",
   "name": "python3"
  },
  "language_info": {
   "codemirror_mode": {
    "name": "ipython",
    "version": 3
   },
   "file_extension": ".py",
   "mimetype": "text/x-python",
   "name": "python",
   "nbconvert_exporter": "python",
   "pygments_lexer": "ipython3",
   "version": "3.8.8"
  }
 },
 "nbformat": 4,
 "nbformat_minor": 4
}
