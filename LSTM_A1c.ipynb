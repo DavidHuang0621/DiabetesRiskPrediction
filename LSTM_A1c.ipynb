{
 "cells": [
  {
   "cell_type": "code",
   "execution_count": 1,
   "id": "outdoor-location",
   "metadata": {},
   "outputs": [],
   "source": [
    "import tensorflow as tf\n",
    "from tensorflow.keras.models import Sequential\n",
    "import pandas as pd\n",
    "import numpy as np\n",
    "from numpy import array\n",
    "from tensorflow.keras.layers import Dense\n",
    "from tensorflow.keras.layers import LSTM\n",
    "from sklearn.metrics import mean_squared_error\n",
    "from math import sqrt\n",
    "import matplotlib.pyplot as plt\n",
    "from sklearn.metrics import mean_absolute_error\n",
    "from sklearn.metrics import mean_squared_error\n",
    "from sklearn.metrics import mean_squared_log_error\n",
    "from sklearn.model_selection import train_test_split"
   ]
  },
  {
   "cell_type": "code",
   "execution_count": 2,
   "id": "roman-madison",
   "metadata": {},
   "outputs": [
    {
     "name": "stdout",
     "output_type": "stream",
     "text": [
      "                                                  a1c_Res\n",
      "0                          [81.0, 82.0, 84.0, 86.0, 87.0]\n",
      "1       [66.0, 99.0, 101.0, 6.0, 102.0, 105.0, 106.0, ...\n",
      "2                                                  [48.0]\n",
      "3       [64.0, 65.0, 66.0, 68.0, 69.0, 6.0, 7.0, 73.0,...\n",
      "4       [99.0, 68.0, 69.0, 7.0, 104.0, 73.0, 10.0, 105...\n",
      "...                                                   ...\n",
      "127492                                        [71.0, 7.0]\n",
      "127493                                 [96.0, 91.0, 87.0]\n",
      "127494                                 [72.0, 74.0, 78.0]\n",
      "127495                                       [67.0, 68.0]\n",
      "127496                                        [75.0, 7.0]\n",
      "\n",
      "[127497 rows x 1 columns]\n"
     ]
    }
   ],
   "source": [
    "data = pd.read_csv(\"~/PycharmProjects/Diabetes/finalNew.csv\", sep=',')\n",
    "a1c_data = data[['Patient_ID', 'PerformedDate', 'a1c_Res']]\n",
    "a1c_data = a1c_data.dropna()\n",
    "\n",
    "a1c_data = a1c_data.sort_values(by='PerformedDate', ascending=True)\n",
    "\n",
    "grouped_patients = a1c_data.groupby(\"Patient_ID\")\n",
    "grouped_lists = grouped_patients[\"a1c_Res\"].apply(list)\n",
    "grouped_lists = grouped_lists.reset_index()\n",
    "grouped_lists['a1c_Res'] = grouped_lists['a1c_Res'].apply(lambda x: list(set(x)))\n",
    "data = grouped_lists[['a1c_Res']]\n",
    "print(data)"
   ]
  },
  {
   "cell_type": "code",
   "execution_count": null,
   "id": "functioning-madrid",
   "metadata": {},
   "outputs": [],
   "source": [
    "def split_sequence(sequence, n_steps):\n",
    "    X, y = list(), list()\n",
    "    for i in range(len(sequence)):\n",
    "        # find the end of this pattern\n",
    "        end_ix = i + n_steps\n",
    "        # check if we are beyond the sequence\n",
    "        if end_ix > len(sequence) - 1:\n",
    "            break\n",
    "        # gather input and output parts of the pattern\n",
    "        seq_x, seq_y = sequence[i:end_ix], sequence[end_ix]\n",
    "        X.append(seq_x)\n",
    "        y.append(seq_y)\n",
    "    return array(X), array(y)\n",
    "\n",
    "a = [0,0,0]\n",
    "b = [[0], [0], [0], [0], [0], [0], [0], [0], [0], [0]]\n",
    "for index, row in data.iterrows() :\n",
    "    #raw_seq = data['Albumin/Creatinine_Res'].at[index]\n",
    "    if len(data['a1c_Res'].at[index]) > 15 :\n",
    "        seq = data['a1c_Res'].at[index]\n",
    "        # choose a number of time steps\n",
    "        n_steps = 3\n",
    "        # split into samples\n",
    "        X, y = split_sequence(seq, n_steps)\n",
    "        y = y.reshape((-1, 1))\n",
    "        a = np.vstack((a, X))\n",
    "        b = np.vstack((b, y))\n",
    "    else:\n",
    "        continue\n",
    "X = np.delete(a, (0), axis=0)\n",
    "y = b[10:, :]\n",
    "# reshape from [samples, timesteps] into [samples, timesteps, features]\n",
    "n_features = 1\n",
    "X = X.reshape((X.shape[0], X.shape[1], n_features))\n",
    "# define model\n",
    "model = Sequential()\n",
    "model.add(LSTM(50, activation='relu', input_shape=(n_steps, n_features)))\n",
    "model.add(Dense(1))\n",
    "model.compile(optimizer='adam', loss='mse')\n",
    "# fit model\n",
    "X_train, X_test, y_train, y_test = train_test_split(X, y, test_size=0.33, random_state=42)\n",
    "model.fit(X_train, y_train, epochs=200, verbose=0)\n",
    "#for index, row in data.iterrows() :\n",
    "# demonstrate prediction"
   ]
  },
  {
   "cell_type": "code",
   "execution_count": null,
   "id": "reflected-yellow",
   "metadata": {},
   "outputs": [],
   "source": [
    "for index, row in data.iterrows() :\n",
    "    if len(data['BP_res'].at[index]) > 15 :\n",
    "        seq = data['BP_res'].at[index]\n",
    "        #x_input = np.asarray(X_test[-4:-1])\n",
    "        #x_input = X_test.reshape((1, n_steps, n_features))\n",
    "        yhat = model.predict(X_test, verbose=0)\n",
    "        y_actual = np.asarray(y_test[-1:])\n",
    "        model.evaluate(X_train, y_train)"
   ]
  },
  {
   "cell_type": "code",
   "execution_count": null,
   "id": "found-batch",
   "metadata": {},
   "outputs": [],
   "source": []
  }
 ],
 "metadata": {
  "kernelspec": {
   "display_name": "Python 3",
   "language": "python",
   "name": "python3"
  },
  "language_info": {
   "codemirror_mode": {
    "name": "ipython",
    "version": 3
   },
   "file_extension": ".py",
   "mimetype": "text/x-python",
   "name": "python",
   "nbconvert_exporter": "python",
   "pygments_lexer": "ipython3",
   "version": "3.7.9"
  }
 },
 "nbformat": 4,
 "nbformat_minor": 5
}
