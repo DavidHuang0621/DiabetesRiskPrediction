{
 "cells": [
  {
   "cell_type": "code",
   "execution_count": 20,
   "id": "banned-punishment",
   "metadata": {},
   "outputs": [],
   "source": [
    "import pandas as pd\n",
    "import numpy as np\n",
    "import tensorflow as tf"
   ]
  },
  {
   "cell_type": "code",
   "execution_count": 21,
   "id": "italic-andrews",
   "metadata": {},
   "outputs": [],
   "source": [
    "from numpy import array\n",
    "from keras.models import Sequential\n",
    "from keras.layers import LSTM\n",
    "from keras.layers import Dense"
   ]
  },
  {
   "cell_type": "code",
   "execution_count": 22,
   "id": "collaborative-privacy",
   "metadata": {},
   "outputs": [],
   "source": [
    "from sklearn.metrics import mean_squared_error\n",
    "from math import sqrt"
   ]
  },
  {
   "cell_type": "code",
   "execution_count": 33,
   "id": "average-meditation",
   "metadata": {},
   "outputs": [],
   "source": [
    "import torch"
   ]
  },
  {
   "cell_type": "code",
   "execution_count": 25,
   "id": "emotional-array",
   "metadata": {
    "scrolled": false
   },
   "outputs": [],
   "source": [
    "#read data\n",
    "data = pd.read_csv('LabExamCleanO10K.csv')\n",
    "dataNew = data[['Patient_ID', 'PerformedDate', 'TestResult_calc', 'Name_calc']] "
   ]
  },
  {
   "cell_type": "markdown",
   "id": "listed-startup",
   "metadata": {},
   "source": [
    "Change for different TimeDelta intervals (allowed range of time between visits)"
   ]
  },
  {
   "cell_type": "code",
   "execution_count": 24,
   "id": "waiting-yukon",
   "metadata": {},
   "outputs": [
    {
     "name": "stdout",
     "output_type": "stream",
     "text": [
      "7 days 00:00:00 14 days 00:00:00\n"
     ]
    }
   ],
   "source": [
    "lo = pd.to_timedelta('7 days')\n",
    "hi = pd.to_timedelta('14 days')\n",
    "print(lo, hi)"
   ]
  },
  {
   "cell_type": "markdown",
   "id": "conditional-taxation",
   "metadata": {},
   "source": [
    "# Load in data for chosen feature"
   ]
  },
  {
   "cell_type": "code",
   "execution_count": null,
   "id": "endless-thing",
   "metadata": {},
   "outputs": [],
   "source": [
    "#run for A1C#\n",
    "dataNew = dataNew.loc[data['Name_calc'] == 'Hemoglobin A1c (HbA1c)']"
   ]
  },
  {
   "cell_type": "code",
   "execution_count": 26,
   "id": "opposed-above",
   "metadata": {},
   "outputs": [],
   "source": [
    "#run for albumin/creatinine\n",
    "dataNew = dataNew.loc[data['Name_calc'] == 'Urine Albumin/Creatinine Ratio (ACR)']"
   ]
  },
  {
   "cell_type": "code",
   "execution_count": null,
   "id": "floating-charge",
   "metadata": {},
   "outputs": [],
   "source": [
    "#run for ldl\n",
    "dataNew = dataNew.loc[data['Name_calc'] == 'Cholesterol in LDL (LDLc)']"
   ]
  },
  {
   "cell_type": "code",
   "execution_count": null,
   "id": "educated-anthony",
   "metadata": {},
   "outputs": [],
   "source": [
    "#run for hdl\n",
    "dataNew = dataNew.loc[data['Name_calc'] == 'Cholesterol in HDL (HDLc)']"
   ]
  },
  {
   "cell_type": "code",
   "execution_count": null,
   "id": "intimate-albert",
   "metadata": {},
   "outputs": [],
   "source": [
    "#run for tri\n",
    "dataNew = dataNew.loc[data['Name_calc'] == 'Triglycerides (TG)']"
   ]
  },
  {
   "cell_type": "code",
   "execution_count": null,
   "id": "middle-diary",
   "metadata": {},
   "outputs": [],
   "source": [
    "#for sBP\n",
    "data = pd.read_csv('finalNew.csv')\n",
    "datanew = data.loc[data['Name_calc'] == 'sBP (mmHg)']\n",
    "datanew['PerformedDate'] = pd.to_datetime(datanew['PerformedDate'], infer_datetime_format=True)\n",
    "indexedDataset = datanew\n",
    "filt_df = indexedDataset.loc[:, indexedDataset.columns != 'PerformedDate']\n",
    "low = .25\n",
    "high = .75\n",
    "\n",
    "quant_df = filt_df.quantile([low, high])\n",
    "print(quant_df)\n",
    "filt_df = filt_df.apply(lambda x: x[(x>quant_df.loc[low,x.name]) & \n",
    "                                    (x < quant_df.loc[high,x.name])], axis=0)\n",
    "filt_df = pd.concat([indexedDataset.loc[:,'PerformedDate'], filt_df], axis=1)\n",
    "filt_df.dropna(inplace=True)\n",
    "dataNew = filt_df"
   ]
  },
  {
   "cell_type": "code",
   "execution_count": null,
   "id": "conservative-spirituality",
   "metadata": {},
   "outputs": [],
   "source": [
    "#for dBP\n",
    "data = pd.read_csv('finalNew.csv')\n",
    "datanew = data.loc[data['Name_calc'] == 'dBP (mmHg)']\n",
    "datanew['PerformedDate'] = pd.to_datetime(datanew['PerformedDate'], infer_datetime_format=True)\n",
    "indexedDataset = datanew\n",
    "filt_df = indexedDataset.loc[:, indexedDataset.columns != 'PerformedDate']\n",
    "low = .25\n",
    "high = .75\n",
    "\n",
    "quant_df = filt_df.quantile([low, high])\n",
    "print(quant_df)\n",
    "filt_df = filt_df.apply(lambda x: x[(x>quant_df.loc[low,x.name]) & \n",
    "                                    (x < quant_df.loc[high,x.name])], axis=0)\n",
    "filt_df = pd.concat([indexedDataset.loc[:,'PerformedDate'], filt_df], axis=1)\n",
    "filt_df.dropna(inplace=True)\n",
    "dataNew = filt_df"
   ]
  },
  {
   "cell_type": "markdown",
   "id": "established-notion",
   "metadata": {},
   "source": [
    "# Run everything after this"
   ]
  },
  {
   "cell_type": "code",
   "execution_count": 27,
   "id": "occasional-burns",
   "metadata": {},
   "outputs": [],
   "source": [
    "dataNew = dataNew.dropna()\n",
    "import datetime\n",
    "import datetime as dt\n",
    "df = dataNew\n",
    "df['datetime'] = dataNew['PerformedDate'].apply(lambda x: \n",
    "                                    dt.datetime.strptime(x,'%Y-%m-%d'))\n",
    "df = df.sort_values(by='datetime', ascending=True)\n",
    "grouped = df.groupby(\"Patient_ID\")\n",
    "for name, group in grouped: \n",
    "    group['delta'] = (group['datetime']-group['datetime'].shift())\n",
    "    group.drop(pd.Index(np.where((group['delta']<= lo) & (group['delta'] >=  hi))[0]), inplace = True)   "
   ]
  },
  {
   "cell_type": "code",
   "execution_count": 28,
   "id": "injured-bidding",
   "metadata": {},
   "outputs": [
    {
     "name": "stdout",
     "output_type": "stream",
     "text": [
      "                               TestResult_calc\n",
      "0                                 [0.24, 1.42]\n",
      "1      [4.8, 4.1, 6.6, 8.33, 10.6, 11.5, 10.0]\n",
      "2             [0.9, 0.6, 1.1, 3.7, 5.51, 8.47]\n",
      "3               [0.1, 0.5, 0.2, 0.3, 0.4, 0.6]\n",
      "4                                        [0.8]\n",
      "...                                        ...\n",
      "89319                                    [0.3]\n",
      "89320                                    [4.6]\n",
      "89321                                    [8.4]\n",
      "89322                                    [1.2]\n",
      "89323                                    [6.1]\n",
      "\n",
      "[89324 rows x 1 columns]\n"
     ]
    }
   ],
   "source": [
    "grouped_lists = grouped['TestResult_calc'].apply(list)\n",
    "grouped_lists = grouped_lists.reset_index()\n",
    "grouped_lists['TestResult_calc'] = grouped_lists['TestResult_calc'].apply(lambda x: list(set(x)))\n",
    "data = grouped_lists[['TestResult_calc']]\n",
    "print(data)"
   ]
  },
  {
   "cell_type": "code",
   "execution_count": 29,
   "id": "humanitarian-subscription",
   "metadata": {},
   "outputs": [],
   "source": [
    "def split_sequence(sequence, n_steps):\n",
    "    X, y = list(), list()\n",
    "    for i in range(len(sequence)):\n",
    "        # find the end of this pattern\n",
    "        end_ix = i + n_steps\n",
    "        # check if we are beyond the sequence\n",
    "        if end_ix > len(sequence) - 1:\n",
    "            break\n",
    "        # gather input and output parts of the pattern\n",
    "        seq_x, seq_y = sequence[i:end_ix], sequence[end_ix]\n",
    "        X.append(seq_x)\n",
    "        y.append(seq_y)\n",
    "    return array(X), array(y)\n",
    "a = [0,0,0]\n",
    "b = [[0], [0], [0], [0], [0], [0], [0], [0], [0], [0]]\n",
    "for index, row in data.iterrows() :\n",
    "    #raw_seq = data['Albumin/Creatinine_Res'].at[index]\n",
    "    if len(data['TestResult_calc'].at[index]) > 15 :\n",
    "        seq = data['TestResult_calc'].at[index]\n",
    "        # choose a number of time steps\n",
    "        n_steps = 3\n",
    "        # split into samples\n",
    "        X, y = split_sequence(seq, n_steps)\n",
    "        y = y.reshape((-1, 1))\n",
    "        a = np.vstack((a, X))\n",
    "        b = np.vstack((b, y))\n",
    "    else:\n",
    "        continue\n",
    "X = np.delete(a, (0), axis=0)\n",
    "y = b[10:, :]"
   ]
  },
  {
   "cell_type": "code",
   "execution_count": 30,
   "id": "unknown-playback",
   "metadata": {},
   "outputs": [],
   "source": [
    " import numpy as np\n",
    ">>> from sklearn.model_selection import train_test_split"
   ]
  },
  {
   "cell_type": "code",
   "execution_count": 31,
   "id": "disturbed-hanging",
   "metadata": {},
   "outputs": [],
   "source": [
    "# reshape from [samples, timesteps] into [samples, timesteps, features]\n",
    "n_features = 1\n",
    "X = X.reshape((X.shape[0], X.shape[1], n_features))\n",
    "X_train, X_test, y_train, y_test = train_test_split(X, y, test_size=0.33, random_state=42)"
   ]
  },
  {
   "cell_type": "code",
   "execution_count": 32,
   "id": "dangerous-folks",
   "metadata": {},
   "outputs": [
    {
     "name": "stdout",
     "output_type": "stream",
     "text": [
      "203/203 [==============================] - 0s 904us/step - loss: 4.5317\n",
      "test loss, test acc: 4.53165340423584\n"
     ]
    }
   ],
   "source": [
    "# define model\n",
    "model = Sequential()\n",
    "model.add(LSTM(50, activation='relu', input_shape=(n_steps, n_features)))\n",
    "model.add(Dense(1))\n",
    "model.compile(optimizer='adam', loss='mse')\n",
    "# fit model\n",
    "model.fit(X_train, y_train, epochs=200, verbose=0)\n",
    "result = model.evaluate(X_test,y_test)\n",
    "print(\"test loss, test acc:\", result)"
   ]
  }
 ],
 "metadata": {
  "kernelspec": {
   "display_name": "Python 3",
   "language": "python",
   "name": "python3"
  },
  "language_info": {
   "codemirror_mode": {
    "name": "ipython",
    "version": 3
   },
   "file_extension": ".py",
   "mimetype": "text/x-python",
   "name": "python",
   "nbconvert_exporter": "python",
   "pygments_lexer": "ipython3",
   "version": "3.8.6"
  }
 },
 "nbformat": 4,
 "nbformat_minor": 5
}
