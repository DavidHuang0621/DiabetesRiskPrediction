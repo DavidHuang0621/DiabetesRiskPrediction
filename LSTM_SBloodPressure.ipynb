{
 "cells": [
  {
   "cell_type": "code",
   "execution_count": 1,
   "id": "surface-converter",
   "metadata": {},
   "outputs": [],
   "source": [
    "import tensorflow as tf\n",
    "from tensorflow.keras.models import Sequential\n",
    "import pandas as pd\n",
    "import numpy as np\n",
    "from numpy import array\n",
    "from tensorflow.keras.layers import Dense\n",
    "from tensorflow.keras.layers import LSTM\n",
    "from sklearn.metrics import mean_squared_error\n",
    "from math import sqrt\n",
    "import matplotlib.pyplot as plt\n",
    "from sklearn.metrics import mean_absolute_error\n",
    "from sklearn.metrics import mean_squared_error\n",
    "from sklearn.metrics import mean_squared_log_error\n",
    "from sklearn.model_selection import train_test_split"
   ]
  },
  {
   "cell_type": "code",
   "execution_count": 5,
   "id": "usual-quilt",
   "metadata": {},
   "outputs": [
    {
     "name": "stdout",
     "output_type": "stream",
     "text": [
      "            Patient_ID PerformedDate  BP_res   Name_calc\n",
      "4863609  4000000368847    2019-03-04   139.0  sBP (mmHg)\n",
      "4863610  4000000368847    2018-12-18   142.0  sBP (mmHg)\n",
      "4863611  4000000368847    2016-01-18   146.0  sBP (mmHg)\n",
      "4863612  4000000368357    2019-11-14   124.0  sBP (mmHg)\n",
      "4863613  4000000368357    2015-11-23   121.0  sBP (mmHg)\n",
      "...                ...           ...     ...         ...\n",
      "7467650  5050180011096    2016-06-10   125.0  sBP (mmHg)\n",
      "7467651  5050060019660    2017-04-25   113.0  sBP (mmHg)\n",
      "7467652  5050060019660    2014-09-24   152.0  sBP (mmHg)\n",
      "7467653  5050060019660    2015-04-14   154.0  sBP (mmHg)\n",
      "7467654  5050070039110    2018-10-30   128.0  sBP (mmHg)\n",
      "\n",
      "[2570192 rows x 4 columns]\n",
      "                                                   BP_res\n",
      "0       [100.0, 104.0, 108.0, 110.0, 115.0, 120.0, 90....\n",
      "1       [161.0, 130.0, 131.0, 163.0, 132.0, 134.0, 136...\n",
      "2       [128.0, 130.0, 132.0, 137.0, 138.0, 108.0, 110...\n",
      "3       [128.0, 130.0, 132.0, 134.0, 136.0, 138.0, 140...\n",
      "4       [160.0, 128.0, 130.0, 134.0, 136.0, 140.0, 141...\n",
      "...                                                   ...\n",
      "131601                                            [136.0]\n",
      "131602                                            [130.0]\n",
      "131603                                     [160.0, 140.0]\n",
      "131604                                            [148.0]\n",
      "131605                                            [148.0]\n",
      "\n",
      "[131606 rows x 1 columns]\n"
     ]
    }
   ],
   "source": [
    "data = pd.read_csv(\"~/PycharmProjects/Diabetes/finalNew.csv\", sep=',')\n",
    "SBP_data = data[['Patient_ID', 'PerformedDate', 'BP_res', 'Name_calc']]\n",
    "SBP_data = SBP_data[SBP_data['Name_calc'] == 'sBP (mmHg)']\n",
    "SBP_data = SBP_data.dropna()\n",
    "\n",
    "SBP_data = SBP_data.sort_values(by='PerformedDate', ascending=True)\n",
    "\n",
    "grouped_patients = SBP_data.groupby(\"Patient_ID\")\n",
    "grouped_lists = grouped_patients[\"BP_res\"].apply(list)\n",
    "grouped_lists = grouped_lists.reset_index()\n",
    "grouped_lists['BP_res'] = grouped_lists['BP_res'].apply(lambda x: list(set(x)))\n",
    "data = grouped_lists[['BP_res']]\n",
    "print(data)"
   ]
  },
  {
   "cell_type": "code",
   "execution_count": null,
   "id": "entertaining-theater",
   "metadata": {},
   "outputs": [],
   "source": [
    "def split_sequence(sequence, n_steps):\n",
    "    X, y = list(), list()\n",
    "    for i in range(len(sequence)):\n",
    "        # find the end of this pattern\n",
    "        end_ix = i + n_steps\n",
    "        # check if we are beyond the sequence\n",
    "        if end_ix > len(sequence) - 1:\n",
    "            break\n",
    "        # gather input and output parts of the pattern\n",
    "        seq_x, seq_y = sequence[i:end_ix], sequence[end_ix]\n",
    "        X.append(seq_x)\n",
    "        y.append(seq_y)\n",
    "    return array(X), array(y)\n",
    "\n",
    "a = [0,0,0]\n",
    "b = [[0], [0], [0], [0], [0], [0], [0], [0], [0], [0]]\n",
    "for index, row in data.iterrows() :\n",
    "    #raw_seq = data['Albumin/Creatinine_Res'].at[index]\n",
    "    if len(data['BP_res'].at[index]) > 15 :\n",
    "        seq = data['BP_res'].at[index]\n",
    "        # choose a number of time steps\n",
    "        n_steps = 3\n",
    "        # split into samples\n",
    "        X, y = split_sequence(seq, n_steps)\n",
    "        y = y.reshape((-1, 1))\n",
    "        a = np.vstack((a, X))\n",
    "        b = np.vstack((b, y))\n",
    "    else:\n",
    "        continue\n",
    "X = np.delete(a, (0), axis=0)\n",
    "y = b[10:, :]\n",
    "# reshape from [samples, timesteps] into [samples, timesteps, features]\n",
    "n_features = 1\n",
    "X = X.reshape((X.shape[0], X.shape[1], n_features))\n",
    "# define model\n",
    "model = Sequential()\n",
    "model.add(LSTM(50, activation='relu', input_shape=(n_steps, n_features)))\n",
    "model.add(Dense(1))\n",
    "model.compile(optimizer='adam', loss='mse')\n",
    "# fit model\n",
    "X_train, X_test, y_train, y_test = train_test_split(X, y, test_size=0.33, random_state=42)\n",
    "model.fit(X_train, y_train, epochs=200, verbose=0)\n",
    "#for index, row in data.iterrows() :\n",
    "# demonstrate prediction"
   ]
  },
  {
   "cell_type": "code",
   "execution_count": null,
   "id": "liable-resistance",
   "metadata": {},
   "outputs": [],
   "source": [
    "for index, row in data.iterrows() :\n",
    "    if len(data['BP_res'].at[index]) > 15 :\n",
    "        seq = data['BP_res'].at[index]\n",
    "        #x_input = np.asarray(X_test[-4:-1])\n",
    "        #x_input = X_test.reshape((1, n_steps, n_features))\n",
    "        yhat = model.predict(X_test, verbose=0)\n",
    "        y_actual = np.asarray(y_test[-1:])\n",
    "        model.evaluate(X_train, y_train)"
   ]
  },
  {
   "cell_type": "code",
   "execution_count": null,
   "id": "brazilian-living",
   "metadata": {},
   "outputs": [],
   "source": []
  }
 ],
 "metadata": {
  "kernelspec": {
   "display_name": "Python 3",
   "language": "python",
   "name": "python3"
  },
  "language_info": {
   "codemirror_mode": {
    "name": "ipython",
    "version": 3
   },
   "file_extension": ".py",
   "mimetype": "text/x-python",
   "name": "python",
   "nbconvert_exporter": "python",
   "pygments_lexer": "ipython3",
   "version": "3.7.9"
  }
 },
 "nbformat": 4,
 "nbformat_minor": 5
}
