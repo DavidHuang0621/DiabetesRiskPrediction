{
 "cells": [
  {
   "cell_type": "code",
   "execution_count": 2,
   "metadata": {},
   "outputs": [],
   "source": [
    "import pandas as pd\n",
    "import numpy as np"
   ]
  },
  {
   "cell_type": "code",
   "execution_count": 23,
   "metadata": {},
   "outputs": [],
   "source": [
    "# TODO: \n",
    "# 1. Choose better negative sample (ppl with no complications)\n",
    "# 2. Try different complications and subset broader\n",
    "# 3. Subset patients with less than 4 visits\n",
    "# 4. Preprocess Lab results earlier"
   ]
  },
  {
   "cell_type": "code",
   "execution_count": 28,
   "metadata": {},
   "outputs": [],
   "source": [
    "Lab = pd.read_csv(\"FullData/LabReduced.csv\")\n",
    "Exam = pd.read_csv(\"FullData/Exam.csv\", usecols = ['Patient_ID', 'Exam1', 'Result1_calc', 'Exam2', 'Result2_calc', 'UnitOfMeasure_calc', 'DateCreated'])\n",
    "DiseaseCase = pd.read_csv(\"FullData/DiseaseCase.csv\")"
   ]
  },
  {
   "cell_type": "code",
   "execution_count": 29,
   "metadata": {},
   "outputs": [
    {
     "name": "stdout",
     "output_type": "stream",
     "text": [
      "0\n",
      "174177\n",
      "0\n",
      "25163370\n"
     ]
    }
   ],
   "source": [
    "# Moved coercion of Test results to floats up here from combined cell\n",
    "print(Lab['TestResult_calc'].isna().sum())\n",
    "Lab['TestResult_calc'] = pd.to_numeric(Lab.TestResult_calc,errors='coerce')\n",
    "print(Lab['TestResult_calc'].isna().sum())\n",
    "Lab = Lab.dropna(subset=['TestResult_calc'])\n",
    "print(Lab['TestResult_calc'].isna().sum())\n",
    "print(len(Lab.index))"
   ]
  },
  {
   "cell_type": "code",
   "execution_count": null,
   "metadata": {},
   "outputs": [],
   "source": [
    "## FILTER lab with better negative sample"
   ]
  },
  {
   "cell_type": "code",
   "execution_count": null,
   "metadata": {},
   "outputs": [],
   "source": [
    "# Encode lab results\n",
    "for index, row in Results.iterrows() :\n",
    "    test = row['Name_calc']\n",
    "    value = row['TestResult_calc']\n",
    "    #feature = [0,0,0]\n",
    "    t1 = float(turtiles.loc[turtiles['TestName'] == test]['t1'])\n",
    "    t2 = float(turtiles.loc[turtiles['TestName'] == test]['t2'])\n",
    "    #print(t1,t2,value)\n",
    "    if value <= t1 : ## Changed from < to <=\n",
    "        feature = 1.0 #[1,0,0]\n",
    "    elif value >= t2 : ## Changed from > to >=\n",
    "        feature = 3.0 #[0,0,1]\n",
    "    else :\n",
    "        feature = 2.0 #[0,1,0]\n",
    "    Results.at[index, 'TestResult_calc'] = feature\n",
    "    \n",
    "        "
   ]
  },
  {
   "cell_type": "code",
   "execution_count": null,
   "metadata": {},
   "outputs": [],
   "source": [
    "## NEW Moved up\n",
    "Results = Results.groupby('Patient_ID').apply(lambda g: g.sort_values(by = 'PerformedDate', ascending =True))\n",
    "Results = Results.reset_index(drop = True)\n",
    "Results.head()"
   ]
  },
  {
   "cell_type": "code",
   "execution_count": null,
   "metadata": {},
   "outputs": [],
   "source": [
    "## NEW\n",
    "rem = []\n",
    "for index, row in Results.iterrows() :\n",
    "    temp = row[['Patient_ID', 'Name_calc','TestResult_calc']]\n",
    "    if index == 0 :\n",
    "        prev = temp\n",
    "        continue\n",
    "    if temp.equals(prev):\n",
    "        rem.append(index)\n",
    "    prev = temp\n",
    "    #print(prev)\n",
    "\n",
    "print(len(rem))\n"
   ]
  },
  {
   "cell_type": "code",
   "execution_count": null,
   "metadata": {},
   "outputs": [],
   "source": [
    "## NEW\n",
    "Results_u = Results\n",
    "print(len(Results_u.index))\n",
    "Results_u = Results_u.drop(rem)\n",
    "print(len(Results_u.index))"
   ]
  },
  {
   "cell_type": "code",
   "execution_count": 30,
   "metadata": {},
   "outputs": [],
   "source": [
    "# DiseaseCase\n",
    "DiseaseCase['Disease'] = DiseaseCase['Disease'].replace(\"Diabetes Mellitus (ml)\",\"Diabetes Mellitus\") # Make all DM2 diagnosis' the same\n",
    "DiseaseCase['DateOfOnset'] = pd.to_datetime(DiseaseCase.DateOfOnset,format='%Y-%m-%d')\n",
    "DiseaseCase = DiseaseCase.sort_values(by='DateOfOnset', ascending = True)\n",
    "DiseaseCase = DiseaseCase.drop_duplicates(subset = ['Patient_ID'])"
   ]
  },
  {
   "cell_type": "code",
   "execution_count": 31,
   "metadata": {},
   "outputs": [
    {
     "name": "stdout",
     "output_type": "stream",
     "text": [
      "sBP (mmHg)                  2570192\n",
      "dBP (mmHg)                  2570192\n",
      "Weight (kg)                 1102589\n",
      "BMI (kg/m^2)                 910459\n",
      "Height (cm)                  736942\n",
      "Waist Circumference (cm)     115353\n",
      "PEFR (L/min)                     35\n",
      "Name: Name_calc, dtype: int64\n"
     ]
    }
   ],
   "source": [
    "Exam1 = Exam.drop(columns=['Exam2','Result2_calc']).rename(columns={'Exam1':'Name_calc','Result1_calc':'TestResult_calc'})\n",
    "Exam2 = Exam.drop(columns=['Exam1','Result1_calc']).rename(columns={'Exam2':'Name_calc','Result2_calc':'TestResult_calc'})\n",
    "Exam = pd.concat([Exam1,Exam2]).dropna()\n",
    "print(Exam['Name_calc'].value_counts(ascending=False))"
   ]
  },
  {
   "cell_type": "code",
   "execution_count": 32,
   "metadata": {},
   "outputs": [],
   "source": [
    "tests = ['Alanine Aminotransferase in Serum or Plasma (ALT)',\n",
    "              'Aspartate Aminotransferase in Serum or Plasma (AST)',\n",
    "              'Urea (mM)',\n",
    "              'Plasma Creatinine Clearance (eGFR)',\n",
    "              'Potassium (mM)',\n",
    "              'Sodium (mM)',\n",
    "              'Gamma Glutamyl Transferase in Serum or Plasma (GGT)',\n",
    "              'Leukocytes in Blood (WBC)',\n",
    "              'Protein, total (g/L)',\n",
    "              'Total Cholesterol (TCh)',\n",
    "              'Total Bilirubin (TBIL)',\n",
    "              'Platelets in Blood (PLT)',\n",
    "              'Fasting Blood Glucose (FBG)',\n",
    "              'Hemoglobin (Hb)',\n",
    "              'Erythrocytes in Blood (RBC)',\n",
    "              'Albumin (g/L)',\n",
    "              'Hemoglobin A1c (HbA1c)',\n",
    "              'BMI (kg/m^2)']\n",
    "Lab = Lab.loc[Lab.Name_calc.isin(tests)]\n",
    "Exam = Exam.loc[Exam.Name_calc.isin(tests)]"
   ]
  },
  {
   "cell_type": "code",
   "execution_count": 33,
   "metadata": {},
   "outputs": [],
   "source": [
    "Exam = Exam.rename(columns={'DateCreated':'PerformedDate'})\n",
    "Exam = Exam[Exam.columns[[0,4,1,2,3]]]\n",
    "Exam = Exam.drop_duplicates(subset=['Patient_ID','PerformedDate'])"
   ]
  },
  {
   "cell_type": "code",
   "execution_count": 34,
   "metadata": {},
   "outputs": [],
   "source": [
    "lab = pd.concat([Lab,Exam])\n",
    "lab = lab.dropna(subset = ['PerformedDate'])\n"
   ]
  },
  {
   "cell_type": "code",
   "execution_count": 35,
   "metadata": {},
   "outputs": [],
   "source": [
    "disease_periods = pd.read_csv('AP_posnegIDS.csv', index_col=None)\n",
    "disease_periods = disease_periods.drop(disease_periods.columns[0], axis=1)\n",
    "neg_sample = disease_periods.iloc[1902:3804]\n",
    "disease_periods = disease_periods.iloc[0:1902]"
   ]
  },
  {
   "cell_type": "code",
   "execution_count": 36,
   "metadata": {},
   "outputs": [
    {
     "name": "stdout",
     "output_type": "stream",
     "text": [
      "240591 Index(['Patient_ID', 'PerformedDate', 'Name_calc', 'Code_calc',\n",
      "       'TestResult_calc', 'UnitOfMeasure_calc', 'DateOfOnset', 'CompOnset'],\n",
      "      dtype='object')\n"
     ]
    }
   ],
   "source": [
    "patient_records = lab.loc[lab['Patient_ID'].isin(disease_periods['Patient_ID'])]\n",
    "patient_records = pd.merge(patient_records, disease_periods, on='Patient_ID')\n",
    "print(len(patient_records.index),patient_records.columns)"
   ]
  },
  {
   "cell_type": "code",
   "execution_count": 37,
   "metadata": {},
   "outputs": [],
   "source": [
    "relVisits.PerformedDate = pd.to_datetime(relVisits.PerformedDate,format='%Y-%m-%d')\n",
    "relVisits.CompOnset = pd.to_datetime(relVisits.CompOnset,format='%Y-%m-%d')\n",
    "relVisits.DateOfOnset = pd.to_datetime(relVisits.DateOfOnset,format='%Y-%m-%d')"
   ]
  },
  {
   "cell_type": "code",
   "execution_count": 38,
   "metadata": {},
   "outputs": [
    {
     "data": {
      "text/plain": [
       "76137"
      ]
     },
     "execution_count": 38,
     "metadata": {},
     "output_type": "execute_result"
    }
   ],
   "source": [
    "relVisits = patient_records[(patient_records['PerformedDate'] < patient_records['CompOnset']) & (patient_records['PerformedDate'] >= patient_records['DateOfOnset'])]\n",
    "len(relVisits.index)"
   ]
  },
  {
   "cell_type": "code",
   "execution_count": 47,
   "metadata": {},
   "outputs": [
    {
     "data": {
      "text/html": [
       "<div>\n",
       "<style scoped>\n",
       "    .dataframe tbody tr th:only-of-type {\n",
       "        vertical-align: middle;\n",
       "    }\n",
       "\n",
       "    .dataframe tbody tr th {\n",
       "        vertical-align: top;\n",
       "    }\n",
       "\n",
       "    .dataframe thead th {\n",
       "        text-align: right;\n",
       "    }\n",
       "</style>\n",
       "<table border=\"1\" class=\"dataframe\">\n",
       "  <thead>\n",
       "    <tr style=\"text-align: right;\">\n",
       "      <th></th>\n",
       "      <th>PerformedDate</th>\n",
       "    </tr>\n",
       "    <tr>\n",
       "      <th>Patient_ID</th>\n",
       "      <th></th>\n",
       "    </tr>\n",
       "  </thead>\n",
       "  <tbody>\n",
       "    <tr>\n",
       "      <th>1000100003603</th>\n",
       "      <td>8</td>\n",
       "    </tr>\n",
       "    <tr>\n",
       "      <th>1000100003646</th>\n",
       "      <td>5</td>\n",
       "    </tr>\n",
       "    <tr>\n",
       "      <th>1000100003708</th>\n",
       "      <td>9</td>\n",
       "    </tr>\n",
       "    <tr>\n",
       "      <th>1000100004129</th>\n",
       "      <td>33</td>\n",
       "    </tr>\n",
       "    <tr>\n",
       "      <th>1000100005507</th>\n",
       "      <td>4</td>\n",
       "    </tr>\n",
       "    <tr>\n",
       "      <th>...</th>\n",
       "      <td>...</td>\n",
       "    </tr>\n",
       "    <tr>\n",
       "      <th>12120070011568</th>\n",
       "      <td>11</td>\n",
       "    </tr>\n",
       "    <tr>\n",
       "      <th>12120070011754</th>\n",
       "      <td>5</td>\n",
       "    </tr>\n",
       "    <tr>\n",
       "      <th>12120120003869</th>\n",
       "      <td>8</td>\n",
       "    </tr>\n",
       "    <tr>\n",
       "      <th>12120120004283</th>\n",
       "      <td>25</td>\n",
       "    </tr>\n",
       "    <tr>\n",
       "      <th>12120120066987</th>\n",
       "      <td>16</td>\n",
       "    </tr>\n",
       "  </tbody>\n",
       "</table>\n",
       "<p>1281 rows × 1 columns</p>\n",
       "</div>"
      ],
      "text/plain": [
       "                PerformedDate\n",
       "Patient_ID                   \n",
       "1000100003603               8\n",
       "1000100003646               5\n",
       "1000100003708               9\n",
       "1000100004129              33\n",
       "1000100005507               4\n",
       "...                       ...\n",
       "12120070011568             11\n",
       "12120070011754              5\n",
       "12120120003869              8\n",
       "12120120004283             25\n",
       "12120120066987             16\n",
       "\n",
       "[1281 rows x 1 columns]"
      ]
     },
     "execution_count": 47,
     "metadata": {},
     "output_type": "execute_result"
    }
   ],
   "source": [
    "test = relVisits[['Patient_ID','PerformedDate']].groupby('Patient_ID').nunique() \n",
    "test = test[(test['PerformedDate'] < 51) & (test['PerformedDate'] > 3)]\n",
    "test"
   ]
  },
  {
   "cell_type": "code",
   "execution_count": 50,
   "metadata": {},
   "outputs": [
    {
     "name": "stdout",
     "output_type": "stream",
     "text": [
      "1281\n",
      "49.92818110850898\n"
     ]
    }
   ],
   "source": [
    "# Count number of visits per patient\n",
    "test = relVisits[['Patient_ID','PerformedDate']].groupby('Patient_ID').nunique() \n",
    "good = test[(test['PerformedDate'] < 51) & (test['PerformedDate'] > 3)]\n",
    "\n",
    "n = len(good.index)\n",
    "print(n)\n",
    "relVisits = relVisits[relVisits['Patient_ID'].isin(good.index)]\n",
    "print(len(relVisits.index) / n) # Average visits per person"
   ]
  },
  {
   "cell_type": "code",
   "execution_count": null,
   "metadata": {},
   "outputs": [],
   "source": [
    "# Disease Period\n",
    "relVisits['dp'] = relVisits['CompOnset'] - relVisits['DateOfOnset']\n",
    "dp = relVisits['dp'].mean()\n",
    "print(dp)"
   ]
  },
  {
   "cell_type": "code",
   "execution_count": null,
   "metadata": {},
   "outputs": [],
   "source": [
    "# Negative sample\n",
    "from random import sample\n",
    "rest = Lab[['Patient_ID','PerformedDate']].groupby('Patient_ID').nunique() < 51\n",
    "rest = rest[['Patient_ID','PerformedDate']].groupby('Patient_ID').nunique() > 3\n",
    "negGood = rest.index[rest['PerformedDate'] == True].tolist()\n",
    "neg_ids = list(set(negGood) - set(n))\n",
    "neg_samp = sample(neg_ids, len(n))\n",
    "neg_rec = lab.loc[lab['Patient_ID'].isin(neg_samp)]\n",
    "neg_rec = pd.merge(neg_rec, DiseaseCase[['Patient_ID','DateOfOnset']], on='Patient_ID')\n",
    "print(len(neg_rec.index)/ len(neg_samp))\n",
    "neg_rec = neg_rec[neg_rec['PerformedDate'] >= neg_rec['DateOfOnset']]\n",
    "print(len(neg_rec.index)/ len(neg_samp))\n",
    "neg_rec = neg_rec[(neg_rec['PerformedDate'] >= neg_rec['DateOfOnset']) & (neg_rec['PerformedDate'] < neg_rec['DateOfOnset']+dp) ]\n",
    "print(len(neg_rec.index)/ len(neg_samp))"
   ]
  },
  {
   "cell_type": "code",
   "execution_count": null,
   "metadata": {},
   "outputs": [],
   "source": [
    "# Append\n",
    "print(len(relVisits.index))\n",
    "print(len(neg_rec.index))\n",
    "combined = relVisits.append(neg_rec, ignore_index=True)\n",
    "combined = combined.drop(['CompOnset','dp'],axis='columns')\n",
    "print(len(relVisits.index))\n",
    "print(relVisits.isna().sum())\n",
    "print(relVisits.dtypes)"
   ]
  },
  {
   "cell_type": "code",
   "execution_count": null,
   "metadata": {},
   "outputs": [],
   "source": [
    "#remove vast minority units (mg/L for Total Bilirubin (n = 40) and mmol/L for Hemoglobin (n = 10))\n",
    "badIndices = combined.loc[(combined.Name_calc == 'Total Bilirubin (TBIL)') & (relVisits.UnitOfMeasure_calc == 'mg/L')].index\n",
    "badIndices2 = combined.loc[(combined.Name_calc == 'Hemoglobin (Hb)') & (relVisits.UnitOfMeasure_calc == 'mmol/L')].index\n",
    "combined = combined.drop(badIndices)\n",
    "combined = combined.drop(badIndices2)"
   ]
  },
  {
   "cell_type": "code",
   "execution_count": null,
   "metadata": {},
   "outputs": [],
   "source": [
    "Results = combined\n",
    "print(len(Results.index))"
   ]
  },
  {
   "cell_type": "code",
   "execution_count": 51,
   "metadata": {},
   "outputs": [],
   "source": [
    "## LEFT OFF:\n",
    "# Just moved code to subest visits to the top\n",
    "# Next TODO #2, then reduce data to make subsetting quicker i.e. loc lab stuff for positive first, then sample neg ...\n",
    "# ... patients > n, subset, then sample again for neg patients = n ...\n",
    "# ... Probably wanna put some stuff in functions (like subsetting code chunks)"
   ]
  },
  {
   "cell_type": "code",
   "execution_count": null,
   "metadata": {},
   "outputs": [],
   "source": []
  }
 ],
 "metadata": {
  "kernelspec": {
   "display_name": "Python 3",
   "language": "python",
   "name": "python3"
  },
  "language_info": {
   "codemirror_mode": {
    "name": "ipython",
    "version": 3
   },
   "file_extension": ".py",
   "mimetype": "text/x-python",
   "name": "python",
   "nbconvert_exporter": "python",
   "pygments_lexer": "ipython3",
   "version": "3.8.6"
  }
 },
 "nbformat": 4,
 "nbformat_minor": 4
}
