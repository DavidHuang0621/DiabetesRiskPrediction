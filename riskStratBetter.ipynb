{
 "cells": [
  {
   "cell_type": "code",
   "execution_count": 2,
   "metadata": {},
   "outputs": [
    {
     "name": "stderr",
     "output_type": "stream",
     "text": [
      "c:\\users\\susu1\\appdata\\local\\programs\\python\\python39\\lib\\site-packages\\IPython\\core\\interactiveshell.py:3146: DtypeWarning: Columns (4) have mixed types.Specify dtype option on import or set low_memory=False.\n",
      "  has_raised = await self.run_ast_nodes(code_ast.body, cell_name,\n"
     ]
    }
   ],
   "source": [
    "import pandas as pd\n",
    "import numpy as np\n",
    "Billing = pd.read_csv(\"Billing.csv\")\n",
    "DiseaseCase = pd.read_csv(\"DiseaseCase.csv\")\n",
    "Lab = pd.read_csv(\"LabReduced.csv\", dtype={\"Name_calc\": str, \"CodeType_orig\": str, \"CodeType_calc\": str, \"Code_orig\": str, \"Code_calc\": str})\n",
    "Exam = pd.read_csv(\"Exam.csv\")\n",
    "Risk = pd.read_csv(\"RiskFactor.csv\")\n",
    "Patient = pd.read_csv(\"Patient.csv\")\n",
    "csvs = [Lab, Exam]"
   ]
  },
  {
   "cell_type": "code",
   "execution_count": 3,
   "metadata": {},
   "outputs": [
    {
     "name": "stderr",
     "output_type": "stream",
     "text": [
      "<ipython-input-3-b18ee225f20d>:2: SettingWithCopyWarning: \n",
      "A value is trying to be set on a copy of a slice from a DataFrame.\n",
      "Try using .loc[row_indexer,col_indexer] = value instead\n",
      "\n",
      "See the caveats in the documentation: https://pandas.pydata.org/pandas-docs/stable/user_guide/indexing.html#returning-a-view-versus-a-copy\n",
      "  a1c['TestResult_calc'] = a1c['TestResult_calc'].str.replace('\\W', '')\n",
      "<ipython-input-3-b18ee225f20d>:3: SettingWithCopyWarning: \n",
      "A value is trying to be set on a copy of a slice from a DataFrame.\n",
      "Try using .loc[row_indexer,col_indexer] = value instead\n",
      "\n",
      "See the caveats in the documentation: https://pandas.pydata.org/pandas-docs/stable/user_guide/indexing.html#returning-a-view-versus-a-copy\n",
      "  a1c['TestResult_calc'] = a1c['TestResult_calc'].astype(float)\n",
      "<ipython-input-3-b18ee225f20d>:6: SettingWithCopyWarning: \n",
      "A value is trying to be set on a copy of a slice from a DataFrame.\n",
      "Try using .loc[row_indexer,col_indexer] = value instead\n",
      "\n",
      "See the caveats in the documentation: https://pandas.pydata.org/pandas-docs/stable/user_guide/indexing.html#returning-a-view-versus-a-copy\n",
      "  BP['Result1_calc'] = BP['Result1_calc'].replace('\\W', '')\n",
      "<ipython-input-3-b18ee225f20d>:7: SettingWithCopyWarning: \n",
      "A value is trying to be set on a copy of a slice from a DataFrame.\n",
      "Try using .loc[row_indexer,col_indexer] = value instead\n",
      "\n",
      "See the caveats in the documentation: https://pandas.pydata.org/pandas-docs/stable/user_guide/indexing.html#returning-a-view-versus-a-copy\n",
      "  BP['Result1_calc'] = BP['Result1_calc'].astype(float)\n",
      "<ipython-input-3-b18ee225f20d>:8: SettingWithCopyWarning: \n",
      "A value is trying to be set on a copy of a slice from a DataFrame.\n",
      "Try using .loc[row_indexer,col_indexer] = value instead\n",
      "\n",
      "See the caveats in the documentation: https://pandas.pydata.org/pandas-docs/stable/user_guide/indexing.html#returning-a-view-versus-a-copy\n",
      "  BP['Result2_calc'] = BP['Result1_calc'].replace('\\W', '')\n",
      "<ipython-input-3-b18ee225f20d>:9: SettingWithCopyWarning: \n",
      "A value is trying to be set on a copy of a slice from a DataFrame.\n",
      "Try using .loc[row_indexer,col_indexer] = value instead\n",
      "\n",
      "See the caveats in the documentation: https://pandas.pydata.org/pandas-docs/stable/user_guide/indexing.html#returning-a-view-versus-a-copy\n",
      "  BP['Result2_calc'] = BP['Result1_calc'].astype(float)\n",
      "<ipython-input-3-b18ee225f20d>:15: SettingWithCopyWarning: \n",
      "A value is trying to be set on a copy of a slice from a DataFrame.\n",
      "Try using .loc[row_indexer,col_indexer] = value instead\n",
      "\n",
      "See the caveats in the documentation: https://pandas.pydata.org/pandas-docs/stable/user_guide/indexing.html#returning-a-view-versus-a-copy\n",
      "  LDL['TestResult_calc'] = LDL['TestResult_calc'].str.replace('\\W', '')\n",
      "<ipython-input-3-b18ee225f20d>:16: SettingWithCopyWarning: \n",
      "A value is trying to be set on a copy of a slice from a DataFrame.\n",
      "Try using .loc[row_indexer,col_indexer] = value instead\n",
      "\n",
      "See the caveats in the documentation: https://pandas.pydata.org/pandas-docs/stable/user_guide/indexing.html#returning-a-view-versus-a-copy\n",
      "  LDL['TestResult_calc'] = LDL['TestResult_calc'].astype(float)\n",
      "<ipython-input-3-b18ee225f20d>:17: SettingWithCopyWarning: \n",
      "A value is trying to be set on a copy of a slice from a DataFrame.\n",
      "Try using .loc[row_indexer,col_indexer] = value instead\n",
      "\n",
      "See the caveats in the documentation: https://pandas.pydata.org/pandas-docs/stable/user_guide/indexing.html#returning-a-view-versus-a-copy\n",
      "  HDL['TestResult_calc'] = HDL['TestResult_calc'].str.replace('\\W', '')\n",
      "<ipython-input-3-b18ee225f20d>:18: SettingWithCopyWarning: \n",
      "A value is trying to be set on a copy of a slice from a DataFrame.\n",
      "Try using .loc[row_indexer,col_indexer] = value instead\n",
      "\n",
      "See the caveats in the documentation: https://pandas.pydata.org/pandas-docs/stable/user_guide/indexing.html#returning-a-view-versus-a-copy\n",
      "  HDL['TestResult_calc'] = HDL['TestResult_calc'].astype(float)\n",
      "<ipython-input-3-b18ee225f20d>:19: SettingWithCopyWarning: \n",
      "A value is trying to be set on a copy of a slice from a DataFrame.\n",
      "Try using .loc[row_indexer,col_indexer] = value instead\n",
      "\n",
      "See the caveats in the documentation: https://pandas.pydata.org/pandas-docs/stable/user_guide/indexing.html#returning-a-view-versus-a-copy\n",
      "  Tri['TestResult_calc'] = Tri['TestResult_calc'].str.replace('\\W', '')\n",
      "<ipython-input-3-b18ee225f20d>:20: SettingWithCopyWarning: \n",
      "A value is trying to be set on a copy of a slice from a DataFrame.\n",
      "Try using .loc[row_indexer,col_indexer] = value instead\n",
      "\n",
      "See the caveats in the documentation: https://pandas.pydata.org/pandas-docs/stable/user_guide/indexing.html#returning-a-view-versus-a-copy\n",
      "  Tri['TestResult_calc'] = Tri['TestResult_calc'].astype(float)\n",
      "<ipython-input-3-b18ee225f20d>:23: SettingWithCopyWarning: \n",
      "A value is trying to be set on a copy of a slice from a DataFrame.\n",
      "Try using .loc[row_indexer,col_indexer] = value instead\n",
      "\n",
      "See the caveats in the documentation: https://pandas.pydata.org/pandas-docs/stable/user_guide/indexing.html#returning-a-view-versus-a-copy\n",
      "  alb['TestResult_calc'] = alb['TestResult_calc'].str.replace('\\W', '')\n",
      "<ipython-input-3-b18ee225f20d>:24: SettingWithCopyWarning: \n",
      "A value is trying to be set on a copy of a slice from a DataFrame.\n",
      "Try using .loc[row_indexer,col_indexer] = value instead\n",
      "\n",
      "See the caveats in the documentation: https://pandas.pydata.org/pandas-docs/stable/user_guide/indexing.html#returning-a-view-versus-a-copy\n",
      "  alb['TestResult_calc'] = alb['TestResult_calc'].astype(float)\n"
     ]
    }
   ],
   "source": [
    "a1c = Lab.loc[Lab[\"Code_calc\"] == '17856-6']\n",
    "a1c['TestResult_calc'] = a1c['TestResult_calc'].str.replace('\\W', '')\n",
    "a1c['TestResult_calc'] = a1c['TestResult_calc'].astype(float)\n",
    "\n",
    "BP = Exam.loc[Exam[\"Exam1\"] == 'sBP (mmHg)']\n",
    "BP['Result1_calc'] = BP['Result1_calc'].replace('\\W', '')\n",
    "BP['Result1_calc'] = BP['Result1_calc'].astype(float)    \n",
    "BP['Result2_calc'] = BP['Result1_calc'].replace('\\W', '')\n",
    "BP['Result2_calc'] = BP['Result1_calc'].astype(float) \n",
    "\n",
    "LDL = Lab.loc[Lab[\"Code_calc\"] == '22748-8'] \n",
    "HDL = Lab.loc[Lab[\"Code_calc\"] == '14646-4'] \n",
    "Tri = Lab.loc[Lab[\"Code_calc\"] == '14927-8']\n",
    "\n",
    "LDL['TestResult_calc'] = LDL['TestResult_calc'].str.replace('\\W', '')\n",
    "LDL['TestResult_calc'] = LDL['TestResult_calc'].astype(float)\n",
    "HDL['TestResult_calc'] = HDL['TestResult_calc'].str.replace('\\W', '')\n",
    "HDL['TestResult_calc'] = HDL['TestResult_calc'].astype(float) \n",
    "Tri['TestResult_calc'] = Tri['TestResult_calc'].str.replace('\\W', '')\n",
    "Tri['TestResult_calc'] = Tri['TestResult_calc'].astype(float) \n",
    "\n",
    "alb = Lab.loc[Lab[\"Code_calc\"] == '32294-1']\n",
    "alb['TestResult_calc'] = alb['TestResult_calc'].str.replace('\\W', '')\n",
    "alb['TestResult_calc'] = alb['TestResult_calc'].astype(float) "
   ]
  },
  {
   "cell_type": "code",
   "execution_count": 4,
   "metadata": {},
   "outputs": [],
   "source": [
    "merge1 = LDL.merge(HDL,how='outer', on=['Patient_ID','PerformedDate', 'Name_calc', 'Code_calc', 'TestResult_calc', 'UnitOfMeasure_calc'])\n",
    "merge2 = merge1.merge(Tri, how = 'outer', on=['Patient_ID','PerformedDate', 'Name_calc', 'Code_calc', 'TestResult_calc', 'UnitOfMeasure_calc'] )\n"
   ]
  },
  {
   "cell_type": "code",
   "execution_count": 5,
   "metadata": {},
   "outputs": [],
   "source": [
    "header_list = ['Patient_ID','DateCreated','Exam1', 'd', 'Result1_calc', 'UnitOfMeasure_calc']\n",
    "header2_list = ['Patient_ID','DateCreated','Exam2', 'd', 'Result2_calc', 'UnitOfMeasure_calc']\n",
    "BPsys = BP.reindex(columns = header_list)\n",
    "BPdia = BP.reindex(columns = header2_list)\n",
    "BPdia['Exam1'] = BPdia['Exam2']\n",
    "BPdia['Result1_calc'] = BPdia['Result2_calc']\n",
    "BPnew = BPsys.append(BPdia)\n",
    "BPnew = BPnew.drop(['Exam2', 'Result2_calc'], axis = 1)\n",
    "BPnew = BPnew.rename(columns={\"DateCreated\": \"PerformedDate\", \"Exam1\": \"Name_calc\",\"d\": \"Code_calc\", \"Result1_calc\": \"BP_res\"})\n",
    "#print(BPnew)"
   ]
  },
  {
   "cell_type": "code",
   "execution_count": 7,
   "metadata": {},
   "outputs": [],
   "source": [
    "albLip = alb.merge(merge2, how='outer', on=['Patient_ID','PerformedDate', 'Name_calc', 'Code_calc', 'UnitOfMeasure_calc'])\n",
    "albLip = albLip.rename(columns={\"TestResult_calc_x\": \"Albumin/Creatinine_Res\", \"TestResult_calc_y\" : \"Lipids_Res\"})\n",
    "bigDF = albLip.merge(a1c,how='outer', on=['Patient_ID','PerformedDate', 'Name_calc', 'Code_calc', 'UnitOfMeasure_calc'])\n",
    "bigDF = bigDF.rename(columns={\"TestResult_calc\": \"a1c_Res\"})\n",
    "bigDF = bigDF.append(BPnew)\n",
    "#print(bigDF)\n",
    "                                "
   ]
  },
  {
   "cell_type": "code",
   "execution_count": 8,
   "metadata": {},
   "outputs": [],
   "source": [
    "bigDF['A1C_RF'] = 0\n",
    "bigDF.loc[(bigDF[\"Code_calc\"] == '17856-6') & (bigDF['a1c_Res'] < 7), 'A1C_RF'] = 1\n",
    "bigDF.loc[(bigDF[\"Code_calc\"] == '17856-6') & (bigDF['a1c_Res'] == 7), 'A1C_RF'] = 2\n",
    "bigDF.loc[(bigDF[\"Code_calc\"] == '17856-6') & (bigDF['a1c_Res'] > 7), 'A1C_RF'] = 3\n",
    "#print(bigDF)"
   ]
  },
  {
   "cell_type": "code",
   "execution_count": 9,
   "metadata": {},
   "outputs": [],
   "source": [
    "#Systolic\n",
    "bigDF['BPsys_RF'] = 0\n",
    "bigDF.loc[(bigDF['Name_calc'] == 'sBP (mmHg)') & (bigDF['BP_res'] <= 120 ), 'BPsys_RF'] = 1\n",
    "bigDF.loc[(bigDF['Name_calc'] == 'sBP (mmHg)') & (bigDF['BP_res'] <= 130 ) & (bigDF['BP_res'] > 120), 'BPsys_RF'] = 2\n",
    "bigDF.loc[(bigDF['Name_calc'] == 'sBP (mmHg)') & (bigDF['BP_res'] > 130 ), 'BPsys_RF'] = 3\n",
    "\n",
    "#Diastolic\n",
    "bigDF['BPdia_RF'] = 0\n",
    "bigDF.loc[(bigDF['Name_calc'] == 'dBP (mmHg)') & (bigDF['BP_res'] <= 70 ), 'BPsys_RF'] = 1\n",
    "bigDF.loc[(bigDF['Name_calc'] == 'dBP (mmHg)') & (bigDF['BP_res'] <= 80 ) & (bigDF['BP_res'] > 70 ), 'BPsys_RF'] = 2\n",
    "bigDF.loc[(bigDF['Name_calc'] == 'dBP (mmHg)') & (bigDF['BP_res'] > 80 ), 'BPsys_RF'] = 3\n",
    "\n",
    "bigDF['BP_RF'] = bigDF[['BPsys_RF', 'BPdia_RF']].mean(axis=1)\n",
    "#print(bigDF)"
   ]
  },
  {
   "cell_type": "code",
   "execution_count": 10,
   "metadata": {},
   "outputs": [],
   "source": [
    "#LDL\n",
    "bigDF['LDL_RF'] = 0\n",
    "bigDF.loc[(bigDF[\"Code_calc\"] == '22748-8') & (bigDF['Lipids_Res'] <= 5.6 ), 'LDL_RF'] = 1\n",
    "bigDF.loc[(bigDF[\"Code_calc\"] == '22748-8') & (bigDF['Lipids_Res'] >5.6) & (bigDF['Lipids_Res'] < 7.2), 'LDL_RF'] = 2\n",
    "bigDF.loc[(bigDF[\"Code_calc\"] == '22748-8') & (bigDF['Lipids_Res'] >= 7.2 ), 'LDL_RF'] = 3\n",
    "\n",
    "#HDL\n",
    "bigDF['HDL_RF'] = 0\n",
    "bigDF.loc[(bigDF[\"Code_calc\"] == '14646-4') & (bigDF['Lipids_Res'] => 3.3 ), 'HDL_RF'] = 1\n",
    "bigDF.loc[(bigDF[\"Code_calc\"] == '14646-4') & (bigDF['Lipids_Res'] < 3.3 ) & (bigDF['Lipids_Res'] > 2.2), 'HDL_RF'] = 2\n",
    "bigDF.loc[(bigDF[\"Code_calc\"] == '14646-4') & (bigDF['Lipids_Res'] <= 2.2 ), 'HDL_RF'] = 3\n",
    "\n",
    "#Tri\n",
    "bigDF['Tri_RF'] = 0\n",
    "bigDF.loc[(bigDF[\"Code_calc\"] == '14927-8') & (bigDF['Lipids_Res'] <= 1.7 ), 'Tri_RF'] = 1\n",
    "bigDF.loc[(bigDF[\"Code_calc\"] == '14927-8') & (bigDF['Lipids_Res'] > 1.7 ) & (bigDF['Lipids_Res'] < 5.6), 'Tri_RF'] = 2\n",
    "bigDF.loc[(bigDF[\"Code_calc\"] == '14927-8') & (bigDF['Lipids_Res'] >= 5.6 ), 'Tri_RF'] = 3\n",
    "\n",
    "bigDF['Lip_RF'] = bigDF[['LDL_RF', 'HDL_RF', 'Tri_RF']].mean(axis=1)\n",
    "#print(bigDF)"
   ]
  },
  {
   "cell_type": "code",
   "execution_count": 11,
   "metadata": {},
   "outputs": [],
   "source": [
    "#Albumin\n",
    "bigDF['Alb_RF'] = 0\n",
    "bigDF.loc[(bigDF[\"Code_calc\"] == '32294-1') & (bigDF['Albumin/Creatinine_Res'] <= 3.39 ), 'Alb_RF'] = 1\n",
    "bigDF.loc[(bigDF[\"Code_calc\"] == '32294-1') & (bigDF['Albumin/Creatinine_Res'] > 3.39 ) & (bigDF['Albumin/Creatinine_Res'] < 33.9), 'Alb_RF'] = 2\n",
    "bigDF.loc[(bigDF[\"Code_calc\"] == '32294-1') & (bigDF['Albumin/Creatinine_Res'] >= 33.9 ), 'Alb_RF'] = 3\n",
    "#print(bigDF)"
   ]
  },
  {
   "cell_type": "code",
   "execution_count": 12,
   "metadata": {},
   "outputs": [],
   "source": [
    "bigDF['Total_RF'] = bigDF[['A1C_RF', 'BP_RF', 'Lip_RF', 'Alb_RF']].sum(axis=1)\n",
    "#print(bigDF)"
   ]
  },
  {
   "cell_type": "code",
   "execution_count": 13,
   "metadata": {},
   "outputs": [
    {
     "name": "stdout",
     "output_type": "stream",
     "text": [
      "           Patient_ID PerformedDate                             Name_calc  \\\n",
      "0        1.000100e+12    2017-11-02  Urine Albumin/Creatinine Ratio (ACR)   \n",
      "1        1.000100e+12    2017-10-16  Urine Albumin/Creatinine Ratio (ACR)   \n",
      "2        1.000100e+12    2014-04-07  Urine Albumin/Creatinine Ratio (ACR)   \n",
      "3        1.000100e+12    2014-03-07  Urine Albumin/Creatinine Ratio (ACR)   \n",
      "4        1.000100e+12    2014-02-05  Urine Albumin/Creatinine Ratio (ACR)   \n",
      "...               ...           ...                                   ...   \n",
      "1048566  4.000000e+12    2015-08-17                            dBP (mmHg)   \n",
      "1048570  4.000000e+12    2016-09-21                            dBP (mmHg)   \n",
      "1048571  4.000000e+12    2015-07-17                            dBP (mmHg)   \n",
      "1048572  4.000000e+12    2018-01-22                            dBP (mmHg)   \n",
      "1048573  4.000000e+12    2017-08-30                            dBP (mmHg)   \n",
      "\n",
      "         Albumin/Creatinine_Res  Lipids_Res  a1c_Res  BP_res  A1C_RF  BP_RF  \\\n",
      "0                         392.0         NaN      NaN     NaN       0    0.0   \n",
      "1                         221.0         NaN      NaN     NaN       0    0.0   \n",
      "2                           9.0         NaN      NaN     NaN       0    0.0   \n",
      "3                           8.0         NaN      NaN     NaN       0    0.0   \n",
      "4                           9.0         NaN      NaN     NaN       0    0.0   \n",
      "...                         ...         ...      ...     ...     ...    ...   \n",
      "1048566                     NaN         NaN      NaN   133.0       0    1.5   \n",
      "1048570                     NaN         NaN      NaN   106.0       0    1.5   \n",
      "1048571                     NaN         NaN      NaN   107.0       0    1.5   \n",
      "1048572                     NaN         NaN      NaN   115.0       0    1.5   \n",
      "1048573                     NaN         NaN      NaN   116.0       0    1.5   \n",
      "\n",
      "         Lip_RF  Alb_RF  Total_RF  \n",
      "0           0.0       3       3.0  \n",
      "1           0.0       3       3.0  \n",
      "2           0.0       2       2.0  \n",
      "3           0.0       2       2.0  \n",
      "4           0.0       2       2.0  \n",
      "...         ...     ...       ...  \n",
      "1048566     0.0       0       1.5  \n",
      "1048570     0.0       0       1.5  \n",
      "1048571     0.0       0       1.5  \n",
      "1048572     0.0       0       1.5  \n",
      "1048573     0.0       0       1.5  \n",
      "\n",
      "[5780611 rows x 12 columns]\n"
     ]
    }
   ],
   "source": [
    "bigDF = bigDF.drop(['Code_calc','UnitOfMeasure_calc','BPsys_RF' ,'BPdia_RF','LDL_RF', 'HDL_RF', 'Tri_RF'], axis = 1)\n",
    "print(bigDF)"
   ]
  },
  {
   "cell_type": "code",
   "execution_count": 14,
   "metadata": {},
   "outputs": [],
   "source": [
    "##exports to zipped csv file\n",
    "compression_opts = dict(method='zip',\n",
    "                        archive_name='final.csv')  \n",
    "bigDF.to_csv('final.zip', index=False,\n",
    "          compression=compression_opts)  "
   ]
  },
  {
   "cell_type": "markdown",
   "metadata": {},
   "source": [
    "# Generate risk score based on vector of lab data"
   ]
  },
  {
   "cell_type": "code",
   "execution_count": null,
   "metadata": {},
   "outputs": [],
   "source": [
    "#lab = ['09/19/18', 13, 122, 88, 40, 8, 6, 17.5]\n",
    "#assuming vector is lab = [date, a1c, BP sys, BP dias, LDL, HDl, Tri, alb]\n",
    "def riskScoreCalc(lab):\n",
    "    #a1c\n",
    "    a1c = lab[1]\n",
    "    a1cRF = 0\n",
    "    if a1c>7: \n",
    "        a1cRF = 3\n",
    "    elif a1c==7: \n",
    "        a1cRF = 2\n",
    "    elif a1c<7:\n",
    "        a1cRF = 1\n",
    "    #BP RF\n",
    "    bpSys = lab[2]\n",
    "    bpSysRF = 0\n",
    "    bpDiaRF = 0\n",
    "    if bpSys > 130:\n",
    "        bpSysRF = 3\n",
    "    elif bpSys <= 120:\n",
    "        bpSysRF = 1\n",
    "    elif (bpSys > 120) and (bpSys <= 130):\n",
    "        bpSysRF = 2\n",
    "    bpDia = lab[3]\n",
    "    if bpDia > 80:\n",
    "        bpDiaRF = 3\n",
    "    elif bpDia <= 70:\n",
    "        bpDiaRF = 1\n",
    "    elif (bpDia > 70) and (bpDia <= 80):    \n",
    "        bpDiaRF = 2\n",
    "    \n",
    "    BPsum = bpSysRF + bpDiaRF\n",
    "    BP_RF = BPsum/2\n",
    "    \n",
    "    #Lipids\n",
    "    ldl = lab[4]\n",
    "    hdl = lab[5]\n",
    "    tri = lab[6]\n",
    "    ldlRF = 0\n",
    "    hdlRF = 0 \n",
    "    triRF = 0\n",
    "    if ldl >= 7.2:\n",
    "        ldlRF = 3\n",
    "    elif ldl <= 5.6:\n",
    "        ldlRF = 1\n",
    "    elif (ldl > 5.6) and (ldl < 7.2):\n",
    "        ldlRF = 2\n",
    "    if hdl >= 3.3:\n",
    "        hdlRF = 1\n",
    "    elif hdl <= 2.2:\n",
    "        hdlRF = 3\n",
    "    elif (hdl > 2.2) and (hdl < 3.3):\n",
    "        hdlRF = 2\n",
    "    if tri >= 5.6:\n",
    "        triRF = 3\n",
    "    elif tri <= 1.7:\n",
    "        triRF = 1\n",
    "    elif (tri > 1.7) and (tri < 5.6):\n",
    "        triRF = 2\n",
    "    \n",
    "    lipsum = ldlRF + hdlRF + triRF\n",
    "    lipRF = lipsum/3\n",
    "    \n",
    "    #alb\n",
    "    alb = lab[7]\n",
    "    albRF = 0 \n",
    "    if alb >= 33.9:\n",
    "        albRF = 3\n",
    "    elif alb <= 3.39:\n",
    "        albRF = 1\n",
    "    elif (alb > 3.39) and (alb < 33.9):\n",
    "        albRF = 2\n",
    "        \n",
    "    #totalRF\n",
    "    totalRF = a1cRF + BP_RF + lipRF + albRF\n",
    "    \n",
    "    ##return vector with date, individual risk scores and total RF\n",
    "    date = lab[0]\n",
    "    risk = [date, a1cRF, BP_RF, lipRF, albRF, totalRF]\n",
    "    print(risk)\n",
    "\n",
    "riskScoreCalc(lab)"
   ]
  },
  {
   "cell_type": "markdown",
   "metadata": {},
   "source": [
    "# Carrying values from visits within 2 weeks of each other\n",
    "a work in progress lol"
   ]
  },
  {
   "cell_type": "code",
   "execution_count": null,
   "metadata": {},
   "outputs": [],
   "source": [
    "#This takes a while to run and I didn't notice a difference\n",
    "#bigDF['PerformedDate'] = bigDF['PerformedDate'].apply(pd.to_datetime)"
   ]
  },
  {
   "cell_type": "code",
   "execution_count": null,
   "metadata": {},
   "outputs": [],
   "source": [
    "#bigDF = bigDF.sort_values(by='PerformedDate',ascending=True)\n",
    "#uniqID = bigDF.Patient_ID.unique()\n",
    "#print(uniqID)"
   ]
  },
  {
   "cell_type": "code",
   "execution_count": null,
   "metadata": {},
   "outputs": [],
   "source": [
    "#column_names = ['Patient_ID','PerformedDate', 'Name_calc', 'Code_calc', 'Albumin/Creatinine_Res','UnitOfMeasure_calc' ,'Lipids_Res', 'a1c_Res', 'BP_res']\n",
    "#newDF = pd.DataFrame(columns = column_names)\n",
    "#print(newDF)\n",
    "#from datetime import datetime, timedelta"
   ]
  },
  {
   "cell_type": "code",
   "execution_count": null,
   "metadata": {},
   "outputs": [],
   "source": [
    "#visits within 2 weeks of each other\n",
    "#for i in uniqID:   #for i in list of unique patient_IDs\n",
    "#    df = bigDF.loc[bigDF[\"Patient_ID\"] == i]      #make a dataframe with information(performed date, exam results) from each of their visits\n",
    "#    df = df.sort_values(by='PerformedDate',ascending=True)   #sort the rows by PerformedDate in ascending order so consecutive visits are next to each other\n",
    "#    for j in df:    \n",
    "#        df['delta'] = (df['PerformedDate']-df['PerformedDate'].shift())  #create a column that stores the difference in dates between consecutive visits\n",
    "#        df = df.dropna(subset = ['delta'])    #drop any NaN values in the difference in dates (some dates had NULL values)\n",
    "#        for index, row in df.iterrows():\n",
    "#            temp = (row['delta'])\n",
    "#            if temp < timedelta(days = 14):   #if the time difference between the current visit and the next visit is <2 weeks \n",
    "#               newDF = newDF.append(df.loc[index])  #copy the information to a new dataframe\n",
    "#               print(newDF)                        "
   ]
  }
 ],
 "metadata": {
  "kernelspec": {
   "display_name": "Python 3",
   "language": "python",
   "name": "python3"
  },
  "language_info": {
   "codemirror_mode": {
    "name": "ipython",
    "version": 3
   },
   "file_extension": ".py",
   "mimetype": "text/x-python",
   "name": "python",
   "nbconvert_exporter": "python",
   "pygments_lexer": "ipython3",
   "version": "3.9.0"
  }
 },
 "nbformat": 4,
 "nbformat_minor": 4
}
