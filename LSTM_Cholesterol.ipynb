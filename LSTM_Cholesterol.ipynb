{
 "cells": [
  {
   "cell_type": "code",
   "execution_count": 2,
   "id": "regulated-surface",
   "metadata": {},
   "outputs": [],
   "source": [
    "import tensorflow as tf\n",
    "import torch as torch\n",
    "from tensorflow.keras.models import Sequential\n",
    "import pandas as pd\n",
    "import numpy as np\n",
    "from numpy import array\n",
    "from tensorflow.keras.layers import Dense\n",
    "from tensorflow.keras.layers import LSTM\n",
    "from sklearn.metrics import mean_squared_error\n",
    "from math import sqrt\n",
    "import matplotlib.pyplot as plt\n",
    "from sklearn.metrics import mean_absolute_error\n",
    "from sklearn.metrics import mean_squared_error\n",
    "from sklearn.metrics import mean_squared_log_error\n",
    "from sklearn.model_selection import train_test_split"
   ]
  },
  {
   "cell_type": "code",
   "execution_count": 12,
   "id": "preliminary-mambo",
   "metadata": {},
   "outputs": [
    {
     "name": "stdout",
     "output_type": "stream",
     "text": [
      "            Patient_ID PerformedDate  Lipids_Res                  Name_calc\n",
      "544850   1000100164719    2015-04-21       235.0  Cholesterol in LDL (LDLc)\n",
      "544851   1000100166298    2015-02-13        66.0  Cholesterol in LDL (LDLc)\n",
      "544852   1000100166298    2017-10-19        64.0  Cholesterol in LDL (LDLc)\n",
      "544853   1000100165244    2016-10-14       136.0  Cholesterol in LDL (LDLc)\n",
      "544854   1000100164719    2014-03-18       293.0  Cholesterol in LDL (LDLc)\n",
      "...                ...           ...         ...                        ...\n",
      "1431291  4000000668610    2017-11-03       548.0  Cholesterol in LDL (LDLc)\n",
      "1431292  4000000668610    2018-10-16        29.0  Cholesterol in LDL (LDLc)\n",
      "1431293  4000000668610    2018-06-05       247.0  Cholesterol in LDL (LDLc)\n",
      "1431294  4000000679414    2019-07-17       222.0  Cholesterol in LDL (LDLc)\n",
      "1431295  4000000679617    2019-11-01         3.0  Cholesterol in LDL (LDLc)\n",
      "\n",
      "[820221 rows x 4 columns]\n",
      "                                               Lipids_Res\n",
      "0                      [224.0, 208.0, 209.0, 241.0, 25.0]\n",
      "1                                            [1.0, 111.0]\n",
      "2                                [11.0, 18.0, 19.0, 12.0]\n",
      "3       [248.0, 161.0, 194.0, 227.0, 139.0, 108.0, 172...\n",
      "4       [327.0, 265.0, 267.0, 268.0, 346.0, 396.0, 378...\n",
      "...                                                   ...\n",
      "119158                                            [224.0]\n",
      "119159                                            [142.0]\n",
      "119160                                       [67.0, 71.0]\n",
      "119161                                              [4.0]\n",
      "119162                                     [274.0, 253.0]\n",
      "\n",
      "[119163 rows x 1 columns]\n"
     ]
    }
   ],
   "source": [
    "data = pd.read_csv(\"~/PycharmProjects/Diabetes/finalNew.csv\", sep=',')\n",
    "Cholesterol_data = data[['Patient_ID', 'PerformedDate', 'Lipids_Res', 'Name_calc']]\n",
    "Cholesterol_data = Cholesterol_data[Cholesterol_data['Name_calc'] == 'Cholesterol in LDL (LDLc)']\n",
    "Cholesterol_data = Cholesterol_data.dropna()\n",
    "\n",
    "Cholesterol_data = Cholesterol_data.sort_values(by='PerformedDate', ascending=True)\n",
    "\n",
    "grouped_patients = Cholesterol_data.groupby(\"Patient_ID\")\n",
    "grouped_lists = grouped_patients[\"Lipids_Res\"].apply(list)\n",
    "grouped_lists = grouped_lists.reset_index()\n",
    "grouped_lists['Lipids_Res'] = grouped_lists['Lipids_Res'].apply(lambda x: list(set(x)))\n",
    "data = grouped_lists[['Lipids_Res']]\n",
    "print(data)"
   ]
  },
  {
   "cell_type": "code",
   "execution_count": null,
   "id": "tribal-cartoon",
   "metadata": {},
   "outputs": [],
   "source": [
    "def split_sequence(sequence, n_steps):\n",
    "    X, y = list(), list()\n",
    "    for i in range(len(sequence)):\n",
    "        # find the end of this pattern\n",
    "        end_ix = i + n_steps\n",
    "        # check if we are beyond the sequence\n",
    "        if end_ix > len(sequence) - 1:\n",
    "            break\n",
    "        # gather input and output parts of the pattern\n",
    "        seq_x, seq_y = sequence[i:end_ix], sequence[end_ix]\n",
    "        X.append(seq_x)\n",
    "        y.append(seq_y)\n",
    "    return array(X), array(y)\n",
    "\n",
    "a = [0,0,0]\n",
    "b = [[0], [0], [0], [0], [0], [0], [0], [0], [0], [0]]\n",
    "for index, row in data.iterrows() :\n",
    "    #raw_seq = data['Albumin/Creatinine_Res'].at[index]\n",
    "    if len(data['Lipids_Res'].at[index]) > 15 :\n",
    "        seq = data['Lipids_Res'].at[index]\n",
    "        # choose a number of time steps\n",
    "        n_steps = 3\n",
    "        # split into samples\n",
    "        X, y = split_sequence(seq, n_steps)\n",
    "        y = y.reshape((-1, 1))\n",
    "        a = np.vstack((a, X))\n",
    "        b = np.vstack((b, y))\n",
    "    else:\n",
    "        continue\n",
    "X = np.delete(a, (0), axis=0)\n",
    "y = b[10:, :]\n",
    "# reshape from [samples, timesteps] into [samples, timesteps, features]\n",
    "n_features = 1\n",
    "X = X.reshape((X.shape[0], X.shape[1], n_features))\n",
    "# define model\n",
    "model = Sequential()\n",
    "model.add(LSTM(50, activation='relu', input_shape=(n_steps, n_features)))\n",
    "model.add(Dense(1))\n",
    "model.compile(optimizer='adam', loss='mse')\n",
    "# fit model\n",
    "X_train, X_test, y_train, y_test = train_test_split(X, y, test_size=0.33, random_state=42)\n",
    "model.fit(X_train, y_train, epochs=200, verbose=0)\n",
    "#for index, row in data.iterrows() :\n",
    "# demonstrate prediction"
   ]
  },
  {
   "cell_type": "code",
   "execution_count": null,
   "id": "local-identifier",
   "metadata": {},
   "outputs": [],
   "source": [
    "for index, row in data.iterrows() :\n",
    "    if len(data['Lipids_Res'].at[index]) > 15 :\n",
    "        seq = data['Lipids_Res'].at[index]\n",
    "        #x_input = np.asarray(X_test[-4:-1])\n",
    "        #x_input = X_test.reshape((1, n_steps, n_features))\n",
    "        yhat = model.predict(X_test, verbose=0)\n",
    "        y_actual = np.asarray(y_test[-1:])\n",
    "        model.evaluate(X_train, y_train)"
   ]
  },
  {
   "cell_type": "code",
   "execution_count": null,
   "id": "english-brake",
   "metadata": {},
   "outputs": [],
   "source": []
  }
 ],
 "metadata": {
  "kernelspec": {
   "display_name": "Python 3",
   "language": "python",
   "name": "python3"
  },
  "language_info": {
   "codemirror_mode": {
    "name": "ipython",
    "version": 3
   },
   "file_extension": ".py",
   "mimetype": "text/x-python",
   "name": "python",
   "nbconvert_exporter": "python",
   "pygments_lexer": "ipython3",
   "version": "3.7.9"
  }
 },
 "nbformat": 4,
 "nbformat_minor": 5
}
