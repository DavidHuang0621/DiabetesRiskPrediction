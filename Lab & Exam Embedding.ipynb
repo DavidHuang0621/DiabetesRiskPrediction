{
 "cells": [
  {
   "cell_type": "code",
   "execution_count": 1,
   "metadata": {},
   "outputs": [],
   "source": [
    "import pandas as pd"
   ]
  },
  {
   "cell_type": "code",
   "execution_count": 54,
   "metadata": {},
   "outputs": [],
   "source": [
    "Lab = pd.read_csv(\"FullData/LabReduced.csv\", usecols = ['Patient_ID', 'PerformedDate', 'Name_calc', 'TestResult_calc', 'UnitOfMeasure_calc'])\n",
    "Exam = pd.read_csv(\"FullData/Exam.csv\", usecols = ['Patient_ID', 'Exam1', 'Result1_calc', 'Exam2', 'Result2_calc', 'UnitOfMeasure_calc', 'DateCreated'])\n"
   ]
  },
  {
   "cell_type": "code",
   "execution_count": 55,
   "metadata": {},
   "outputs": [
    {
     "name": "stdout",
     "output_type": "stream",
     "text": [
      "dBP (mmHg)                  2570192\n",
      "sBP (mmHg)                  2570192\n",
      "Weight (kg)                 1102589\n",
      "BMI (kg/m^2)                 910459\n",
      "Height (cm)                  736942\n",
      "Waist Circumference (cm)     115353\n",
      "PEFR (L/min)                     35\n",
      "Name: Name_calc, dtype: int64\n"
     ]
    }
   ],
   "source": [
    "Exam1 = Exam.drop(columns=['Exam2','Result2_calc']).rename(columns={'Exam1':'Name_calc','Result1_calc':'TestResult_calc'})\n",
    "Exam2 = Exam.drop(columns=['Exam1','Result1_calc']).rename(columns={'Exam2':'Name_calc','Result2_calc':'TestResult_calc'})\n",
    "Exam = pd.concat([Exam1,Exam2]).dropna()\n",
    "print(Exam['Name_calc'].value_counts(ascending=False))"
   ]
  },
  {
   "cell_type": "code",
   "execution_count": 56,
   "metadata": {},
   "outputs": [],
   "source": [
    "tests = ['Alanine Aminotransferase in Serum or Plasma (ALT)',\n",
    "              'Aspartate Aminotransferase in Serum or Plasma (AST)',\n",
    "              'Urea (mM)',\n",
    "              'Plasma Creatinine Clearance (eGFR)',\n",
    "              'Potassium (mM)',\n",
    "              'Sodium (mM)',\n",
    "              'Gamma Glutamyl Transferase in Serum or Plasma (GGT)',\n",
    "              'Leukocytes in Blood (WBC)',\n",
    "              'Protein, total (g/L)',\n",
    "              'Total Cholesterol (TCh)',\n",
    "              'Total Bilirubin (TBIL)',\n",
    "              'Platelets in Blood (PLT)',\n",
    "              'Fasting Blood Glucose (FBG)',\n",
    "              'Hemoglobin (Hb)',\n",
    "              'Erythrocytes in Blood (RBC)',\n",
    "              'Albumin (g/L)',\n",
    "              'Hemoglobin A1c (HbA1c)',\n",
    "              'BMI (kg/m^2)']\n",
    "Lab = Lab.loc[Lab.Name_calc.isin(tests)]\n",
    "Exam = Exam.loc[Exam.Name_calc.isin(tests)]"
   ]
  },
  {
   "cell_type": "code",
   "execution_count": 57,
   "metadata": {},
   "outputs": [],
   "source": [
    "Exam = Exam.rename(columns={'DateCreated':'PerformedDate'})\n",
    "Exam = Exam[Exam.columns[[0,4,1,2,3]]]"
   ]
  },
  {
   "cell_type": "code",
   "execution_count": 60,
   "metadata": {},
   "outputs": [],
   "source": [
    "lab = pd.concat([Lab,Exam])"
   ]
  },
  {
   "cell_type": "code",
   "execution_count": 61,
   "metadata": {},
   "outputs": [
    {
     "data": {
      "text/plain": [
       "Patient_ID                 0\n",
       "PerformedDate         432244\n",
       "Name_calc                  0\n",
       "TestResult_calc            0\n",
       "UnitOfMeasure_calc     28971\n",
       "dtype: int64"
      ]
     },
     "execution_count": 61,
     "metadata": {},
     "output_type": "execute_result"
    }
   ],
   "source": [
    "lab.isna().sum()"
   ]
  },
  {
   "cell_type": "code",
   "execution_count": 62,
   "metadata": {},
   "outputs": [
    {
     "data": {
      "text/plain": [
       "Patient_ID                0\n",
       "PerformedDate             0\n",
       "Name_calc                 0\n",
       "TestResult_calc           0\n",
       "UnitOfMeasure_calc    28660\n",
       "dtype: int64"
      ]
     },
     "execution_count": 62,
     "metadata": {},
     "output_type": "execute_result"
    }
   ],
   "source": [
    "lab = lab.dropna(subset = ['PerformedDate'])\n",
    "lab.isna().sum()"
   ]
  },
  {
   "cell_type": "code",
   "execution_count": 63,
   "metadata": {},
   "outputs": [
    {
     "data": {
      "text/plain": [
       "11993095"
      ]
     },
     "execution_count": 63,
     "metadata": {},
     "output_type": "execute_result"
    }
   ],
   "source": [
    "len(lab.index)"
   ]
  },
  {
   "cell_type": "code",
   "execution_count": 64,
   "metadata": {},
   "outputs": [],
   "source": [
    "disease_periods = pd.read_csv('AP_dp.csv', index_col=None)\n",
    "disease_periods = disease_periods.drop(disease_periods.columns[0], axis=1)"
   ]
  },
  {
   "cell_type": "code",
   "execution_count": 65,
   "metadata": {},
   "outputs": [
    {
     "data": {
      "text/plain": [
       "Patient_ID      int64\n",
       "CompOnset      object\n",
       "DateOfOnset    object\n",
       "dtype: object"
      ]
     },
     "execution_count": 65,
     "metadata": {},
     "output_type": "execute_result"
    }
   ],
   "source": [
    "disease_periods.dtypes"
   ]
  },
  {
   "cell_type": "code",
   "execution_count": 66,
   "metadata": {},
   "outputs": [
    {
     "data": {
      "text/html": [
       "<div>\n",
       "<style scoped>\n",
       "    .dataframe tbody tr th:only-of-type {\n",
       "        vertical-align: middle;\n",
       "    }\n",
       "\n",
       "    .dataframe tbody tr th {\n",
       "        vertical-align: top;\n",
       "    }\n",
       "\n",
       "    .dataframe thead th {\n",
       "        text-align: right;\n",
       "    }\n",
       "</style>\n",
       "<table border=\"1\" class=\"dataframe\">\n",
       "  <thead>\n",
       "    <tr style=\"text-align: right;\">\n",
       "      <th></th>\n",
       "      <th>Patient_ID</th>\n",
       "      <th>CompOnset</th>\n",
       "      <th>DateOfOnset</th>\n",
       "    </tr>\n",
       "  </thead>\n",
       "  <tbody>\n",
       "    <tr>\n",
       "      <th>0</th>\n",
       "      <td>4000000526483</td>\n",
       "      <td>1992-10-05</td>\n",
       "      <td>1991-01-22</td>\n",
       "    </tr>\n",
       "    <tr>\n",
       "      <th>1</th>\n",
       "      <td>4000000528945</td>\n",
       "      <td>1996-05-09</td>\n",
       "      <td>1994-07-29</td>\n",
       "    </tr>\n",
       "    <tr>\n",
       "      <th>2</th>\n",
       "      <td>4000000527165</td>\n",
       "      <td>1998-10-08</td>\n",
       "      <td>1994-05-16</td>\n",
       "    </tr>\n",
       "    <tr>\n",
       "      <th>3</th>\n",
       "      <td>4000000531095</td>\n",
       "      <td>1999-06-28</td>\n",
       "      <td>1998-11-04</td>\n",
       "    </tr>\n",
       "    <tr>\n",
       "      <th>4</th>\n",
       "      <td>4000000610981</td>\n",
       "      <td>1999-07-05</td>\n",
       "      <td>1991-03-25</td>\n",
       "    </tr>\n",
       "  </tbody>\n",
       "</table>\n",
       "</div>"
      ],
      "text/plain": [
       "      Patient_ID   CompOnset DateOfOnset\n",
       "0  4000000526483  1992-10-05  1991-01-22\n",
       "1  4000000528945  1996-05-09  1994-07-29\n",
       "2  4000000527165  1998-10-08  1994-05-16\n",
       "3  4000000531095  1999-06-28  1998-11-04\n",
       "4  4000000610981  1999-07-05  1991-03-25"
      ]
     },
     "execution_count": 66,
     "metadata": {},
     "output_type": "execute_result"
    }
   ],
   "source": [
    "disease_periods.head()"
   ]
  },
  {
   "cell_type": "code",
   "execution_count": 67,
   "metadata": {},
   "outputs": [],
   "source": [
    "patient_records = lab.loc[lab['Patient_ID'].isin(disease_periods['Patient_ID'])]"
   ]
  },
  {
   "cell_type": "code",
   "execution_count": 68,
   "metadata": {},
   "outputs": [
    {
     "name": "stdout",
     "output_type": "stream",
     "text": [
      "350943 Index(['Patient_ID', 'PerformedDate', 'Name_calc', 'TestResult_calc',\n",
      "       'UnitOfMeasure_calc'],\n",
      "      dtype='object')\n"
     ]
    }
   ],
   "source": [
    "print(len(patient_records.index),patient_records.columns)"
   ]
  },
  {
   "cell_type": "code",
   "execution_count": 69,
   "metadata": {},
   "outputs": [],
   "source": [
    "patient_records = pd.merge(patient_records, disease_periods, on='Patient_ID')"
   ]
  },
  {
   "cell_type": "code",
   "execution_count": 70,
   "metadata": {},
   "outputs": [
    {
     "name": "stdout",
     "output_type": "stream",
     "text": [
      "350943 Index(['Patient_ID', 'PerformedDate', 'Name_calc', 'TestResult_calc',\n",
      "       'UnitOfMeasure_calc', 'CompOnset', 'DateOfOnset'],\n",
      "      dtype='object')\n"
     ]
    }
   ],
   "source": [
    "print(len(patient_records.index),patient_records.columns)"
   ]
  },
  {
   "cell_type": "code",
   "execution_count": 71,
   "metadata": {},
   "outputs": [
    {
     "data": {
      "text/html": [
       "<div>\n",
       "<style scoped>\n",
       "    .dataframe tbody tr th:only-of-type {\n",
       "        vertical-align: middle;\n",
       "    }\n",
       "\n",
       "    .dataframe tbody tr th {\n",
       "        vertical-align: top;\n",
       "    }\n",
       "\n",
       "    .dataframe thead th {\n",
       "        text-align: right;\n",
       "    }\n",
       "</style>\n",
       "<table border=\"1\" class=\"dataframe\">\n",
       "  <thead>\n",
       "    <tr style=\"text-align: right;\">\n",
       "      <th></th>\n",
       "      <th>Patient_ID</th>\n",
       "      <th>PerformedDate</th>\n",
       "      <th>Name_calc</th>\n",
       "      <th>TestResult_calc</th>\n",
       "      <th>UnitOfMeasure_calc</th>\n",
       "      <th>CompOnset</th>\n",
       "      <th>DateOfOnset</th>\n",
       "    </tr>\n",
       "  </thead>\n",
       "  <tbody>\n",
       "    <tr>\n",
       "      <th>0</th>\n",
       "      <td>1000100164719</td>\n",
       "      <td>2013-10-11</td>\n",
       "      <td>Platelets in Blood (PLT)</td>\n",
       "      <td>225</td>\n",
       "      <td>10^9/L</td>\n",
       "      <td>2019-07-25</td>\n",
       "      <td>2013-03-26</td>\n",
       "    </tr>\n",
       "    <tr>\n",
       "      <th>1</th>\n",
       "      <td>1000100164719</td>\n",
       "      <td>2013-09-22</td>\n",
       "      <td>Platelets in Blood (PLT)</td>\n",
       "      <td>243</td>\n",
       "      <td>10^9/L</td>\n",
       "      <td>2019-07-25</td>\n",
       "      <td>2013-03-26</td>\n",
       "    </tr>\n",
       "    <tr>\n",
       "      <th>2</th>\n",
       "      <td>1000100164719</td>\n",
       "      <td>2016-02-22</td>\n",
       "      <td>Leukocytes in Blood (WBC)</td>\n",
       "      <td>6.2</td>\n",
       "      <td>10^9/L</td>\n",
       "      <td>2019-07-25</td>\n",
       "      <td>2013-03-26</td>\n",
       "    </tr>\n",
       "    <tr>\n",
       "      <th>3</th>\n",
       "      <td>1000100164719</td>\n",
       "      <td>2016-09-12</td>\n",
       "      <td>Hemoglobin A1c (HbA1c)</td>\n",
       "      <td>7.1</td>\n",
       "      <td>%</td>\n",
       "      <td>2019-07-25</td>\n",
       "      <td>2013-03-26</td>\n",
       "    </tr>\n",
       "    <tr>\n",
       "      <th>4</th>\n",
       "      <td>1000100164719</td>\n",
       "      <td>2013-10-11</td>\n",
       "      <td>Erythrocytes in Blood (RBC)</td>\n",
       "      <td>5</td>\n",
       "      <td>10^12/L</td>\n",
       "      <td>2019-07-25</td>\n",
       "      <td>2013-03-26</td>\n",
       "    </tr>\n",
       "  </tbody>\n",
       "</table>\n",
       "</div>"
      ],
      "text/plain": [
       "      Patient_ID PerformedDate                    Name_calc TestResult_calc  \\\n",
       "0  1000100164719    2013-10-11     Platelets in Blood (PLT)             225   \n",
       "1  1000100164719    2013-09-22     Platelets in Blood (PLT)             243   \n",
       "2  1000100164719    2016-02-22    Leukocytes in Blood (WBC)             6.2   \n",
       "3  1000100164719    2016-09-12       Hemoglobin A1c (HbA1c)             7.1   \n",
       "4  1000100164719    2013-10-11  Erythrocytes in Blood (RBC)               5   \n",
       "\n",
       "  UnitOfMeasure_calc   CompOnset DateOfOnset  \n",
       "0             10^9/L  2019-07-25  2013-03-26  \n",
       "1             10^9/L  2019-07-25  2013-03-26  \n",
       "2             10^9/L  2019-07-25  2013-03-26  \n",
       "3                  %  2019-07-25  2013-03-26  \n",
       "4            10^12/L  2019-07-25  2013-03-26  "
      ]
     },
     "execution_count": 71,
     "metadata": {},
     "output_type": "execute_result"
    }
   ],
   "source": [
    "patient_records.head()"
   ]
  },
  {
   "cell_type": "code",
   "execution_count": 72,
   "metadata": {},
   "outputs": [],
   "source": [
    "relVisits = patient_records[(patient_records['PerformedDate'] < patient_records['CompOnset']) & (patient_records['PerformedDate'] >= patient_records['DateOfOnset'])]\n"
   ]
  },
  {
   "cell_type": "code",
   "execution_count": 73,
   "metadata": {},
   "outputs": [
    {
     "data": {
      "text/plain": [
       "124009"
      ]
     },
     "execution_count": 73,
     "metadata": {},
     "output_type": "execute_result"
    }
   ],
   "source": [
    "len(relVisits.index)"
   ]
  },
  {
   "cell_type": "code",
   "execution_count": 81,
   "metadata": {},
   "outputs": [],
   "source": [
    "relVisits.PerformedDate = pd.to_datetime(relVisits.PerformedDate,format='%Y-%m-%d')\n",
    "relVisits.CompOnset = pd.to_datetime(relVisits.CompOnset,format='%Y-%m-%d')\n",
    "relVisits.DateOfOnset = pd.to_datetime(relVisits.DateOfOnset,format='%Y-%m-%d')"
   ]
  },
  {
   "cell_type": "code",
   "execution_count": 82,
   "metadata": {},
   "outputs": [],
   "source": [
    "relVisits.TestResult_calc = pd.to_numeric(relVisits.TestResult_calc,errors='coerce')\n",
    "relVisits = relVisits.dropna()"
   ]
  },
  {
   "cell_type": "code",
   "execution_count": 83,
   "metadata": {},
   "outputs": [
    {
     "name": "stdout",
     "output_type": "stream",
     "text": [
      "Patient_ID            0\n",
      "PerformedDate         0\n",
      "Name_calc             0\n",
      "TestResult_calc       0\n",
      "UnitOfMeasure_calc    0\n",
      "CompOnset             0\n",
      "DateOfOnset           0\n",
      "dtype: int64\n",
      "Patient_ID                     int64\n",
      "PerformedDate         datetime64[ns]\n",
      "Name_calc                     object\n",
      "TestResult_calc              float64\n",
      "UnitOfMeasure_calc            object\n",
      "CompOnset             datetime64[ns]\n",
      "DateOfOnset           datetime64[ns]\n",
      "dtype: object\n"
     ]
    }
   ],
   "source": [
    "print(relVisits.isna().sum())\n",
    "print(relVisits.dtypes)"
   ]
  },
  {
   "cell_type": "code",
   "execution_count": 84,
   "metadata": {},
   "outputs": [],
   "source": [
    "#remove vast minority units (mg/L for Total Bilirubin (n = 40) and mmol/L for Hemoglobin (n = 10))\n",
    "badIndices = relVisits.loc[(relVisits.Name_calc == 'Total Bilirubin (TBIL)') & (relVisits.UnitOfMeasure_calc == 'mg/L')].index\n",
    "badIndices2 = relVisits.loc[(relVisits.Name_calc == 'Hemoglobin (Hb)') & (relVisits.UnitOfMeasure_calc == 'mmol/L')].index\n",
    "relVisits = relVisits.drop(badIndices)\n",
    "relVisits = relVisits.drop(badIndices2)"
   ]
  },
  {
   "cell_type": "code",
   "execution_count": 85,
   "metadata": {},
   "outputs": [],
   "source": [
    "Results = relVisits"
   ]
  },
  {
   "cell_type": "code",
   "execution_count": 86,
   "metadata": {},
   "outputs": [],
   "source": [
    "for test in tests:\n",
    "    q1 = Results.loc[Results.Name_calc == test].TestResult_calc.quantile(.25)\n",
    "    q3 = Results.loc[Results.Name_calc == test].TestResult_calc.quantile(.75)\n",
    "    rng = q3 - q1\n",
    "    badIndices = Results.loc[(Results.Name_calc == test) & ((Results.TestResult_calc < (q1 - rng)) \n",
    "                                    |(Results.TestResult_calc > (q3 + rng)))].index\n",
    "    Results = Results.drop(badIndices)"
   ]
  },
  {
   "cell_type": "code",
   "execution_count": 87,
   "metadata": {},
   "outputs": [
    {
     "data": {
      "text/html": [
       "<div>\n",
       "<style scoped>\n",
       "    .dataframe tbody tr th:only-of-type {\n",
       "        vertical-align: middle;\n",
       "    }\n",
       "\n",
       "    .dataframe tbody tr th {\n",
       "        vertical-align: top;\n",
       "    }\n",
       "\n",
       "    .dataframe thead th {\n",
       "        text-align: right;\n",
       "    }\n",
       "</style>\n",
       "<table border=\"1\" class=\"dataframe\">\n",
       "  <thead>\n",
       "    <tr style=\"text-align: right;\">\n",
       "      <th></th>\n",
       "      <th>Patient_ID</th>\n",
       "      <th>PerformedDate</th>\n",
       "      <th>Name_calc</th>\n",
       "      <th>TestResult_calc</th>\n",
       "      <th>UnitOfMeasure_calc</th>\n",
       "      <th>CompOnset</th>\n",
       "      <th>DateOfOnset</th>\n",
       "    </tr>\n",
       "  </thead>\n",
       "  <tbody>\n",
       "    <tr>\n",
       "      <th>0</th>\n",
       "      <td>1000100164719</td>\n",
       "      <td>2013-10-11</td>\n",
       "      <td>Platelets in Blood (PLT)</td>\n",
       "      <td>225.0</td>\n",
       "      <td>10^9/L</td>\n",
       "      <td>2019-07-25</td>\n",
       "      <td>2013-03-26</td>\n",
       "    </tr>\n",
       "    <tr>\n",
       "      <th>1</th>\n",
       "      <td>1000100164719</td>\n",
       "      <td>2013-09-22</td>\n",
       "      <td>Platelets in Blood (PLT)</td>\n",
       "      <td>243.0</td>\n",
       "      <td>10^9/L</td>\n",
       "      <td>2019-07-25</td>\n",
       "      <td>2013-03-26</td>\n",
       "    </tr>\n",
       "    <tr>\n",
       "      <th>2</th>\n",
       "      <td>1000100164719</td>\n",
       "      <td>2016-02-22</td>\n",
       "      <td>Leukocytes in Blood (WBC)</td>\n",
       "      <td>6.2</td>\n",
       "      <td>10^9/L</td>\n",
       "      <td>2019-07-25</td>\n",
       "      <td>2013-03-26</td>\n",
       "    </tr>\n",
       "    <tr>\n",
       "      <th>3</th>\n",
       "      <td>1000100164719</td>\n",
       "      <td>2016-09-12</td>\n",
       "      <td>Hemoglobin A1c (HbA1c)</td>\n",
       "      <td>7.1</td>\n",
       "      <td>%</td>\n",
       "      <td>2019-07-25</td>\n",
       "      <td>2013-03-26</td>\n",
       "    </tr>\n",
       "    <tr>\n",
       "      <th>4</th>\n",
       "      <td>1000100164719</td>\n",
       "      <td>2013-10-11</td>\n",
       "      <td>Erythrocytes in Blood (RBC)</td>\n",
       "      <td>5.0</td>\n",
       "      <td>10^12/L</td>\n",
       "      <td>2019-07-25</td>\n",
       "      <td>2013-03-26</td>\n",
       "    </tr>\n",
       "  </tbody>\n",
       "</table>\n",
       "</div>"
      ],
      "text/plain": [
       "      Patient_ID PerformedDate                    Name_calc  TestResult_calc  \\\n",
       "0  1000100164719    2013-10-11     Platelets in Blood (PLT)            225.0   \n",
       "1  1000100164719    2013-09-22     Platelets in Blood (PLT)            243.0   \n",
       "2  1000100164719    2016-02-22    Leukocytes in Blood (WBC)              6.2   \n",
       "3  1000100164719    2016-09-12       Hemoglobin A1c (HbA1c)              7.1   \n",
       "4  1000100164719    2013-10-11  Erythrocytes in Blood (RBC)              5.0   \n",
       "\n",
       "  UnitOfMeasure_calc  CompOnset DateOfOnset  \n",
       "0             10^9/L 2019-07-25  2013-03-26  \n",
       "1             10^9/L 2019-07-25  2013-03-26  \n",
       "2             10^9/L 2019-07-25  2013-03-26  \n",
       "3                  % 2019-07-25  2013-03-26  \n",
       "4            10^12/L 2019-07-25  2013-03-26  "
      ]
     },
     "execution_count": 87,
     "metadata": {},
     "output_type": "execute_result"
    }
   ],
   "source": [
    "Results.head()"
   ]
  },
  {
   "cell_type": "code",
   "execution_count": 88,
   "metadata": {},
   "outputs": [
    {
     "data": {
      "text/plain": [
       "113731"
      ]
     },
     "execution_count": 88,
     "metadata": {},
     "output_type": "execute_result"
    }
   ],
   "source": [
    "len(Results.index)"
   ]
  },
  {
   "cell_type": "code",
   "execution_count": 89,
   "metadata": {},
   "outputs": [],
   "source": [
    "turtiles = pd.read_csv('TestTurtiles.csv')"
   ]
  },
  {
   "cell_type": "code",
   "execution_count": null,
   "metadata": {},
   "outputs": [],
   "source": []
  }
 ],
 "metadata": {
  "kernelspec": {
   "display_name": "Python 3",
   "language": "python",
   "name": "python3"
  },
  "language_info": {
   "codemirror_mode": {
    "name": "ipython",
    "version": 3
   },
   "file_extension": ".py",
   "mimetype": "text/x-python",
   "name": "python",
   "nbconvert_exporter": "python",
   "pygments_lexer": "ipython3",
   "version": "3.9.1"
  }
 },
 "nbformat": 4,
 "nbformat_minor": 4
}
