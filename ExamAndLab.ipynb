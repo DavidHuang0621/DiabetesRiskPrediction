{
 "cells": [
  {
   "cell_type": "code",
   "execution_count": 51,
   "metadata": {},
   "outputs": [
    {
     "name": "stdout",
     "output_type": "stream",
     "text": [
      "Index(['Lab_ID', 'Network_ID', 'Site_ID', 'Patient_ID', 'OriginalEMRID',\n",
      "       'Encounter_ID', 'PerformedDate', 'Name_orig', 'Name_calc',\n",
      "       'CodeType_orig', 'CodeType_calc', 'Code_orig', 'Code_calc',\n",
      "       'TestResult_orig', 'TestResult_calc', 'UpperNormal', 'LowerNormal',\n",
      "       'NormalRange', 'UnitOfMeasure_orig', 'UnitOfMeasure_calc',\n",
      "       'DateCreated', 'TempCol', 'TempTestResult'],\n",
      "      dtype='object') \n",
      "\n",
      "Index(['Exam_ID', 'Network_ID', 'Site_ID', 'Patient_ID', 'OriginalEMRID',\n",
      "       'Encounter_ID', 'Exam1', 'Result1_orig', 'Result1_calc', 'Exam2',\n",
      "       'Result2_orig', 'Result2_calc', 'UnitOfMeasure_orig',\n",
      "       'UnitOfMeasure_calc', 'PairingMethod', 'DateCreated'],\n",
      "      dtype='object')\n"
     ]
    }
   ],
   "source": [
    "'''This script provides some basic stats on a few of the CSVs from the CPCSSN database'''\n",
    "import pandas as pd\n",
    "import numpy as np\n",
    "\n",
    "#start with Lab results\n",
    "\n",
    "Lab = pd.read_csv(\"Lab.csv\")\n",
    "Exam = pd.read_csv(\"Exam.csv\")\n",
    "\n",
    "labCols = Lab.columns\n",
    "examCols = Exam.columns\n",
    "\n",
    "#check column headers\n",
    "print(labCols, '\\n')\n",
    "print(examCols)\n"
   ]
  },
  {
   "cell_type": "code",
   "execution_count": 52,
   "metadata": {},
   "outputs": [
    {
     "name": "stdout",
     "output_type": "stream",
     "text": [
      "Number of lab results: 7621\n",
      "Number of exam results: 2905\n",
      "\n",
      "Number of lab patients 93\n",
      "Range of lab results per patient:  1 330 \n",
      "\n",
      "Number of exam patients 97\n",
      "Range of exam results per patient:  3 123\n"
     ]
    }
   ],
   "source": [
    "#start with number of entries, patients and test results per patient\n",
    "print(\"Number of lab results: %d\" % len(Lab))\n",
    "print(\"Number of exam results: %d\\n\" % len(Exam))\n",
    "\n",
    "labPatients = []\n",
    "labPatientCounts = {}\n",
    "for index, row in Lab.iterrows():\n",
    "    patient = str(row['Patient_ID'])\n",
    "    try:\n",
    "        temp = labPatients.index(patient)\n",
    "    except:\n",
    "        labPatients.append(patient)\n",
    "    if patient not in labPatientCounts.keys():\n",
    "        labPatientCounts[patient] = 1;\n",
    "    else:\n",
    "        labPatientCounts[patient] += 1;\n",
    "\n",
    "print(\"Number of lab patients %d\" % len(labPatients))\n",
    "print(\"Range of lab results per patient: \", min(labPatientCounts.values()), max(labPatientCounts.values()), '\\n')\n",
    "\n",
    "examPatients = []\n",
    "examPatientCounts = {}\n",
    "for index, row in Exam.iterrows():\n",
    "    patient = str(row['Patient_ID'])\n",
    "    try:\n",
    "        temp = examPatients.index(patient)\n",
    "    except:\n",
    "        examPatients.append(patient)\n",
    "    if patient not in examPatientCounts.keys():\n",
    "        examPatientCounts[patient] = 1;\n",
    "    else:\n",
    "        examPatientCounts[patient] += 1;\n",
    "\n",
    "print(\"Number of exam patients %d\" % len(examPatients))\n",
    "print(\"Range of exam results per patient: \", min(examPatientCounts.values()), max(examPatientCounts.values()))"
   ]
  },
  {
   "cell_type": "code",
   "execution_count": 53,
   "metadata": {},
   "outputs": [],
   "source": [
    "import matplotlib.pyplot as plt"
   ]
  },
  {
   "cell_type": "code",
   "execution_count": 54,
   "metadata": {},
   "outputs": [
    {
     "data": {
      "image/png": "[encoded data removed]",
      "text/plain": [
       "<Figure size 432x288 with 1 Axes>"
      ]
     },
     "metadata": {
      "needs_background": "light"
     },
     "output_type": "display_data"
    },
    {
     "data": {
      "image/png": "[encoded data removed]",
      "text/plain": [
       "<Figure size 432x288 with 1 Axes>"
      ]
     },
     "metadata": {
      "needs_background": "light"
     },
     "output_type": "display_data"
    }
   ],
   "source": [
    "#Print plot of lab results per patient\n",
    "patientCountsS = {k: v for k, v in sorted(labPatientCounts.items(), key=lambda item: item[1])}\n",
    "\n",
    "plt.bar(range(len(labPatientCounts)), list(labPatientCounts.values()), align='center')\n",
    "plt.xticks(range(len(labPatientCounts)), list(labPatientCounts.keys()))\n",
    "\n",
    "plt.show()\n",
    "\n",
    "#Print plot of exam results per patient\n",
    "patientCountsS = {k: v for k, v in sorted(examPatientCounts.items(), key=lambda item: item[1])}\n",
    "\n",
    "plt.bar(range(len(examPatientCounts)), list(examPatientCounts.values()), align='center')\n",
    "plt.xticks(range(len(examPatientCounts)), list(examPatientCounts.keys()))\n",
    "\n",
    "plt.show()"
   ]
  },
  {
   "cell_type": "code",
   "execution_count": 121,
   "metadata": {},
   "outputs": [
    {
     "name": "stdout",
     "output_type": "stream",
     "text": [
      "['Albumin/Creatinine' 'CHOLESTEROL' 'CREATINE KINASE' 'CREATININE'\n",
      " 'CREATININE CLEARANCE' 'Cholesertol HDL' 'Cholesterol'\n",
      " 'Cholesterol Fasting' 'Cholesterol HDL' 'Cholesterol Random' 'Creatinine'\n",
      " 'Creatinine (serum)' 'GLUCOSE FASTING' 'GLUCOSE TOLERANCE'\n",
      " 'GLUCOSE, FASTING' 'Glucose Fasting' 'Glucose Tolerance 75g' 'HDL'\n",
      " 'HDL CHOL' 'HDL Cholesterol' 'HEMOCULT' 'HEMOGLBIN A1C' 'HbA1c'\n",
      " 'Hemocult' 'Hemocult sp1 Stl Ql' 'Hemocult sp2 Stl Ql'\n",
      " 'Hemocult sp3 Stl Ql' 'Hemoglobin' 'Hemoglobin A1c' 'INR' 'LDL'\n",
      " 'LDL CALCULATED' 'LDL Cholesterol' 'TOTAL CHOLESTEROL' 'TRIGLYCERIDE'\n",
      " 'TRIGLYCERIDES' 'TSH' 'TSH (Third Generation)' 'Total Cholesterol'\n",
      " 'Triglyceride' 'Triglycerides' 'URINE ALBUMIN/CREATININE RATIO'] \n",
      "\n",
      "['Creatinine (serum)' 'FASTING GLUCOSE' 'GLUCOSE TOLERANCE' 'HBA1C' 'HDL'\n",
      " 'Hemoglobin (Hb)' 'INR' 'LDL' 'TOTAL CHOLESTEROL' 'TRIGLYCERIDES' 'TSH'\n",
      " 'URINE ALBUMIN CREATININE RATIO' 'eGFR/GFR'] \n",
      "\n",
      "['BMI (kg/m^2)' 'Height (cm)' 'Weight (kg)' 'sBP (mmHg)'] \n",
      "\n",
      "['dBP (mmHg)'] \n",
      "\n"
     ]
    }
   ],
   "source": [
    "# Number of unique tests in Lab\n",
    "# with orig names\n",
    "uniqLabTestOrig = Lab['Name_orig'].unique()\n",
    "print(np.sort(uniqLabTestOrig), \"\\n\")\n",
    "\n",
    "# with calc names\n",
    "uniqLabTestCalc = Lab['Name_calc'].unique()\n",
    "#remove any nan values\n",
    "uniqLabTestCalc = [x for x in uniqLabTestCalc if str(x) != 'nan']\n",
    "\n",
    "print(np.sort(uniqLabTestCalc), \"\\n\")\n",
    "\n",
    "#now list unique exam types in Exam\n",
    "\n",
    "#exam 1\n",
    "uniqExam1 = Exam['Exam1'].unique()\n",
    "print(np.sort(uniqExam1), \"\\n\")\n",
    "\n",
    "\n",
    "#exam 2\n",
    "uniqExam2 = Exam['Exam2'].unique()\n",
    "#remove any nan values\n",
    "uniqExam2 = [x for x in uniqExam2 if str(x) != 'nan']\n",
    "\n",
    "print(np.sort(uniqExam2), \"\\n\")"
   ]
  },
  {
   "cell_type": "code",
   "execution_count": 141,
   "metadata": {
    "scrolled": true
   },
   "outputs": [
    {
     "data": {
      "text/plain": [
       "'\\nfig, ax = plt.subplots()\\ndf[\"datetime\"].astype(np.int64).plot.hist(ax=ax)\\nlabels = ax.get_xticks().tolist()\\nlabels = pd.to_datetime(labels)\\nax.set_xticklabels(labels, rotation=90)\\nplt.show()'"
      ]
     },
     "execution_count": 141,
     "metadata": {},
     "output_type": "execute_result"
    },
    {
     "data": {
      "image/png": "[encoded data removed]",
      "text/plain": [
       "<Figure size 432x288 with 1 Axes>"
      ]
     },
     "metadata": {
      "needs_background": "light"
     },
     "output_type": "display_data"
    }
   ],
   "source": [
    "#Print a histogram of dates of lab results \n",
    "dates = pd.DatetimeIndex(Lab['PerformedDate'])\n",
    "df = pd.DataFrame({\"datetime\": dates})\n",
    "\n",
    "df.groupby(df[\"datetime\"].dt.year).count().plot(kind=\"bar\")\n",
    "'''\n",
    "fig, ax = plt.subplots()\n",
    "df[\"datetime\"].astype(np.int64).plot.hist(ax=ax)\n",
    "labels = ax.get_xticks().tolist()\n",
    "labels = pd.to_datetime(labels)\n",
    "ax.set_xticklabels(labels, rotation=90)\n",
    "plt.show()'''"
   ]
  },
  {
   "cell_type": "code",
   "execution_count": 142,
   "metadata": {
    "scrolled": true
   },
   "outputs": [
    {
     "data": {
      "text/plain": [
       "'\\ndf = pd.DataFrame({\"datetime\": dates})\\nfig, ax = plt.subplots()\\ndf[\"datetime\"].astype(np.int64).plot.hist(ax=ax)\\nlabels = ax.get_xticks().tolist()\\nlabels = pd.to_datetime(labels)\\nax.set_xticklabels(labels, rotation=90)\\nplt.show()'"
      ]
     },
     "execution_count": 142,
     "metadata": {},
     "output_type": "execute_result"
    },
    {
     "data": {
      "image/png": "[encoded data removed]",
      "text/plain": [
       "<Figure size 432x288 with 1 Axes>"
      ]
     },
     "metadata": {
      "needs_background": "light"
     },
     "output_type": "display_data"
    }
   ],
   "source": [
    "#Print a histogram of dates of exam results \n",
    "dates = pd.DatetimeIndex(Exam['DateCreated'])\n",
    "\n",
    "df = pd.DataFrame({\"datetime\": dates})\n",
    "df.groupby(df[\"datetime\"].dt.year).count().plot(kind=\"bar\")\n",
    "'''\n",
    "df = pd.DataFrame({\"datetime\": dates})\n",
    "fig, ax = plt.subplots()\n",
    "df[\"datetime\"].astype(np.int64).plot.hist(ax=ax)\n",
    "labels = ax.get_xticks().tolist()\n",
    "labels = pd.to_datetime(labels)\n",
    "ax.set_xticklabels(labels, rotation=90)\n",
    "plt.show()'''"
   ]
  },
  {
   "cell_type": "code",
   "execution_count": 145,
   "metadata": {},
   "outputs": [
    {
     "name": "stdout",
     "output_type": "stream",
     "text": [
      "Hemoglobin (Hb)(with results/total):\t266/267\n",
      "Creatinine (serum)(with results/total):\t1612/1612\n",
      "HBA1C(with results/total):\t671/672\n",
      "FASTING GLUCOSE(with results/total):\t573/573\n",
      "URINE ALBUMIN CREATININE RATIO(with results/total):\t325/326\n",
      "HDL(with results/total):\t611/611\n",
      "LDL(with results/total):\t555/560\n",
      "TOTAL CHOLESTEROL(with results/total):\t617/617\n",
      "TRIGLYCERIDES(with results/total):\t613/613\n",
      "TSH(with results/total):\t391/391\n",
      "eGFR/GFR(with results/total):\t7/7\n",
      "GLUCOSE TOLERANCE(with results/total):\t2/4\n",
      "INR(with results/total):\t946/950\n",
      "\n",
      "sBP (mmHg) (w.r./total):\t812/812\n",
      "Weight (kg) (w.r./total):\t782/782\n",
      "Height (cm) (w.r./total):\t671/671\n",
      "BMI (kg/m^2) (w.r./total):\t640/640\n",
      "dBP (mmHg) (w.r./total):\t808/812\n"
     ]
    }
   ],
   "source": [
    "#find the number of occurances of each type of lab result in the Lab CSV\n",
    "test_freqs = {}\n",
    "for test in uniqLabTestCalc:\n",
    "    test_freqs[test] = [0,0]\n",
    "\n",
    "for index, row in Lab.iterrows():\n",
    "    test = str(row['Name_calc'])\n",
    "    result = str(row['TestResult_orig'])\n",
    "    if (test != 'nan'):\n",
    "        test_freqs[test][0] += 1\n",
    "        if (result != 'nan'):\n",
    "            test_freqs[test][1] += 1\n",
    "for key in test_freqs.keys():\n",
    "    print(\"%s(with results/total):\\t%d/%d\" % (key, test_freqs[key][1], test_freqs[key][0]))\n",
    "print()\n",
    "\n",
    "\n",
    "#and number of occurances of each type of exam result in the Exam CSV\n",
    "exam_freqs = {}\n",
    "for exam in uniqExam1:\n",
    "    exam_freqs[exam] = [0,0]\n",
    "    \n",
    "for exam in uniqExam2:\n",
    "    exam_freqs[exam] = [0,0]\n",
    "\n",
    "for index, row in Exam.iterrows():\n",
    "    exam1 = str(row['Exam1'])\n",
    "    result1 = str(row['Result1_orig'])\n",
    "    exam2 = str(row['Exam2'])\n",
    "    result2 = str(row['Result2_orig'])\n",
    "    \n",
    "    exam_freqs[exam1][0] += 1\n",
    "    if (result1 != \"nan\"):\n",
    "        exam_freqs[exam1][1] += 1\n",
    "    \n",
    "    if (exam2 != 'nan'):\n",
    "        exam_freqs[exam2][0] += 1\n",
    "        if (result2 != \"nan\"):\n",
    "            exam_freqs[exam2][1] += 1\n",
    "        \n",
    "for key in exam_freqs.keys():\n",
    "    print(\"%s (w.r./total):\\t%d/%d\" % (key, exam_freqs[key][1], exam_freqs[key][0]))\n",
    "    "
   ]
  },
  {
   "cell_type": "code",
   "execution_count": null,
   "metadata": {},
   "outputs": [],
   "source": []
  }
 ],
 "metadata": {
  "kernelspec": {
   "display_name": "Python 3",
   "language": "python",
   "name": "python3"
  },
  "language_info": {
   "codemirror_mode": {
    "name": "ipython",
    "version": 3
   },
   "file_extension": ".py",
   "mimetype": "text/x-python",
   "name": "python",
   "nbconvert_exporter": "python",
   "pygments_lexer": "ipython3",
   "version": "3.8.6"
  }
 },
 "nbformat": 4,
 "nbformat_minor": 4
}
