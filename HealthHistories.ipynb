{
 "cells": [
  {
   "cell_type": "code",
   "execution_count": 58,
   "metadata": {},
   "outputs": [
    {
     "name": "stdout",
     "output_type": "stream",
     "text": [
      "Billing.csv           Lab.csv               Referral.csv\r\n",
      "DiseaseCase.csv       MedicalProcedure.csv  RiskFactor.csv\r\n",
      "Exam.csv              Medication.csv        Vaccine.csv\r\n",
      "HealthCondition.csv   Patient.csv\r\n"
     ]
    }
   ],
   "source": [
    "ls NewCSVs"
   ]
  },
  {
   "cell_type": "markdown",
   "metadata": {},
   "source": [
    "## Initial Features to consider\n",
    "\n",
    "#### Skip for now\n",
    "- Disease_Case - all diabetes\n",
    "- Referral -7 rows\n",
    "- Vaccine - tetanus shots\n",
    "\n",
    "#### Focus on:\n",
    "- Billing\n",
    "- Exam\n",
    "- Health_Condition\n",
    "- Lab\n",
    "- Medical_Procedure\n",
    "- Medication\n",
    "- Patient\n",
    "- Risk_Factor\n",
    "\n",
    "#### Assignments\n",
    "**Nick** - Exam, Lab \n",
    "\n",
    "**Ellie** - Patient, Risk_Factor\n",
    "\n",
    "**Susan** - Health_Condition, Medical\n",
    "\n",
    "**David** - Billing, Medication"
   ]
  },
  {
   "cell_type": "code",
   "execution_count": 13,
   "metadata": {},
   "outputs": [],
   "source": [
    "import pandas as pd\n",
    "\n",
    "#Import data into dataframes\n",
    "Billing = pd.read_csv(\"NewCSVs/Billing.csv\")\n",
    "DiseaseCase = pd.read_csv(\"NewCSVs/DiseaseCase.csv\")  #All diabetes \n",
    "Exam = pd.read_csv(\"NewCSVs/Exam.csv\")\n",
    "HealthCondition = pd.read_csv(\"NewCSVs/HealthCondition.csv\")\n",
    "Lab = pd.read_csv(\"NewCSVs/Lab.csv\")\n",
    "MP = pd.read_csv(\"NewCSVs/MedicalProcedure.csv\")\n",
    "Medication = pd.read_csv(\"NewCSVs/Medication.csv\")\n",
    "Patient = pd.read_csv(\"NewCSVs/Patient.csv\")\n",
    "Referral = pd.read_csv(\"NewCSVs/Referral.csv\")\n",
    "RiskFactor = pd.read_csv(\"NewCSVs/RiskFactor.csv\")\n",
    "Vaccine = pd.read_csv(\"NewCSVs/Vaccine.csv\")\n",
    "\n",
    "#Store in list\n",
    "csvs = [Billing, DiseaseCase, Exam, HealthCondition, Lab, MP, Medication, Patient, Referral, RiskFactor, Vaccine]\n"
   ]
  },
  {
   "cell_type": "code",
   "execution_count": 15,
   "metadata": {},
   "outputs": [
    {
     "name": "stdout",
     "output_type": "stream",
     "text": [
      "Index(['Billing_ID', 'Network_ID', 'Site_ID', 'Patient_ID', 'OriginalEMRID',\n",
      "       'EncounterID', 'ServiceDate', 'ServiceCode', 'DiagnosisText_orig',\n",
      "       'DiagnosisText_calc', 'DiagnosisCodeType_orig',\n",
      "       'DiagnosisCodeType_calc', 'DiagnosisCode_orig', 'DiagnosisCode_calc',\n",
      "       'DateCreated', 'DiagnosisCode_calc_3_dgt'],\n",
      "      dtype='object')\n",
      "Index(['DiseaseCase_ID', 'Patient_ID', 'Disease', 'DateOfOnset'], dtype='object')\n",
      "Index(['Exam_ID', 'Network_ID', 'Site_ID', 'Patient_ID', 'OriginalEMRID',\n",
      "       'Encounter_ID', 'Exam1', 'Result1_orig', 'Result1_calc', 'Exam2',\n",
      "       'Result2_orig', 'Result2_calc', 'UnitOfMeasure_orig',\n",
      "       'UnitOfMeasure_calc', 'PairingMethod', 'DateCreated'],\n",
      "      dtype='object')\n",
      "Index(['HealthCondition_ID', 'Network_ID', 'Site_ID', 'Patient_ID',\n",
      "       'OriginalEMRID', 'Encounter_ID', 'DiagnosisText_orig',\n",
      "       'DiagnosisText_calc', 'DiagnosisCodeType_orig',\n",
      "       'DiagnosisCodeType_calc', 'DiagnosisCode_orig', 'DiagnosisCode_calc',\n",
      "       'DateOfOnset', 'SignificantNegativeFlag', 'ActiveInactiveFlag',\n",
      "       'DateCreated', 'DiagnosisCode_calc_3_dgt'],\n",
      "      dtype='object')\n",
      "Index(['Lab_ID', 'Network_ID', 'Site_ID', 'Patient_ID', 'OriginalEMRID',\n",
      "       'Encounter_ID', 'PerformedDate', 'Name_orig', 'Name_calc',\n",
      "       'CodeType_orig', 'CodeType_calc', 'Code_orig', 'Code_calc',\n",
      "       'TestResult_orig', 'TestResult_calc', 'UpperNormal', 'LowerNormal',\n",
      "       'NormalRange', 'UnitOfMeasure_orig', 'UnitOfMeasure_calc',\n",
      "       'DateCreated', 'TempCol', 'TempTestResult'],\n",
      "      dtype='object')\n",
      "Index(['MedicalProcedure_ID', 'Network_ID', 'Site_ID', 'Patient_ID',\n",
      "       'OriginalEMRID', 'Encounter_ID', 'PerformedDate', 'Name_orig',\n",
      "       'Name_calc', 'DateCreated'],\n",
      "      dtype='object')\n",
      "Index(['Medication_ID', 'Network_ID', 'Site_ID', 'Patient_ID', 'OriginalEMRID',\n",
      "       'Encounter_ID', 'StartDate', 'StopDate', 'Reason', 'DIN', 'Name_orig',\n",
      "       'Name_calc', 'CodeType_orig', 'CodeType_calc', 'Code_orig', 'Code_calc',\n",
      "       'Strength', 'Dose', 'UnitOfMeasure', 'Frequency', 'DurationCount',\n",
      "       'DurationUnit', 'DispensedCount', 'DispensedForm', 'RefillCount',\n",
      "       'DateCreated', 'left3Med'],\n",
      "      dtype='object')\n",
      "Index(['Patient_ID', 'Sex', 'BirthYear', 'BirthMonth', 'OptOutDate'], dtype='object')\n",
      "Index(['Referral_ID', 'Network_ID', 'Site_ID', 'Patient_ID', 'OriginalEMRID',\n",
      "       'Encounter_ID', 'CompletedDate', 'Name_orig', 'Name_calc',\n",
      "       'ConceptCode', 'DateCreated'],\n",
      "      dtype='object')\n",
      "Index(['RiskFactor_ID', 'Network_ID', 'Site_ID', 'Patient_ID', 'OriginalEMRID',\n",
      "       'Encounter_ID', 'StartDate', 'EndDate', 'Name_orig', 'Name_calc',\n",
      "       'Value_orig', 'Value_calc', 'Status_orig', 'Status_calc', 'Frequency',\n",
      "       'FrequencyType', 'FrequencyUnit', 'Duration', 'DurationType',\n",
      "       'DurationUnit', 'EndDuration', 'EndDurationType', 'EndDurationUnit',\n",
      "       'RiskDetails', 'DateCreated', 'RiskF'],\n",
      "      dtype='object')\n",
      "Index(['Vaccine_ID', 'Network_ID', 'Site_ID', 'Patient_ID', 'OriginalEMRID',\n",
      "       'Encounter_ID', 'GivenDate', 'ExpiryDate', 'Name_orig', 'Name_calc',\n",
      "       'CodeType_orig', 'CodeType_calc', 'Code_orig', 'Code_calc', 'DIN',\n",
      "       'Dose', 'UnitOfMeasure', 'NotGiven', 'NotGivenReason', 'Reaction',\n",
      "       'AdminSite', 'Route', 'Lot', 'DateCreated'],\n",
      "      dtype='object')\n"
     ]
    }
   ],
   "source": [
    "#Check Column headers\n",
    "for x in csvs :\n",
    "    print(x.columns)"
   ]
  },
  {
   "cell_type": "code",
   "execution_count": 37,
   "metadata": {},
   "outputs": [
    {
     "name": "stdout",
     "output_type": "stream",
     "text": [
      "5 319\n"
     ]
    }
   ],
   "source": [
    "#Number of visits per patient\n",
    "patientCounts = {}\n",
    "for index, row in Billing.iterrows() :\n",
    "    temp = str(row['Patient_ID'])\n",
    "    if temp not in patientCounts.keys() :\n",
    "        patientCounts[temp] = 1\n",
    "    else :\n",
    "        patientCounts[temp] = patientCounts[temp] + 1\n",
    "        \n",
    "print(min(patientCounts.values()), max(patientCounts.values()))"
   ]
  },
  {
   "cell_type": "code",
   "execution_count": 34,
   "metadata": {},
   "outputs": [],
   "source": [
    "import matplotlib.pyplot as plt"
   ]
  },
  {
   "cell_type": "code",
   "execution_count": 52,
   "metadata": {},
   "outputs": [
    {
     "data": {
      "image/png": "[encoded data removed]",
      "text/plain": [
       "<Figure size 432x288 with 1 Axes>"
      ]
     },
     "metadata": {
      "needs_background": "light"
     },
     "output_type": "display_data"
    }
   ],
   "source": [
    "#Print plot of hospital visits\n",
    "patientCountsS = {k: v for k, v in sorted(patientCounts.items(), key=lambda item: item[1])}\n",
    "\n",
    "plt.bar(range(len(patientCounts)), list(patientCounts.values()), align='center')\n",
    "plt.xticks(range(len(patientCounts)), list(patientCounts.keys()))\n",
    "\n",
    "plt.show()\n"
   ]
  },
  {
   "cell_type": "code",
   "execution_count": 59,
   "metadata": {},
   "outputs": [
    {
     "data": {
      "text/plain": [
       "744"
      ]
     },
     "execution_count": 59,
     "metadata": {},
     "output_type": "execute_result"
    }
   ],
   "source": [
    "# Number of unique diagnosis' in Billing\n",
    "uniqDiag = Billing['DiagnosisText_calc'].unique()\n",
    "uniqDiag.size"
   ]
  },
  {
   "cell_type": "code",
   "execution_count": 60,
   "metadata": {},
   "outputs": [
    {
     "data": {
      "text/plain": [
       "609"
      ]
     },
     "execution_count": 60,
     "metadata": {},
     "output_type": "execute_result"
    }
   ],
   "source": [
    "# Number of unique diagnosis' in Health_Condition\n",
    "uniqDiagHC = HealthCondition['DiagnosisText_calc'].unique()\n",
    "uniqDiagHC.size"
   ]
  },
  {
   "cell_type": "code",
   "execution_count": 50,
   "metadata": {},
   "outputs": [],
   "source": [
    "# Patient birthdays\n",
    "ages = {}\n",
    "for index, row in Patient.iterrows() :\n",
    "    temp = str(row['BirthYear'])\n",
    "    if temp not in ages.keys() :\n",
    "        ages[temp] = 1\n",
    "    else :\n",
    "        ages[temp] = ages[temp] + 1"
   ]
  },
  {
   "cell_type": "code",
   "execution_count": 56,
   "metadata": {},
   "outputs": [
    {
     "data": {
      "text/plain": [
       "{'1970': 3,\n",
       " '1978': 1,\n",
       " '1967': 4,\n",
       " '1992': 4,\n",
       " '1971': 2,\n",
       " '1972': 2,\n",
       " '1997': 2,\n",
       " '1993': 3,\n",
       " '1973': 1,\n",
       " '1976': 3,\n",
       " '1982': 1,\n",
       " '1995': 4,\n",
       " '1953': 2,\n",
       " '1957': 1,\n",
       " '1990': 7,\n",
       " '1959': 2,\n",
       " '1969': 1,\n",
       " '1954': 3,\n",
       " '1937': 1,\n",
       " '1923': 1,\n",
       " '1998': 2,\n",
       " '1961': 4,\n",
       " '1964': 4,\n",
       " '1965': 2,\n",
       " '1952': 1,\n",
       " '1991': 3,\n",
       " '1948': 1,\n",
       " '1994': 1,\n",
       " '1966': 1,\n",
       " '1980': 1,\n",
       " '1963': 3,\n",
       " '1943': 2,\n",
       " '1956': 2,\n",
       " '1974': 1,\n",
       " '1962': 3,\n",
       " '1989': 3,\n",
       " '1944': 2,\n",
       " '1960': 2,\n",
       " '1958': 1,\n",
       " '1934': 1,\n",
       " '1938': 1,\n",
       " '1996': 5,\n",
       " '1930': 1,\n",
       " '1977': 1,\n",
       " '1951': 1,\n",
       " '1955': 1,\n",
       " '1940': 1,\n",
       " '1988': 1}"
      ]
     },
     "execution_count": 56,
     "metadata": {},
     "output_type": "execute_result"
    }
   ],
   "source": [
    "ages"
   ]
  },
  {
   "cell_type": "code",
   "execution_count": 53,
   "metadata": {},
   "outputs": [
    {
     "data": {
      "image/png": "[encoded data removed]",
      "text/plain": [
       "<Figure size 432x288 with 1 Axes>"
      ]
     },
     "metadata": {
      "needs_background": "light"
     },
     "output_type": "display_data"
    }
   ],
   "source": [
    "# Plot birthdays\n",
    "plt.bar(range(len(ages)), list(ages.values()), align='center')\n",
    "plt.xticks(range(len(ages)), list(ages.keys()))\n",
    "\n",
    "plt.show()"
   ]
  },
  {
   "cell_type": "code",
   "execution_count": null,
   "metadata": {},
   "outputs": [],
   "source": []
  }
 ],
 "metadata": {
  "kernelspec": {
   "display_name": "Python 3",
   "language": "python",
   "name": "python3"
  },
  "language_info": {
   "codemirror_mode": {
    "name": "ipython",
    "version": 3
   },
   "file_extension": ".py",
   "mimetype": "text/x-python",
   "name": "python",
   "nbconvert_exporter": "python",
   "pygments_lexer": "ipython3",
   "version": "3.7.4"
  },
  "toc": {
   "base_numbering": 1,
   "nav_menu": {},
   "number_sections": false,
   "sideBar": false,
   "skip_h1_title": false,
   "title_cell": "Table of Contents",
   "title_sidebar": "Contents",
   "toc_cell": false,
   "toc_position": {},
   "toc_section_display": false,
   "toc_window_display": false
  }
 },
 "nbformat": 4,
 "nbformat_minor": 2
}
