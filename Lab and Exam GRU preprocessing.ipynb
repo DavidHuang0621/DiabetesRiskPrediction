{
 "cells": [
  {
   "cell_type": "markdown",
   "metadata": {},
   "source": [
    "## Import libraries and load CSVs"
   ]
  },
  {
   "cell_type": "code",
   "execution_count": 47,
   "metadata": {},
   "outputs": [
    {
     "name": "stderr",
     "output_type": "stream",
     "text": [
      "C:\\Users\\niche\\AppData\\Local\\Packages\\PythonSoftwareFoundation.Python.3.8_qbz5n2kfra8p0\\LocalCache\\local-packages\\Python38\\site-packages\\IPython\\core\\interactiveshell.py:3146: DtypeWarning: Columns (4) have mixed types.Specify dtype option on import or set low_memory=False.\n",
      "  has_raised = await self.run_ast_nodes(code_ast.body, cell_name,\n"
     ]
    }
   ],
   "source": [
    "import pandas as pd\n",
    "import numpy as np\n",
    "import datetime\n",
    "import math\n",
    "\n",
    "#read in Lab with only columns of interest\n",
    "Lab = pd.read_csv(\"LabReduced.csv\", usecols = ['Patient_ID', 'PerformedDate', 'Name_calc', 'TestResult_calc', 'UnitOfMeasure_calc'])\n",
    "#read in Exam with only columns of interest\n",
    "Exam = pd.read_csv(\"Exam.csv\", usecols = ['Patient_ID', 'Exam1', 'Result1_calc', 'Exam2', 'Result2_calc', 'UnitOfMeasure_calc', 'DateCreated'])\n",
    "#read in DiseaseCase with only columns of interest\n",
    "DiseaseCase = pd.read_csv(\"DiseaseCase.csv\", usecols = ['Patient_ID', 'DateOfOnset'])\n",
    "#read in Billing"
   ]
  },
  {
   "cell_type": "markdown",
   "metadata": {},
   "source": [
    "## List all types of lab and exam tests and remove rows with null result_calc values"
   ]
  },
  {
   "cell_type": "code",
   "execution_count": 48,
   "metadata": {},
   "outputs": [
    {
     "name": "stdout",
     "output_type": "stream",
     "text": [
      "Creatinine (Serum-Cr)                                                                           1621753\n",
      "Hemoglobin A1c (HbA1c)                                                                          1461598\n",
      "Hemoglobin (Hb)                                                                                 1418319\n",
      "Erythrocyte Mean Corpuscular Volume (MCV)                                                       1247198\n",
      "Leukocytes in Blood (WBC)                                                                       1156710\n",
      "Erythrocyte Mean Corpuscular Hemoglobin Concentration (MCHC)                                    1154266\n",
      "Platelets in Blood (PLT)                                                                        1142699\n",
      "Plasma Creatinine Clearance (eGFR)                                                              1114447\n",
      "Erythrocyte Distribution Width [Ratio] (RDW_CV)                                                 1104308\n",
      "Erythrocytes in Blood (RBC)                                                                     1080802\n",
      "Erythrocyte Mean Corpuscular Hemoglobin (MCH)                                                    949460\n",
      "Cholesterol in HDL (HDLc)                                                                        906924\n",
      "Total Cholesterol (TCh)                                                                          901559\n",
      "Triglycerides (TG)                                                                               892342\n",
      "Alanine Aminotransferase in Serum or Plasma (ALT)                                                866970\n",
      "Cholesterol in LDL (LDLc)                                                                        850095\n",
      "Fasting Blood Glucose (FBG)                                                                      766095\n",
      "Thyroid-Stimulating Hormone (TSH)                                                                610545\n",
      "Urine Albumin/Creatinine Ratio (ACR)                                                             506922\n",
      "Creatinine in Urine (U-Cr)                                                                       492632\n",
      "Alkaline Phosphatase in Serum or Plasma (ALP)                                                    454095\n",
      "Microalbumin in Urine (U-Alb)                                                                    444024\n",
      "Aspartate Aminotransferase in Serum or Plasma (AST)                                              305315\n",
      "Total Bilirubin (TBIL)                                                                           284015\n",
      "Cholesterol non HDL (NHDL)                                                                       250378\n",
      "Gamma Glutamyl Transferase in Serum or Plasma (GGT)                                              171982\n",
      "Sodium (mM)                                                                                      139308\n",
      "Potassium (mM)                                                                                   132759\n",
      "Free Thyroxine (T4 Free)                                                                         119473\n",
      "Total Prostate Specific Ag in Serum or Plasma (PSA, Total)                                       105772\n",
      "Urea (mM)                                                                                         72853\n",
      "Erythrocyte Distribution Width [Entitic Volume] (RDW_SD)                                          66133\n",
      "25-Hydroxycalciferol In Serum or Plasma (VitD2)                                                   39012\n",
      "Direct Bilirubin (DBIL)                                                                           37638\n",
      "Calcium (mM)                                                                                      33078\n",
      "Vitamin B12 (pg/L)                                                                                31401\n",
      "HDL                                                                                               30422\n",
      "Free Triiodothyronine (T3)                                                                        27307\n",
      "Albumin (g/L)                                                                                     24322\n",
      "Glucose Tolerance Test (GTT)                                                                      18152\n",
      "Cholesterol Total/Cholesterol in HDL Ratio (TCh/HDL)                                              15926\n",
      "Albumin in Urine (U-Alb)                                                                          14383\n",
      "Protein, total (g/L)                                                                              14223\n",
      "Phosphorus, inorganic (mM)                                                                        11042\n",
      "Free Prostate Specific Ag Ratio in Serum or Plasma (PSA, F/T Ratio)                                7927\n",
      "Alanine Aminotransferase in Serum or Plasma Without P-5'-P (ALT)                                   6652\n",
      "Free Prostate Specific Ag in Serum or Plasma (PSA, Free)                                           6474\n",
      "Hepatitis B virus surface Ab [Units/volume] in Serum (HBsAb_Units)                                 5969\n",
      "Carcinoembryonic Ag (CEA)                                                                          5249\n",
      "Creatinine in 24 hour Urine (U-Cr24)                                                               2954\n",
      "Total Choriogonadotropin in Serum or Plasma (HCG, Total)                                           2411\n",
      "Cholecalciferol in Serum or Plasma (VitD3)                                                         2257\n",
      "Indirect Bilirubin (IBIL)                                                                          1391\n",
      "Alpha 1 Antitrypsin (A1AT)                                                                         1372\n",
      "Folate (nM)                                                                                         902\n",
      "Choriogonadotropin Beta Subunit in Serum or Plasma (BHCG)                                           853\n",
      "Alanine Aminotransferase in Serum or Plasma With P-5'-P (ALT)                                       485\n",
      "Total Thyroxine (T4 Total)                                                                          459\n",
      "Hepatitis B virus surface Ab [Units/volume] in Serum or Plasma by Immunoassay                       364\n",
      "Total Triiodothyronine (TT3)                                                                        278\n",
      "MICROALBUMIN                                                                                        260\n",
      "Platelets Counts in Blood (PLT)                                                                      83\n",
      "Choriogonadotropin [Units/volume] in Serum or Plasma                                                 40\n",
      "Triiodothyronine (T3) [Moles/volume] in Serum or Plasma                                              34\n",
      "Hepatitis B virus surface Ag [Units/volume] in Serum (HBsAg_Units)                                   20\n",
      "eGFR/GFR                                                                                             18\n",
      "Total Choriogonadotropin [Multiple of the median] in Serum or Plasma (HCG_MoM, Total)                14\n",
      "Total Choriogonadotropin Beta Subunit [Multiple of the median] in Serum or Plasma (BHCG_MoM)         11\n",
      "Hepatitis B virus core Ab [Units/volume] in Serum (HBcAb_Units)                                       9\n",
      "Creatinine (serum)                                                                                    4\n",
      "25-Hydroxycalciferol In Serum Or Plasma (VitD2)                                                       2\n",
      "International Normalized Ratio (INR)                                                                  2\n",
      "Hepatitis B virus e Ab [Units/volume] in Serum (HBeAb_Units)                                          1\n",
      "Total Thyroxine (TT4)                                                                                 1\n",
      "Platelets reticulated/100 platelets in Blood                                                          1\n",
      "Name: Name_calc, dtype: int64\n"
     ]
    }
   ],
   "source": [
    "Lab = Lab.dropna()\n",
    "pd.set_option('display.max_rows', 100)\n",
    "print(Lab['Name_calc'].value_counts(ascending=False))"
   ]
  },
  {
   "cell_type": "markdown",
   "metadata": {},
   "source": [
    "#### Restructure exam sheet to have one result per row"
   ]
  },
  {
   "cell_type": "code",
   "execution_count": 49,
   "metadata": {},
   "outputs": [
    {
     "name": "stdout",
     "output_type": "stream",
     "text": [
      "sBP (mmHg)                  2570192\n",
      "dBP (mmHg)                  2570192\n",
      "Weight (kg)                 1102589\n",
      "BMI (kg/m^2)                 910459\n",
      "Height (cm)                  736942\n",
      "Waist Circumference (cm)     115353\n",
      "PEFR (L/min)                     35\n",
      "Name: Name_calc, dtype: int64\n"
     ]
    }
   ],
   "source": [
    "Exam1 = Exam.drop(columns=['Exam2','Result2_calc']).rename(columns={'Exam1':'Name_calc','Result1_calc':'TestResult_calc'})\n",
    "Exam2 = Exam.drop(columns=['Exam1','Result1_calc']).rename(columns={'Exam2':'Name_calc','Result2_calc':'TestResult_calc'})\n",
    "Exam = pd.concat([Exam1,Exam2]).dropna()\n",
    "print(Exam['Name_calc'].value_counts(ascending=False))"
   ]
  },
  {
   "cell_type": "markdown",
   "metadata": {},
   "source": [
    "## Filter lab and exam results for only relevant types"
   ]
  },
  {
   "cell_type": "code",
   "execution_count": 50,
   "metadata": {},
   "outputs": [],
   "source": [
    "#filter lab results for one of 17 relevant lab results, \n",
    "validTests = ['Alanine Aminotransferase in Serum or Plasma (ALT)',\n",
    "              'Aspartate Aminotransferase in Serum or Plasma (AST)',\n",
    "              'Urea (mM)',\n",
    "              'Plasma Creatinine Clearance (eGFR)',\n",
    "              'Potassium (mM)',\n",
    "              'Sodium (mM)',\n",
    "              'Gamma Glutamyl Transferase in Serum or Plasma (GGT)',\n",
    "              'Leukocytes in Blood (WBC)',\n",
    "              'Protein, total (g/L)',\n",
    "              'Total Cholesterol (TCh)',\n",
    "              'Total Bilirubin (TBIL)',\n",
    "              'Platelets in Blood (PLT)',\n",
    "              'Fasting Blood Glucose (FBG)',\n",
    "              'Hemoglobin (Hb)',\n",
    "              'Erythrocytes in Blood (RBC)',\n",
    "              'Albumin (g/L)',\n",
    "              'Hemoglobin A1c (HbA1c)',\n",
    "              'BMI (kg/m^2)']\n",
    "Lab = Lab.loc[Lab.Name_calc.isin(validTests)]\n",
    "Exam = Exam.loc[Exam.Name_calc.isin(validTests)]"
   ]
  },
  {
   "cell_type": "markdown",
   "metadata": {},
   "source": [
    "#### Merge chosen lab and exam results into combined Results df"
   ]
  },
  {
   "cell_type": "code",
   "execution_count": 51,
   "metadata": {},
   "outputs": [],
   "source": [
    "#reorder and rename columns before merge\n",
    "Exam = Exam.rename(columns={'DateCreated':'PerformedDate'})\n",
    "Exam = Exam[Exam.columns[[0,4,1,2,3]]]"
   ]
  },
  {
   "cell_type": "code",
   "execution_count": 53,
   "metadata": {},
   "outputs": [],
   "source": [
    "Results = pd.concat([Lab,Exam])"
   ]
  },
  {
   "cell_type": "markdown",
   "metadata": {},
   "source": [
    "## Filter results to only include tests done after diabetes diagnosis"
   ]
  },
  {
   "cell_type": "code",
   "execution_count": 58,
   "metadata": {},
   "outputs": [
    {
     "data": {
      "text/html": [
       "<div>\n",
       "<style scoped>\n",
       "    .dataframe tbody tr th:only-of-type {\n",
       "        vertical-align: middle;\n",
       "    }\n",
       "\n",
       "    .dataframe tbody tr th {\n",
       "        vertical-align: top;\n",
       "    }\n",
       "\n",
       "    .dataframe thead th {\n",
       "        text-align: right;\n",
       "    }\n",
       "</style>\n",
       "<table border=\"1\" class=\"dataframe\">\n",
       "  <thead>\n",
       "    <tr style=\"text-align: right;\">\n",
       "      <th></th>\n",
       "      <th>Patient_ID</th>\n",
       "      <th>DateOfOnset</th>\n",
       "    </tr>\n",
       "  </thead>\n",
       "  <tbody>\n",
       "    <tr>\n",
       "      <th>126536</th>\n",
       "      <td>8080013258526</td>\n",
       "      <td>1980-01-01</td>\n",
       "    </tr>\n",
       "    <tr>\n",
       "      <th>251187</th>\n",
       "      <td>8080013270666</td>\n",
       "      <td>1980-01-01</td>\n",
       "    </tr>\n",
       "    <tr>\n",
       "      <th>233142</th>\n",
       "      <td>8080613254084</td>\n",
       "      <td>1980-01-01</td>\n",
       "    </tr>\n",
       "    <tr>\n",
       "      <th>126857</th>\n",
       "      <td>8080013256071</td>\n",
       "      <td>1980-01-01</td>\n",
       "    </tr>\n",
       "    <tr>\n",
       "      <th>126524</th>\n",
       "      <td>8080013215551</td>\n",
       "      <td>1980-01-01</td>\n",
       "    </tr>\n",
       "  </tbody>\n",
       "</table>\n",
       "</div>"
      ],
      "text/plain": [
       "           Patient_ID DateOfOnset\n",
       "126536  8080013258526  1980-01-01\n",
       "251187  8080013270666  1980-01-01\n",
       "233142  8080613254084  1980-01-01\n",
       "126857  8080013256071  1980-01-01\n",
       "126524  8080013215551  1980-01-01"
      ]
     },
     "execution_count": 58,
     "metadata": {},
     "output_type": "execute_result"
    }
   ],
   "source": [
    "#order Diabetes patients results and only keep earliest diagnosis\n",
    "DiseaseCase['DateOfOnset'] = pd.to_datetime(DiseaseCase.DateOfOnset,format='%Y-%m-%d')\n",
    "DiseaseCase = DiseaseCase.sort_values(by='DateOfOnset')\n",
    "#only keep earliest diagnosis\n",
    "DiseaseCase = DiseaseCase.drop_duplicates(['Patient_ID'])\n",
    "#reassign series of diabetes patient IDs\n",
    "DiseaseCase.head()"
   ]
  },
  {
   "cell_type": "code",
   "execution_count": 69,
   "metadata": {},
   "outputs": [],
   "source": [
    "#ensure data column is in correct format\n",
    "Results.PerformedDate = pd.to_datetime(Results.PerformedDate,format='%Y-%m-%d')\n",
    "#merge Results and DiseaseCase dfs for date comparison\n",
    "Results = pd.merge(Results, DiseaseCase, on='Patient_ID')"
   ]
  },
  {
   "cell_type": "code",
   "execution_count": 71,
   "metadata": {},
   "outputs": [],
   "source": [
    "Results = Results.loc[Results.PerformedDate > Results.DateOfOnset]"
   ]
  },
  {
   "cell_type": "markdown",
   "metadata": {},
   "source": [
    "#### make test result values numerical, drop rows with null entries"
   ]
  },
  {
   "cell_type": "code",
   "execution_count": 75,
   "metadata": {},
   "outputs": [],
   "source": [
    "Results.TestResult_calc = pd.to_numeric(Results.TestResult_calc,errors='coerce')\n",
    "Results = Results.dropna()"
   ]
  },
  {
   "cell_type": "markdown",
   "metadata": {},
   "source": [
    "### Check that all units are consistent in test values"
   ]
  },
  {
   "cell_type": "code",
   "execution_count": 76,
   "metadata": {},
   "outputs": [
    {
     "name": "stdout",
     "output_type": "stream",
     "text": [
      "Alanine Aminotransferase in Serum or Plasma (ALT)  -  ['U/L']\n",
      "Aspartate Aminotransferase in Serum or Plasma (AST)  -  ['U/L']\n",
      "Urea (mM)  -  ['mmol/L']\n",
      "Plasma Creatinine Clearance (eGFR)  -  ['mL/min']\n",
      "Potassium (mM)  -  ['mmol/L']\n",
      "Sodium (mM)  -  ['mmol/L']\n",
      "Gamma Glutamyl Transferase in Serum or Plasma (GGT)  -  ['U/L']\n",
      "Leukocytes in Blood (WBC)  -  ['10^9/L']\n",
      "Protein, total (g/L)  -  ['g/L']\n",
      "Total Cholesterol (TCh)  -  ['mmol/L']\n",
      "Total Bilirubin (TBIL)  -  ['umol/L' 'mg/L']\n",
      "Platelets in Blood (PLT)  -  ['10^9/L']\n",
      "Fasting Blood Glucose (FBG)  -  ['mmol/L']\n",
      "Hemoglobin (Hb)  -  ['g/L' 'mmol/L']\n",
      "Erythrocytes in Blood (RBC)  -  ['10^12/L']\n",
      "Albumin (g/L)  -  ['g/L']\n",
      "Hemoglobin A1c (HbA1c)  -  ['%']\n",
      "BMI (kg/m^2)  -  ['kg/m^2']\n"
     ]
    }
   ],
   "source": [
    "for test in validTests:\n",
    "    units = Results.loc[Results.Name_calc == test].UnitOfMeasure_calc.unique()\n",
    "    print(test, ' - ', units)"
   ]
  },
  {
   "cell_type": "code",
   "execution_count": 84,
   "metadata": {},
   "outputs": [],
   "source": [
    "#remove vast minority units (mg/L for Total Bilirubin (n = 40) and mmol/L for Hemoglobin (n = 10))\n",
    "badIndices = Results.loc[(Results.Name_calc == 'Total Bilirubin (TBIL)') & (Results.UnitOfMeasure_calc == 'mg/L')].index\n",
    "badIndices2 = Results.loc[(Results.Name_calc == 'Hemoglobin (Hb)') & (Results.UnitOfMeasure_calc == 'mmol/L')].index\n",
    "Results = Results.drop(badIndices)\n",
    "Results = Results.drop(badIndices2)"
   ]
  },
  {
   "cell_type": "markdown",
   "metadata": {},
   "source": [
    "## Crop data for each result type within range [q1 - IQR, q3+IQR]"
   ]
  },
  {
   "cell_type": "code",
   "execution_count": 90,
   "metadata": {},
   "outputs": [],
   "source": [
    "for test in validTests:\n",
    "    q1 = Results.loc[Results.Name_calc == test].TestResult_calc.quantile(.25)\n",
    "    q3 = Results.loc[Results.Name_calc == test].TestResult_calc.quantile(.75)\n",
    "    rng = q3 - q1\n",
    "    badIndices = Results.loc[(Results.Name_calc == test) & ((Results.TestResult_calc < (q1 - rng)) \n",
    "                                    |(Results.TestResult_calc > (q3 + rng)))].index\n",
    "    Results = Results.drop(badIndices)"
   ]
  },
  {
   "cell_type": "markdown",
   "metadata": {},
   "source": [
    "## Create dataframe of turtile ranges"
   ]
  },
  {
   "cell_type": "code",
   "execution_count": 103,
   "metadata": {},
   "outputs": [],
   "source": [
    "names = pd.Series(validTests)\n",
    "turtile1 = []\n",
    "turtile2 = []\n",
    "for test in validTests:\n",
    "    turtile1.append(Results.loc[Results.Name_calc == test].TestResult_calc.quantile(0.3333))\n",
    "    turtile2.append(Results.loc[Results.Name_calc == test].TestResult_calc.quantile(0.6667))\n",
    "t1 = pd.Series(turtile1)\n",
    "t2 = pd.Series(turtile2)\n",
    "TestTurtiles = pd.DataFrame(data = {'TestName' : names, 't1' : t1, 't2' : t2})"
   ]
  }
 ],
 "metadata": {
  "kernelspec": {
   "display_name": "Python 3",
   "language": "python",
   "name": "python3"
  },
  "language_info": {
   "codemirror_mode": {
    "name": "ipython",
    "version": 3
   },
   "file_extension": ".py",
   "mimetype": "text/x-python",
   "name": "python",
   "nbconvert_exporter": "python",
   "pygments_lexer": "ipython3",
   "version": "3.8.7"
  }
 },
 "nbformat": 4,
 "nbformat_minor": 4
}
