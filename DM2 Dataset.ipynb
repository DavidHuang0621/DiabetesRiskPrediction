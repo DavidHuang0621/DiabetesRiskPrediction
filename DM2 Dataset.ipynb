{
 "cells": [
  {
   "cell_type": "code",
   "execution_count": 24,
   "metadata": {},
   "outputs": [
    {
     "name": "stderr",
     "output_type": "stream",
     "text": [
      "/Users/davidhuang/opt/anaconda3/lib/python3.7/site-packages/IPython/core/interactiveshell.py:3058: DtypeWarning: Columns (8,9,10,11,12) have mixed types. Specify dtype option on import or set low_memory=False.\n",
      "  interactivity=interactivity, compiler=compiler, result=result)\n"
     ]
    }
   ],
   "source": [
    "import pandas as pd\n",
    "import numpy as np\n",
    "Billing = pd.read_csv(\"FinalCSVs/Billing.csv\")\n",
    "DiseaseCase = pd.read_csv(\"FinalCSVs/DiseaseCase.csv\")"
   ]
  },
  {
   "cell_type": "code",
   "execution_count": 25,
   "metadata": {},
   "outputs": [
    {
     "name": "stdout",
     "output_type": "stream",
     "text": [
      "20916 3380\n"
     ]
    }
   ],
   "source": [
    "# Compare # of unique DM2 patients in Billing and DiseaseCase\n",
    "diabetes = [\"Diabetes Mellitus (ml)\",\"Diabetes Mellitus\"]\n",
    "DC_dm2 = DiseaseCase.loc[DiseaseCase['Disease'].isin(diabetes)]\n",
    "DC_dm2_id = DC_dm2['Patient_ID'].unique()\n",
    "\n",
    "Billing2 = Billing.dropna(subset=['DiagnosisCode_calc']) # Remove NA\n",
    "Billing2 = Billing2[pd.to_numeric(Billing2.DiagnosisCode_calc,errors='coerce').notnull()] # convert diagnosis codes to floats\n",
    "Billing2['DiagnosisCode_calc'] = pd.to_numeric(Billing2['DiagnosisCode_calc']) # convert diagnosis codes to floats\n",
    "BL_dm2 = Billing2.loc[(Billing2['DiagnosisCode_calc'] >= 250.0) & (Billing2['DiagnosisCode_calc'] < 251.0)] #Extract DM2 diagnosis patients into new dataframe\n",
    "BL_dm2_id = BL_dm2['Patient_ID'].unique()\n",
    "\n",
    "print(len(DC_dm2_id), len(BL_dm2_id)) #print number of unique patients w/ DM2\n",
    "# The unique list of DM2 patients_IDs are stored in the DC_dm2_id variable\n"
   ]
  },
  {
   "cell_type": "code",
   "execution_count": 26,
   "metadata": {},
   "outputs": [
    {
     "data": {
      "text/plain": [
       "250.00    1645\n",
       "250.02    1562\n",
       "250.93     480\n",
       "250.01      64\n",
       "250.70       9\n",
       "250.10       5\n",
       "250.60       1\n",
       "Name: DiagnosisCode_calc, dtype: int64"
      ]
     },
     "execution_count": 26,
     "metadata": {},
     "output_type": "execute_result"
    }
   ],
   "source": [
    "uniqueDM2Diag = BL_dm2.drop_duplicates(subset = ['Patient_ID','DiagnosisCode_calc'])\n",
    "uniqueDM2Diag['DiagnosisCode_calc'].value_counts()\n",
    "# 250.00 = DM2\n",
    "# 250.02 = DM2 w/ without complication\n",
    "# 250.93 = DM1 w/ unspecified condition [juvenile type]\n",
    "# 250.01 = DM1 w/ without complication [juvenile type]\n",
    "# 250.70 = DM2 w/ PCD (PVD)\n",
    "# 250.10 = DM2 w/ Ketoacidosis\n",
    "# 250.60 = DM2 w/ neurological manifestations (neuropathy?)"
   ]
  },
  {
   "cell_type": "code",
   "execution_count": 27,
   "metadata": {},
   "outputs": [
    {
     "name": "stdout",
     "output_type": "stream",
     "text": [
      "44675\n"
     ]
    }
   ],
   "source": [
    "# Complications in our Diabetes population\n",
    "DM2BillingSet = Billing2.loc[Billing2['Patient_ID'].isin(DC_dm2_id)]\n",
    "print(len(DM2BillingSet.index))"
   ]
  },
  {
   "cell_type": "code",
   "execution_count": 28,
   "metadata": {},
   "outputs": [
    {
     "data": {
      "text/html": [
       "<div>\n",
       "<style scoped>\n",
       "    .dataframe tbody tr th:only-of-type {\n",
       "        vertical-align: middle;\n",
       "    }\n",
       "\n",
       "    .dataframe tbody tr th {\n",
       "        vertical-align: top;\n",
       "    }\n",
       "\n",
       "    .dataframe thead th {\n",
       "        text-align: right;\n",
       "    }\n",
       "</style>\n",
       "<table border=\"1\" class=\"dataframe\">\n",
       "  <thead>\n",
       "    <tr style=\"text-align: right;\">\n",
       "      <th></th>\n",
       "      <th>Billing_ID</th>\n",
       "      <th>Network_ID</th>\n",
       "      <th>Site_ID</th>\n",
       "      <th>Patient_ID</th>\n",
       "      <th>Encounter_ID</th>\n",
       "      <th>ServiceDate</th>\n",
       "      <th>ServiceCode</th>\n",
       "      <th>DiagnosisText_orig</th>\n",
       "      <th>DiagnosisText_calc</th>\n",
       "      <th>DiagnosisCodeType_orig</th>\n",
       "      <th>DiagnosisCodeType_calc</th>\n",
       "      <th>DiagnosisCode_orig</th>\n",
       "      <th>DiagnosisCode_calc</th>\n",
       "      <th>DateCreated</th>\n",
       "    </tr>\n",
       "  </thead>\n",
       "  <tbody>\n",
       "    <tr>\n",
       "      <td>531136</td>\n",
       "      <td>1103465</td>\n",
       "      <td>8</td>\n",
       "      <td>8</td>\n",
       "      <td>80080109810</td>\n",
       "      <td>NaN</td>\n",
       "      <td>2016-11-21</td>\n",
       "      <td>8513</td>\n",
       "      <td>NaN</td>\n",
       "      <td>INFECTION BY HISTOPLASMA DUBOISII, WITHOUT MEN...</td>\n",
       "      <td>ICD9</td>\n",
       "      <td>ICD9</td>\n",
       "      <td>11510</td>\n",
       "      <td>115.10</td>\n",
       "      <td>2016-11-21</td>\n",
       "    </tr>\n",
       "    <tr>\n",
       "      <td>1010470</td>\n",
       "      <td>2864826</td>\n",
       "      <td>8</td>\n",
       "      <td>25</td>\n",
       "      <td>80250030745</td>\n",
       "      <td>NaN</td>\n",
       "      <td>2013-09-19</td>\n",
       "      <td>8005</td>\n",
       "      <td>ARTHROT/PROS REMOV-HIP</td>\n",
       "      <td>OSTEOARTHROSIS AND ALLIED DISORDERS</td>\n",
       "      <td>NaN</td>\n",
       "      <td>ICD9</td>\n",
       "      <td>NaN</td>\n",
       "      <td>715.00</td>\n",
       "      <td>2013-09-19</td>\n",
       "    </tr>\n",
       "    <tr>\n",
       "      <td>1010471</td>\n",
       "      <td>2864827</td>\n",
       "      <td>8</td>\n",
       "      <td>25</td>\n",
       "      <td>80250030745</td>\n",
       "      <td>NaN</td>\n",
       "      <td>2013-09-18</td>\n",
       "      <td>8005</td>\n",
       "      <td>ARTHROT/PROS REMOV-HIP</td>\n",
       "      <td>OSTEOARTHROSIS AND ALLIED DISORDERS</td>\n",
       "      <td>NaN</td>\n",
       "      <td>ICD9</td>\n",
       "      <td>NaN</td>\n",
       "      <td>715.00</td>\n",
       "      <td>2013-09-18</td>\n",
       "    </tr>\n",
       "    <tr>\n",
       "      <td>1458507</td>\n",
       "      <td>5713516</td>\n",
       "      <td>8</td>\n",
       "      <td>1</td>\n",
       "      <td>80013241698</td>\n",
       "      <td>7172841.0</td>\n",
       "      <td>2019-02-11</td>\n",
       "      <td>78513</td>\n",
       "      <td>NaN</td>\n",
       "      <td>OTHER MALIGNANT LYMPHOMAS INVOLVING INTRA-ABDO...</td>\n",
       "      <td>ICD9</td>\n",
       "      <td>ICD9</td>\n",
       "      <td>20283</td>\n",
       "      <td>202.83</td>\n",
       "      <td>2019-02-11</td>\n",
       "    </tr>\n",
       "    <tr>\n",
       "      <td>1458508</td>\n",
       "      <td>5713517</td>\n",
       "      <td>8</td>\n",
       "      <td>1</td>\n",
       "      <td>80013241698</td>\n",
       "      <td>7738032.0</td>\n",
       "      <td>2019-02-26</td>\n",
       "      <td>78513</td>\n",
       "      <td>NaN</td>\n",
       "      <td>UNSPECIFIED ESSENTIAL HYPERTENSION</td>\n",
       "      <td>ICD9</td>\n",
       "      <td>ICD9</td>\n",
       "      <td>4019</td>\n",
       "      <td>401.90</td>\n",
       "      <td>2019-02-26</td>\n",
       "    </tr>\n",
       "  </tbody>\n",
       "</table>\n",
       "</div>"
      ],
      "text/plain": [
       "         Billing_ID  Network_ID  Site_ID   Patient_ID  Encounter_ID  \\\n",
       "531136      1103465           8        8  80080109810           NaN   \n",
       "1010470     2864826           8       25  80250030745           NaN   \n",
       "1010471     2864827           8       25  80250030745           NaN   \n",
       "1458507     5713516           8        1  80013241698     7172841.0   \n",
       "1458508     5713517           8        1  80013241698     7738032.0   \n",
       "\n",
       "        ServiceDate ServiceCode      DiagnosisText_orig  \\\n",
       "531136   2016-11-21        8513                     NaN   \n",
       "1010470  2013-09-19        8005  ARTHROT/PROS REMOV-HIP   \n",
       "1010471  2013-09-18        8005  ARTHROT/PROS REMOV-HIP   \n",
       "1458507  2019-02-11       78513                     NaN   \n",
       "1458508  2019-02-26       78513                     NaN   \n",
       "\n",
       "                                        DiagnosisText_calc  \\\n",
       "531136   INFECTION BY HISTOPLASMA DUBOISII, WITHOUT MEN...   \n",
       "1010470                OSTEOARTHROSIS AND ALLIED DISORDERS   \n",
       "1010471                OSTEOARTHROSIS AND ALLIED DISORDERS   \n",
       "1458507  OTHER MALIGNANT LYMPHOMAS INVOLVING INTRA-ABDO...   \n",
       "1458508                 UNSPECIFIED ESSENTIAL HYPERTENSION   \n",
       "\n",
       "        DiagnosisCodeType_orig DiagnosisCodeType_calc DiagnosisCode_orig  \\\n",
       "531136                    ICD9                   ICD9              11510   \n",
       "1010470                    NaN                   ICD9                NaN   \n",
       "1010471                    NaN                   ICD9                NaN   \n",
       "1458507                   ICD9                   ICD9              20283   \n",
       "1458508                   ICD9                   ICD9               4019   \n",
       "\n",
       "         DiagnosisCode_calc DateCreated  \n",
       "531136               115.10  2016-11-21  \n",
       "1010470              715.00  2013-09-19  \n",
       "1010471              715.00  2013-09-18  \n",
       "1458507              202.83  2019-02-11  \n",
       "1458508              401.90  2019-02-26  "
      ]
     },
     "execution_count": 28,
     "metadata": {},
     "output_type": "execute_result"
    }
   ],
   "source": [
    "DM2BillingSet.head()"
   ]
  },
  {
   "cell_type": "code",
   "execution_count": 55,
   "metadata": {},
   "outputs": [],
   "source": [
    "## The 10 Complications\n",
    "DM2 = [float(item/100) for item in range(25000,25100)]\n",
    "AP = [float(item/100) for item in range(41300,41400)] # http://www.icd9data.com/2013/Volume1/390-459/410-414/413/default.htm\n",
    "AS = [float(item/100) for item in range(44000,44100)] # http://www.icd9data.com/2012/Volume1/390-459/440-449/440/default.htm\n",
    "ICHD = [float(item/100) for item in range(41400,41500)] # http://www.icd9data.com/2015/Volume1/390-459/410-414/414/default.htm\n",
    "DD = [311] # http://www.icd9data.com/2012/Volume1/290-319/300-316/311/default.htm\n",
    "DNP = [float(item/100) for item in range(58500,58600)]\n",
    "DNP.append(581.81) # include 250.4? http://www.icd9data.com/2012/Volume1/580-629/580-589/585/default.htm\n",
    "DNU = [float(item/100) for item in range(35700,35800)] # include 250.6? 357.2 is the exact code http://www.icd9data.com/2012/Volume1/320-389/350-359/357/default.htm \n",
    "DR = [float(item/100) for item in range(36200,36210)] # http://www.icd9data.com/2015/Volume1/320-389/360-379/362/default.htm\n",
    "HL = [389.9] #http://www.icd9data.com/2012/Volume1/320-389/380-389/389/default.htm\n",
    "MI = [float(item/100) for item in range(41000,41100)] #http://www.icd9data.com/2014/Volume1/390-459/410-414/410/default.htm\n",
    "PVD = [float(item/100) for item in range(43300,43400)] #http://www.icd9data.com/2013/Volume1/390-459/440-449/443/default.htm\n",
    "complications = AP + AS + ICHD + DD + DNU + DNP +DR + HL + MI + PVD + DM2"
   ]
  },
  {
   "cell_type": "code",
   "execution_count": 56,
   "metadata": {},
   "outputs": [],
   "source": [
    "complicationDF = DM2BillingSet.loc[DM2BillingSet['DiagnosisCode_calc'].isin(complications)]\n",
    "complicationDF = complicationDF.drop_duplicates(subset = ['Patient_ID', 'DiagnosisCode_calc'])"
   ]
  },
  {
   "cell_type": "code",
   "execution_count": 57,
   "metadata": {},
   "outputs": [
    {
     "data": {
      "text/plain": [
       "250.00    1634\n",
       "250.02    1557\n",
       "250.93     480\n",
       "311.00     334\n",
       "414.00     305\n",
       "250.01      63\n",
       "414.90      54\n",
       "585.90      47\n",
       "357.90      26\n",
       "413.90      22\n",
       "389.90      15\n",
       "250.70       9\n",
       "410.90       7\n",
       "440.90       6\n",
       "440.21       5\n",
       "250.10       4\n",
       "585.60       4\n",
       "433.10       3\n",
       "414.80       2\n",
       "250.60       1\n",
       "Name: DiagnosisCode_calc, dtype: int64"
      ]
     },
     "execution_count": 57,
     "metadata": {},
     "output_type": "execute_result"
    }
   ],
   "source": [
    "complicationDF['DiagnosisCode_calc'].value_counts()"
   ]
  },
  {
   "cell_type": "code",
   "execution_count": 64,
   "metadata": {},
   "outputs": [
    {
     "name": "stdout",
     "output_type": "stream",
     "text": [
      "15\n",
      "85\n",
      "724\n",
      "2815\n"
     ]
    }
   ],
   "source": [
    "print(sum(complicationDF['Patient_ID'].value_counts() == 4)) # 15 patients have 4 complications \n",
    "print(sum(complicationDF['Patient_ID'].value_counts() == 3)) # 85 patients have 3 complications\n",
    "print(sum(complicationDF['Patient_ID'].value_counts() == 2)) # 724 pateints have 2 complications\n",
    "print(sum(complicationDF['Patient_ID'].value_counts() == 1)) # 2815 have just 1 complication\n",
    "#print(complicationDF['Patient_ID'].value_counts() == 4)"
   ]
  },
  {
   "cell_type": "code",
   "execution_count": 67,
   "metadata": {},
   "outputs": [
    {
     "data": {
      "text/html": [
       "<div>\n",
       "<style scoped>\n",
       "    .dataframe tbody tr th:only-of-type {\n",
       "        vertical-align: middle;\n",
       "    }\n",
       "\n",
       "    .dataframe tbody tr th {\n",
       "        vertical-align: top;\n",
       "    }\n",
       "\n",
       "    .dataframe thead th {\n",
       "        text-align: right;\n",
       "    }\n",
       "</style>\n",
       "<table border=\"1\" class=\"dataframe\">\n",
       "  <thead>\n",
       "    <tr style=\"text-align: right;\">\n",
       "      <th></th>\n",
       "      <th>Billing_ID</th>\n",
       "      <th>Network_ID</th>\n",
       "      <th>Site_ID</th>\n",
       "      <th>Patient_ID</th>\n",
       "      <th>Encounter_ID</th>\n",
       "      <th>ServiceDate</th>\n",
       "      <th>ServiceCode</th>\n",
       "      <th>DiagnosisText_orig</th>\n",
       "      <th>DiagnosisText_calc</th>\n",
       "      <th>DiagnosisCodeType_orig</th>\n",
       "      <th>DiagnosisCodeType_calc</th>\n",
       "      <th>DiagnosisCode_orig</th>\n",
       "      <th>DiagnosisCode_calc</th>\n",
       "      <th>DateCreated</th>\n",
       "    </tr>\n",
       "  </thead>\n",
       "  <tbody>\n",
       "    <tr>\n",
       "      <td>1812884</td>\n",
       "      <td>5769772</td>\n",
       "      <td>8</td>\n",
       "      <td>61</td>\n",
       "      <td>80613312481</td>\n",
       "      <td>7526395.0</td>\n",
       "      <td>2019-02-11</td>\n",
       "      <td>78005</td>\n",
       "      <td>NaN</td>\n",
       "      <td>TYPE II DIABETES MELLITUS [NON-INSULIN DEPENDE...</td>\n",
       "      <td>ICD9</td>\n",
       "      <td>ICD9</td>\n",
       "      <td>25002</td>\n",
       "      <td>250.02</td>\n",
       "      <td>2019-02-11</td>\n",
       "    </tr>\n",
       "    <tr>\n",
       "      <td>1812885</td>\n",
       "      <td>5769773</td>\n",
       "      <td>8</td>\n",
       "      <td>61</td>\n",
       "      <td>80613312481</td>\n",
       "      <td>7533012.0</td>\n",
       "      <td>2019-03-01</td>\n",
       "      <td>78529</td>\n",
       "      <td>NaN</td>\n",
       "      <td>DIABETES MELLITUS TYPE I [INSULIN DEPENDENT TY...</td>\n",
       "      <td>ICD9</td>\n",
       "      <td>ICD9</td>\n",
       "      <td>25093</td>\n",
       "      <td>250.93</td>\n",
       "      <td>2019-03-01</td>\n",
       "    </tr>\n",
       "    <tr>\n",
       "      <td>1812888</td>\n",
       "      <td>5769776</td>\n",
       "      <td>8</td>\n",
       "      <td>61</td>\n",
       "      <td>80613312481</td>\n",
       "      <td>7840247.0</td>\n",
       "      <td>2019-03-26</td>\n",
       "      <td>78005</td>\n",
       "      <td>NaN</td>\n",
       "      <td>CORONARY ATHEROSCLEROSIS OF UNSPECIFIED TYPE O...</td>\n",
       "      <td>ICD9</td>\n",
       "      <td>ICD9</td>\n",
       "      <td>41400</td>\n",
       "      <td>414.00</td>\n",
       "      <td>2019-04-01</td>\n",
       "    </tr>\n",
       "    <tr>\n",
       "      <td>1812916</td>\n",
       "      <td>5769779</td>\n",
       "      <td>8</td>\n",
       "      <td>61</td>\n",
       "      <td>80613312481</td>\n",
       "      <td>7058504.0</td>\n",
       "      <td>2019-06-19</td>\n",
       "      <td>78529</td>\n",
       "      <td>NaN</td>\n",
       "      <td>CHRONIC KIDNEY DISEASE, UNSPECIFIED</td>\n",
       "      <td>ICD9</td>\n",
       "      <td>ICD9</td>\n",
       "      <td>5859</td>\n",
       "      <td>585.90</td>\n",
       "      <td>2019-06-19</td>\n",
       "    </tr>\n",
       "  </tbody>\n",
       "</table>\n",
       "</div>"
      ],
      "text/plain": [
       "         Billing_ID  Network_ID  Site_ID   Patient_ID  Encounter_ID  \\\n",
       "1812884     5769772           8       61  80613312481     7526395.0   \n",
       "1812885     5769773           8       61  80613312481     7533012.0   \n",
       "1812888     5769776           8       61  80613312481     7840247.0   \n",
       "1812916     5769779           8       61  80613312481     7058504.0   \n",
       "\n",
       "        ServiceDate ServiceCode DiagnosisText_orig  \\\n",
       "1812884  2019-02-11       78005                NaN   \n",
       "1812885  2019-03-01       78529                NaN   \n",
       "1812888  2019-03-26       78005                NaN   \n",
       "1812916  2019-06-19       78529                NaN   \n",
       "\n",
       "                                        DiagnosisText_calc  \\\n",
       "1812884  TYPE II DIABETES MELLITUS [NON-INSULIN DEPENDE...   \n",
       "1812885  DIABETES MELLITUS TYPE I [INSULIN DEPENDENT TY...   \n",
       "1812888  CORONARY ATHEROSCLEROSIS OF UNSPECIFIED TYPE O...   \n",
       "1812916                CHRONIC KIDNEY DISEASE, UNSPECIFIED   \n",
       "\n",
       "        DiagnosisCodeType_orig DiagnosisCodeType_calc DiagnosisCode_orig  \\\n",
       "1812884                   ICD9                   ICD9              25002   \n",
       "1812885                   ICD9                   ICD9              25093   \n",
       "1812888                   ICD9                   ICD9              41400   \n",
       "1812916                   ICD9                   ICD9               5859   \n",
       "\n",
       "         DiagnosisCode_calc DateCreated  \n",
       "1812884              250.02  2019-02-11  \n",
       "1812885              250.93  2019-03-01  \n",
       "1812888              414.00  2019-04-01  \n",
       "1812916              585.90  2019-06-19  "
      ]
     },
     "execution_count": 67,
     "metadata": {},
     "output_type": "execute_result"
    }
   ],
   "source": [
    "# Example patient with visits for each complication diagnosis\n",
    "complicationDF[complicationDF['Patient_ID'] == 80613312481]"
   ]
  },
  {
   "cell_type": "code",
   "execution_count": null,
   "metadata": {},
   "outputs": [],
   "source": []
  }
 ],
 "metadata": {
  "kernelspec": {
   "display_name": "Python 3",
   "language": "python",
   "name": "python3"
  },
  "language_info": {
   "codemirror_mode": {
    "name": "ipython",
    "version": 3
   },
   "file_extension": ".py",
   "mimetype": "text/x-python",
   "name": "python",
   "nbconvert_exporter": "python",
   "pygments_lexer": "ipython3",
   "version": "3.7.4"
  },
  "toc": {
   "base_numbering": 1,
   "nav_menu": {},
   "number_sections": false,
   "sideBar": false,
   "skip_h1_title": false,
   "title_cell": "Table of Contents",
   "title_sidebar": "Contents",
   "toc_cell": false,
   "toc_position": {},
   "toc_section_display": false,
   "toc_window_display": false
  }
 },
 "nbformat": 4,
 "nbformat_minor": 2
}
