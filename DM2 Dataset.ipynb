{
 "cells": [
  {
   "cell_type": "code",
   "execution_count": 1,
   "metadata": {},
   "outputs": [],
   "source": [
    "import pandas as pd\n",
    "Billing = pd.read_csv(\"FinalCSVs/Billing.csv\")\n",
    "DiseaseCase = pd.read_csv(\"FinalCSVs/DiseaseCase.csv\")"
   ]
  },
  {
   "cell_type": "code",
   "execution_count": null,
   "metadata": {},
   "outputs": [],
   "source": [
    "# Compare # of unique DM2 patients in Billing and DiseaseCase\n",
    "diabetes = [\"Diabetes Mellitus (ml)\",\"Diabetes Mellitus\"]\n",
    "DC_dm2 = DiseaseCase.loc[DiseaseCase['Disease'].isin(diabetes)]\n",
    "DC_dm2_id = DC_dm2['Patient_ID'].unique()\n",
    "\n",
    "Billing2 = Billing.dropna(subset=['DiagnosisCode_calc'])\n",
    "Billing2 = Billing2[pd.to_numeric(Billing2.DiagnosisCode_calc,errors='coerce').notnull()]\n",
    "Billing2['DiagnosisCode_calc'] = pd.to_numeric(Billing2['DiagnosisCode_calc'])\n",
    "BL_dm2 = Billing2.loc[(Billing2['DiagnosisCode_calc'] >= 250.0) & (Billing2['DiagnosisCode_calc'] < 251.0)]\n",
    "BL_dm2_id = BL_dm2['Patient_ID'].unique()\n",
    "\n",
    "print(len(DC_dm2_id), len(BL_dm2_id)) \n",
    "# The unique list of DM2 patients_IDs are stored in the DC_dm2_id variable\n"
   ]
  },
  {
   "cell_type": "code",
   "execution_count": null,
   "metadata": {},
   "outputs": [],
   "source": []
  }
 ],
 "metadata": {
  "kernelspec": {
   "display_name": "Python 3",
   "language": "python",
   "name": "python3"
  },
  "language_info": {
   "codemirror_mode": {
    "name": "ipython",
    "version": 3
   },
   "file_extension": ".py",
   "mimetype": "text/x-python",
   "name": "python",
   "nbconvert_exporter": "python",
   "pygments_lexer": "ipython3",
   "version": "3.7.4"
  },
  "toc": {
   "base_numbering": 1,
   "nav_menu": {},
   "number_sections": false,
   "sideBar": false,
   "skip_h1_title": false,
   "title_cell": "Table of Contents",
   "title_sidebar": "Contents",
   "toc_cell": false,
   "toc_position": {},
   "toc_section_display": false,
   "toc_window_display": false
  }
 },
 "nbformat": 4,
 "nbformat_minor": 2
}
