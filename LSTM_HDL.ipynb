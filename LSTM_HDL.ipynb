{
 "cells": [
  {
   "cell_type": "code",
   "execution_count": 3,
   "id": "quiet-member",
   "metadata": {},
   "outputs": [],
   "source": [
    "import tensorflow as tf\n",
    "from tensorflow.keras.models import Sequential\n",
    "import pandas as pd\n",
    "import numpy as np\n",
    "from numpy import array\n",
    "from tensorflow.keras.layers import Dense\n",
    "from tensorflow.keras.layers import LSTM\n",
    "import matplotlib.pyplot as plt\n",
    "from sklearn.model_selection import train_test_split"
   ]
  },
  {
   "cell_type": "code",
   "execution_count": null,
   "id": "successful-breed",
   "metadata": {},
   "outputs": [
    {
     "name": "stdout",
     "output_type": "stream",
     "text": [
      "            Patient_ID PerformedDate  Lipids_Res                  Name_calc\n",
      "1431297  1000100166298    2017-10-19        67.0  Cholesterol in HDL (HDLc)\n",
      "1431298  1000100165244    2016-10-14       112.0  Cholesterol in HDL (HDLc)\n",
      "1431299  1000100164719    2014-03-18       168.0  Cholesterol in HDL (HDLc)\n",
      "1431300  1000100164439    2014-01-17        98.0  Cholesterol in HDL (HDLc)\n",
      "1431301  1000100415873    2018-04-30        69.0  Cholesterol in HDL (HDLc)\n",
      "...                ...           ...         ...                        ...\n",
      "2410640  4000000679820    2017-03-24        14.0  Cholesterol in HDL (HDLc)\n",
      "2410641  4000000679820    2018-03-22       139.0  Cholesterol in HDL (HDLc)\n",
      "2410642  4000000679820    2018-08-10       123.0  Cholesterol in HDL (HDLc)\n",
      "2410643  4000000679414    2015-02-09        99.0  Cholesterol in HDL (HDLc)\n",
      "2410644  4000000680009    2017-05-12       144.0  Cholesterol in HDL (HDLc)\n",
      "\n",
      "[948130 rows x 4 columns]\n"
     ]
    }
   ],
   "source": [
    "data = pd.read_csv(\"~/PycharmProjects/Diabetes/finalNew.csv\", sep=',')\n",
    "Cholesterol_data = data[['Patient_ID', 'PerformedDate', 'Lipids_Res', 'Name_calc']]\n",
    "Cholesterol_data = Cholesterol_data[Cholesterol_data['Name_calc'] == 'Cholesterol in HDL (HDLc)']\n",
    "print(Cholesterol_data)\n",
    "Cholesterol_data = Cholesterol_data.dropna()\n",
    "\n",
    "Cholesterol_data = Cholesterol_data.sort_values(by='PerformedDate', ascending=True)\n",
    "\n",
    "grouped_patients = Cholesterol_data.groupby(\"Patient_ID\")\n",
    "grouped_lists = grouped_patients[\"Lipids_Res\"].apply(list)\n",
    "grouped_lists = grouped_lists.reset_index()\n",
    "grouped_lists['Lipids_Res'] = grouped_lists['Lipids_Res'].apply(lambda x: list(set(x)))\n",
    "data = grouped_lists[['Lipids_Res']]\n",
    "print(data)"
   ]
  },
  {
   "cell_type": "code",
   "execution_count": null,
   "id": "wireless-jacksonville",
   "metadata": {},
   "outputs": [],
   "source": []
  }
 ],
 "metadata": {
  "kernelspec": {
   "display_name": "Python 3",
   "language": "python",
   "name": "python3"
  },
  "language_info": {
   "codemirror_mode": {
    "name": "ipython",
    "version": 3
   },
   "file_extension": ".py",
   "mimetype": "text/x-python",
   "name": "python",
   "nbconvert_exporter": "python",
   "pygments_lexer": "ipython3",
   "version": "3.7.9"
  }
 },
 "nbformat": 4,
 "nbformat_minor": 5
}
